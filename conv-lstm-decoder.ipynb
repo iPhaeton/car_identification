{
 "cells": [
  {
   "cell_type": "code",
   "execution_count": null,
   "metadata": {},
   "outputs": [],
   "source": [
    "import numpy as np\n",
    "import tensorflow as tf\n",
    "import keras\n",
    "from keras.layers import Input, LSTM, Dense, BatchNormalization, Dropout\n",
    "from keras.models import Model\n",
    "from matplotlib import pyplot as plt\n",
    "from IPython.display import clear_output\n",
    "from modules.lstm_decoder import LSTMDecoder\n",
    "from modules.plot_losses import PlotLosses"
   ]
  },
  {
   "cell_type": "markdown",
   "metadata": {},
   "source": [
    "## Data"
   ]
  },
  {
   "cell_type": "code",
   "execution_count": null,
   "metadata": {},
   "outputs": [],
   "source": [
    "features_train = np.load('./features/lstm/encoded/features_train.npy')\n",
    "features_dev = np.load('./features/lstm/encoded/features_dev.npy')\n",
    "indices_train = np.load('./features/lstm/2_steps/indices_train.npy')\n",
    "indices_dev = np.load('./features/lstm/2_steps/indices_dev.npy')\n",
    "classes_train = np.load('./features/res_net/classes_train_make-model.npy')[indices_train]\n",
    "classes_dev = np.load('./features/res_net/classes_dev_make-model.npy')[indices_dev]"
   ]
  },
  {
   "cell_type": "code",
   "execution_count": null,
   "metadata": {},
   "outputs": [],
   "source": [
    "print(features_train.shape)\n",
    "print(features_dev.shape)\n",
    "print(classes_train.shape)\n",
    "print(classes_dev.shape)"
   ]
  },
  {
   "cell_type": "markdown",
   "metadata": {},
   "source": [
    "## Training"
   ]
  },
  {
   "cell_type": "code",
   "execution_count": null,
   "metadata": {},
   "outputs": [],
   "source": [
    "decoder = LSTMDecoder(features_train, classes_train, features_dev, classes_dev, weights_path='./convnet_weights/lstm/decoder_lstm/weights.36-1.27.hdf5')"
   ]
  },
  {
   "cell_type": "code",
   "execution_count": null,
   "metadata": {},
   "outputs": [],
   "source": [
    "plot_losses = PlotLosses()\n",
    "checkpoint = keras.callbacks.ModelCheckpoint(\n",
    "    './convnet_weights/lstm/weights.{epoch:02d}-{val_loss:.2f}.hdf5', \n",
    "    monitor='val_loss',\n",
    "    verbose=0, \n",
    "    save_best_only=False, \n",
    "    save_weights_only=True, \n",
    "    mode='auto', \n",
    "    period=1,\n",
    ")"
   ]
  },
  {
   "cell_type": "code",
   "execution_count": null,
   "metadata": {},
   "outputs": [],
   "source": [
    "decoder.train(100, [plot_losses, checkpoint])"
   ]
  },
  {
   "cell_type": "markdown",
   "metadata": {},
   "source": [
    "## LSTM"
   ]
  },
  {
   "cell_type": "code",
   "execution_count": null,
   "metadata": {},
   "outputs": [],
   "source": [
    "inputs = Input(shape=input_shape)\n",
    "X = BatchNormalization()(inputs)\n",
    "X = LSTM(1024)(X)\n",
    "outputs = Dense(output_shape, activation='softmax')(X)\n",
    "\n",
    "model = Model(inputs=inputs, outputs=outputs)\n",
    "model.summary()"
   ]
  },
  {
   "cell_type": "markdown",
   "metadata": {},
   "source": [
    "## Dense"
   ]
  },
  {
   "cell_type": "code",
   "execution_count": null,
   "metadata": {},
   "outputs": [],
   "source": [
    "features_train_dense = np.concatenate([features_train[:, 0, :], features_train[:, 1, :]], axis=1)\n",
    "features_dev_dense = np.concatenate([features_dev[:, 0, :], features_dev[:, 1, :]], axis=1)"
   ]
  },
  {
   "cell_type": "code",
   "execution_count": null,
   "metadata": {},
   "outputs": [],
   "source": [
    "inputs = Input(shape=[features_train_dense.shape[1]])\n",
    "X = BatchNormalization()(inputs)\n",
    "X = Dense(2048, activation='relu')(X)\n",
    "outputs = Dense(output_shape, activation='softmax')(X)\n",
    "\n",
    "model = Model(inputs=inputs, outputs=outputs)\n",
    "model.summary()"
   ]
  },
  {
   "cell_type": "code",
   "execution_count": null,
   "metadata": {},
   "outputs": [],
   "source": [
    "model.compile(\n",
    "    optimizer=tf.train.AdamOptimizer(0.000001),\n",
    "    loss='categorical_crossentropy',\n",
    "    metrics=['categorical_accuracy'],\n",
    ")\n",
    "\n",
    "model.load_weights('./convnet_weights/lstm/weights.37-1.27.hdf5')"
   ]
  },
  {
   "cell_type": "code",
   "execution_count": null,
   "metadata": {},
   "outputs": [],
   "source": [
    "model.fit(\n",
    "    features_train_dense,\n",
    "    classes_train,\n",
    "    batch_size=128,\n",
    "    epochs=100,\n",
    "    verbose=True,\n",
    "    callbacks=[plot_losses, checkpoint],\n",
    "    validation_data=(features_dev_dense, classes_dev)\n",
    ")"
   ]
  }
 ],
 "metadata": {
  "kernelspec": {
   "display_name": "Python 3",
   "language": "python",
   "name": "python3"
  },
  "language_info": {
   "codemirror_mode": {
    "name": "ipython",
    "version": 3
   },
   "file_extension": ".py",
   "mimetype": "text/x-python",
   "name": "python",
   "nbconvert_exporter": "python",
   "pygments_lexer": "ipython3",
   "version": "3.6.3"
  }
 },
 "nbformat": 4,
 "nbformat_minor": 2
}
