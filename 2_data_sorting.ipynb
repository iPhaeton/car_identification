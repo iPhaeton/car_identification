{
 "cells": [
  {
   "cell_type": "code",
   "execution_count": null,
   "metadata": {},
   "outputs": [],
   "source": [
    "import os\n",
    "from sklearn.model_selection import train_test_split\n",
    "from shutil import copyfile\n",
    "import numpy as np"
   ]
  },
  {
   "cell_type": "code",
   "execution_count": null,
   "metadata": {},
   "outputs": [],
   "source": [
    "exclude = np.array([\n",
    "    'Acura RLX Sedan 2012',\n",
    "    'Acura ILX Sedan 2012',\n",
    "    'Toyota Vitz Hatchback 2013',\n",
    "    'Mercedes-Benz M-Class SUV 2012',\n",
    "    'Acura TSX Wagon 2012',\n",
    "    'Acura MDX SUV 2018',\n",
    "    'Aston_Martin DB9 Cabriolet 2012',\n",
    "    'Audi 80 Sedan 1989',\n",
    "    'Audi 80 Sedan 1994',\n",
    "    'Audi 100 Sedan 1991',\n",
    "    'Audi A8 Sedan 2001',\n",
    "    'Subaru Legacy Wagon 1992',\n",
    "    'Audi 80 Wagon 1994',\n",
    "    'Audi 100 Wagon 1991',\n",
    "    'Audi A4 Wagon 1998',\n",
    "    'Audi A4 Wagon 2004',\n",
    "    'Audi A6 Wagon 2002',\n",
    "    'Audi A3 Convertible 2012',\n",
    "    'Cadillac Seville Sedan 1994',\n",
    "    'BMW 1_Series Hatchback 2014',\n",
    "    'BMW 3_Series_1 Wagon 2004',\n",
    "    'BMW 3_Series_2 Convertible 2012',\n",
    "    'BMW 5_Series Wagon 2012',\n",
    "    'BMW 7_Series Sedan 2012',\n",
    "    'BMW M3 Sedan 2012',\n",
    "    'BMW 6_Series Coupe 2010 M6',\n",
    "    'Buick Rendezvous SUV 2003',\n",
    "    'Opel Astra Sedan 2012',\n",
    "    'Chevrolet Cobalt_SS Sedan 2010',\n",
    "    'Chevrolet Orlando Hatchback 2010',\n",
    "])"
   ]
  },
  {
   "cell_type": "code",
   "execution_count": null,
   "metadata": {},
   "outputs": [],
   "source": [
    "def sort(data_dir, train_dir, dev_dir):\n",
    "    path = './stanford-car-dataset-by-classes-folder/car_data/'\n",
    "    classes = sorted(os.listdir(path))\n",
    "    try:\n",
    "        classes.remove('.DS_Store')\n",
    "    except:\n",
    "        x = 1\n",
    "    classes = classes[0:91] #todo: use all classes\n",
    "    classes = np.array(classes)\n",
    "    mask = list(map(lambda x: True if x == False else False, np.isin(classes, exclude)))\n",
    "    classes = classes[mask]\n",
    "\n",
    "    if os.path.exists(train_dir) == False:\n",
    "        os.mkdir(train_dir)\n",
    "    if os.path.exists(dev_dir) == False:\n",
    "        os.mkdir(dev_dir)\n",
    "        \n",
    "    for i, cl in enumerate(classes):\n",
    "        files = os.listdir(path + cl)\n",
    "        try:\n",
    "            files.remove('.DS_Store')\n",
    "        except:\n",
    "            x=1\n",
    "        \n",
    "        files_train, files_dev = train_test_split(files, test_size=0.2, random_state=1)\n",
    "        \n",
    "        if os.path.exists(train_dir + cl) == False:\n",
    "            os.mkdir(train_dir + cl)\n",
    "        if os.path.exists(dev_dir + cl) == False:\n",
    "            os.mkdir(dev_dir + cl)\n",
    "            \n",
    "        for file in files_train:\n",
    "            copyfile(path + cl + '/' + file, train_dir + cl + '/' + file)\n",
    "        for file in files_dev:\n",
    "            copyfile(path + cl + '/' + file, dev_dir + cl + '/' + file)\n",
    "            \n",
    "        print('Class ' + str(i) + ' ' + cl + ' processed.', str(len(files)))"
   ]
  },
  {
   "cell_type": "code",
   "execution_count": null,
   "metadata": {},
   "outputs": [],
   "source": [
    "sort(\n",
    "    data_dir='./stanford-car-dataset-by-classes-folder/car_data/',\n",
    "    train_dir='./stanford-car-dataset-by-classes-folder/train_dataset/',\n",
    "    dev_dir='./stanford-car-dataset-by-classes-folder/dev_dataset/'\n",
    ")"
   ]
  }
 ],
 "metadata": {
  "kernelspec": {
   "display_name": "Python 3",
   "language": "python",
   "name": "python3"
  },
  "language_info": {
   "codemirror_mode": {
    "name": "ipython",
    "version": 3
   },
   "file_extension": ".py",
   "mimetype": "text/x-python",
   "name": "python",
   "nbconvert_exporter": "python",
   "pygments_lexer": "ipython3",
   "version": "3.6.7"
  }
 },
 "nbformat": 4,
 "nbformat_minor": 2
}
