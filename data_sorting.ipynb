{
 "cells": [
  {
   "cell_type": "code",
   "execution_count": 1,
   "metadata": {},
   "outputs": [],
   "source": [
    "import imageio\n",
    "import pandas as pd\n",
    "import os\n",
    "from sklearn.model_selection import train_test_split"
   ]
  },
  {
   "cell_type": "code",
   "execution_count": 2,
   "metadata": {},
   "outputs": [],
   "source": [
    "labels = pd.read_csv('./data/labels.csv')"
   ]
  },
  {
   "cell_type": "markdown",
   "metadata": {},
   "source": [
    "#### Create directories"
   ]
  },
  {
   "cell_type": "code",
   "execution_count": 3,
   "metadata": {},
   "outputs": [],
   "source": [
    "classes = labels['class_name'].value_counts().index"
   ]
  },
  {
   "cell_type": "code",
   "execution_count": 5,
   "metadata": {},
   "outputs": [],
   "source": [
    "for cl in classes:\n",
    "    os.makedirs('./data/train_dataset/' + cl)\n",
    "    os.makedirs('./data/dev_dataset/' + cl)"
   ]
  },
  {
   "cell_type": "markdown",
   "metadata": {},
   "source": [
    "#### Sort images"
   ]
  },
  {
   "cell_type": "code",
   "execution_count": 8,
   "metadata": {},
   "outputs": [],
   "source": [
    "def read_and_save(filename, cl, dir):\n",
    "    image = imageio.imread('./data/cars_train/' + filename)\n",
    "    imageio.imwrite('./data/' + dir + '/' + cl + '/' + filename, image[:,:,:] if len(image.shape) == 3 else image[:,:])"
   ]
  },
  {
   "cell_type": "code",
   "execution_count": 9,
   "metadata": {},
   "outputs": [
    {
     "name": "stdout",
     "output_type": "stream",
     "text": [
      "Class 0:GMC Savana Van 2012 processed\n",
      "Class 1:Chrysler 300 SRT-8 2010 processed\n",
      "Class 2:Mercedes-Benz 300-Class Convertible 1993 processed\n",
      "Class 3:Mitsubishi Lancer Sedan 2012 processed\n",
      "Class 4:Chevrolet Corvette ZR1 2012 processed\n",
      "Class 5:Jaguar XK XKR 2012 processed\n",
      "Class 6:Audi S6 Sedan 2011 processed\n",
      "Class 7:Ford GT Coupe 2006 processed\n",
      "Class 8:Eagle Talon Hatchback 1998 processed\n",
      "Class 9:Dodge Durango SUV 2007 processed\n",
      "Class 10:Nissan 240SX Coupe 1998 processed\n",
      "Class 11:Bentley Continental GT Coupe 2007 processed\n",
      "Class 12:Volvo 240 Sedan 1993 processed\n",
      "Class 13:Suzuki Kizashi Sedan 2012 processed\n",
      "Class 14:Mercedes-Benz C-Class Sedan 2012 processed\n",
      "Class 15:Volkswagen Golf Hatchback 1991 processed\n",
      "Class 16:BMW M3 Coupe 2012 processed\n",
      "Class 17:Ford F-150 Regular Cab 2007 processed\n",
      "Class 18:Lamborghini Diablo Coupe 2001 processed\n",
      "Class 19:Geo Metro Convertible 1993 processed\n",
      "Class 20:Ford Mustang Convertible 2007 processed\n",
      "Class 21:Jeep Liberty SUV 2012 processed\n",
      "Class 22:Mercedes-Benz S-Class Sedan 2012 processed\n",
      "Class 23:Cadillac Escalade EXT Crew Cab 2007 processed\n",
      "Class 24:AM General Hummer SUV 2000 processed\n",
      "Class 25:Ford Expedition EL SUV 2009 processed\n",
      "Class 26:Jeep Grand Cherokee SUV 2012 processed\n",
      "Class 27:Ford Focus Sedan 2007 processed\n"
     ]
    },
    {
     "name": "stderr",
     "output_type": "stream",
     "text": [
      "/opt/conda/lib/python3.6/site-packages/PIL/TiffImagePlugin.py:747: UserWarning: Possibly corrupt EXIF data.  Expecting to read 19660800 bytes but only got 0. Skipping tag 0\n",
      "  \" Skipping tag %s\" % (size, len(data), tag))\n",
      "/opt/conda/lib/python3.6/site-packages/PIL/TiffImagePlugin.py:747: UserWarning: Possibly corrupt EXIF data.  Expecting to read 18481152 bytes but only got 0. Skipping tag 0\n",
      "  \" Skipping tag %s\" % (size, len(data), tag))\n",
      "/opt/conda/lib/python3.6/site-packages/PIL/TiffImagePlugin.py:747: UserWarning: Possibly corrupt EXIF data.  Expecting to read 37093376 bytes but only got 0. Skipping tag 0\n",
      "  \" Skipping tag %s\" % (size, len(data), tag))\n",
      "/opt/conda/lib/python3.6/site-packages/PIL/TiffImagePlugin.py:747: UserWarning: Possibly corrupt EXIF data.  Expecting to read 19988480 bytes but only got 0. Skipping tag 0\n",
      "  \" Skipping tag %s\" % (size, len(data), tag))\n",
      "/opt/conda/lib/python3.6/site-packages/PIL/TiffImagePlugin.py:764: UserWarning: Corrupt EXIF data.  Expecting to read 12 bytes but only got 10. \n",
      "  warnings.warn(str(msg))\n"
     ]
    },
    {
     "name": "stdout",
     "output_type": "stream",
     "text": [
      "Class 28:Chevrolet Avalanche Crew Cab 2012 processed\n",
      "Class 29:GMC Acadia SUV 2012 processed\n"
     ]
    },
    {
     "name": "stderr",
     "output_type": "stream",
     "text": [
      "/opt/conda/lib/python3.6/site-packages/PIL/TiffImagePlugin.py:747: UserWarning: Possibly corrupt EXIF data.  Expecting to read 20054016 bytes but only got 0. Skipping tag 0\n",
      "  \" Skipping tag %s\" % (size, len(data), tag))\n"
     ]
    },
    {
     "name": "stdout",
     "output_type": "stream",
     "text": [
      "Class 30:Chrysler PT Cruiser Convertible 2008 processed\n",
      "Class 31:Audi S4 Sedan 2007 processed\n",
      "Class 32:Chevrolet Camaro Convertible 2012 processed\n",
      "Class 33:Chevrolet Malibu Sedan 2007 processed\n"
     ]
    },
    {
     "name": "stderr",
     "output_type": "stream",
     "text": [
      "/opt/conda/lib/python3.6/site-packages/PIL/TiffImagePlugin.py:764: UserWarning: Corrupt EXIF data.  Expecting to read 12 bytes but only got 6. \n",
      "  warnings.warn(str(msg))\n"
     ]
    },
    {
     "name": "stdout",
     "output_type": "stream",
     "text": [
      "Class 34:Daewoo Nubira Wagon 2002 processed\n",
      "Class 35:Spyker C8 Convertible 2009 processed\n",
      "Class 36:Aston Martin V8 Vantage Convertible 2012 processed\n",
      "Class 37:Acura Integra Type R 2001 processed\n",
      "Class 38:Bentley Continental Flying Spur Sedan 2007 processed\n",
      "Class 39:Chevrolet Monte Carlo Coupe 2007 processed\n",
      "Class 40:Toyota Camry Sedan 2012 processed\n",
      "Class 41:Hyundai Genesis Sedan 2012 processed\n"
     ]
    },
    {
     "name": "stderr",
     "output_type": "stream",
     "text": [
      "/opt/conda/lib/python3.6/site-packages/PIL/TiffImagePlugin.py:747: UserWarning: Possibly corrupt EXIF data.  Expecting to read 4568514560 bytes but only got 0. Skipping tag 0\n",
      "  \" Skipping tag %s\" % (size, len(data), tag))\n",
      "/opt/conda/lib/python3.6/site-packages/PIL/TiffImagePlugin.py:747: UserWarning: Possibly corrupt EXIF data.  Expecting to read 19600506880 bytes but only got 0. Skipping tag 0\n",
      "  \" Skipping tag %s\" % (size, len(data), tag))\n",
      "/opt/conda/lib/python3.6/site-packages/PIL/TiffImagePlugin.py:747: UserWarning: Possibly corrupt EXIF data.  Expecting to read 2751528960 bytes but only got 0. Skipping tag 0\n",
      "  \" Skipping tag %s\" % (size, len(data), tag))\n",
      "/opt/conda/lib/python3.6/site-packages/PIL/TiffImagePlugin.py:747: UserWarning: Possibly corrupt EXIF data.  Expecting to read 2751660032 bytes but only got 0. Skipping tag 0\n",
      "  \" Skipping tag %s\" % (size, len(data), tag))\n",
      "/opt/conda/lib/python3.6/site-packages/PIL/TiffImagePlugin.py:764: UserWarning: Corrupt EXIF data.  Expecting to read 12 bytes but only got 2. \n",
      "  warnings.warn(str(msg))\n",
      "/opt/conda/lib/python3.6/site-packages/PIL/TiffImagePlugin.py:747: UserWarning: Possibly corrupt EXIF data.  Expecting to read 1681981440 bytes but only got 0. Skipping tag 0\n",
      "  \" Skipping tag %s\" % (size, len(data), tag))\n",
      "/opt/conda/lib/python3.6/site-packages/PIL/TiffImagePlugin.py:764: UserWarning: Corrupt EXIF data.  Expecting to read 12 bytes but only got 0. \n",
      "  warnings.warn(str(msg))\n"
     ]
    },
    {
     "name": "stdout",
     "output_type": "stream",
     "text": [
      "Class 42:Dodge Journey SUV 2012 processed\n",
      "Class 43:Lamborghini Aventador Coupe 2012 processed\n",
      "Class 44:Hyundai Tucson SUV 2012 processed\n",
      "Class 45:Toyota Corolla Sedan 2012 processed\n",
      "Class 46:Porsche Panamera Sedan 2012 processed\n",
      "Class 47:McLaren MP4-12C Coupe 2012 processed\n",
      "Class 48:Chevrolet Traverse SUV 2012 processed\n",
      "Class 49:Dodge Durango SUV 2012 processed\n"
     ]
    },
    {
     "name": "stderr",
     "output_type": "stream",
     "text": [
      "/opt/conda/lib/python3.6/site-packages/PIL/TiffImagePlugin.py:747: UserWarning: Possibly corrupt EXIF data.  Expecting to read 15269888 bytes but only got 0. Skipping tag 5\n",
      "  \" Skipping tag %s\" % (size, len(data), tag))\n",
      "/opt/conda/lib/python3.6/site-packages/PIL/TiffImagePlugin.py:747: UserWarning: Possibly corrupt EXIF data.  Expecting to read 15794176 bytes but only got 0. Skipping tag 5\n",
      "  \" Skipping tag %s\" % (size, len(data), tag))\n",
      "/opt/conda/lib/python3.6/site-packages/PIL/TiffImagePlugin.py:747: UserWarning: Possibly corrupt EXIF data.  Expecting to read 131072 bytes but only got 0. Skipping tag 3\n",
      "  \" Skipping tag %s\" % (size, len(data), tag))\n",
      "/opt/conda/lib/python3.6/site-packages/PIL/TiffImagePlugin.py:747: UserWarning: Possibly corrupt EXIF data.  Expecting to read 16384000 bytes but only got 0. Skipping tag 3\n",
      "  \" Skipping tag %s\" % (size, len(data), tag))\n",
      "/opt/conda/lib/python3.6/site-packages/PIL/TiffImagePlugin.py:747: UserWarning: Possibly corrupt EXIF data.  Expecting to read 3368026112 bytes but only got 0. Skipping tag 7\n",
      "  \" Skipping tag %s\" % (size, len(data), tag))\n",
      "/opt/conda/lib/python3.6/site-packages/PIL/TiffImagePlugin.py:747: UserWarning: Possibly corrupt EXIF data.  Expecting to read 18939904 bytes but only got 0. Skipping tag 5\n",
      "  \" Skipping tag %s\" % (size, len(data), tag))\n",
      "/opt/conda/lib/python3.6/site-packages/PIL/TiffImagePlugin.py:747: UserWarning: Possibly corrupt EXIF data.  Expecting to read 19464192 bytes but only got 0. Skipping tag 5\n",
      "  \" Skipping tag %s\" % (size, len(data), tag))\n",
      "/opt/conda/lib/python3.6/site-packages/PIL/TiffImagePlugin.py:747: UserWarning: Possibly corrupt EXIF data.  Expecting to read 19988480 bytes but only got 0. Skipping tag 5\n",
      "  \" Skipping tag %s\" % (size, len(data), tag))\n",
      "/opt/conda/lib/python3.6/site-packages/PIL/TiffImagePlugin.py:747: UserWarning: Possibly corrupt EXIF data.  Expecting to read 20512768 bytes but only got 0. Skipping tag 5\n",
      "  \" Skipping tag %s\" % (size, len(data), tag))\n",
      "/opt/conda/lib/python3.6/site-packages/PIL/TiffImagePlugin.py:747: UserWarning: Possibly corrupt EXIF data.  Expecting to read 21037056 bytes but only got 0. Skipping tag 5\n",
      "  \" Skipping tag %s\" % (size, len(data), tag))\n",
      "/opt/conda/lib/python3.6/site-packages/PIL/TiffImagePlugin.py:747: UserWarning: Possibly corrupt EXIF data.  Expecting to read 21561344 bytes but only got 0. Skipping tag 5\n",
      "  \" Skipping tag %s\" % (size, len(data), tag))\n",
      "/opt/conda/lib/python3.6/site-packages/PIL/TiffImagePlugin.py:747: UserWarning: Possibly corrupt EXIF data.  Expecting to read 22085632 bytes but only got 0. Skipping tag 5\n",
      "  \" Skipping tag %s\" % (size, len(data), tag))\n",
      "/opt/conda/lib/python3.6/site-packages/PIL/TiffImagePlugin.py:747: UserWarning: Possibly corrupt EXIF data.  Expecting to read 327680 bytes but only got 0. Skipping tag 3\n",
      "  \" Skipping tag %s\" % (size, len(data), tag))\n",
      "/opt/conda/lib/python3.6/site-packages/PIL/TiffImagePlugin.py:747: UserWarning: Possibly corrupt EXIF data.  Expecting to read 1572864 bytes but only got 0. Skipping tag 3\n",
      "  \" Skipping tag %s\" % (size, len(data), tag))\n",
      "/opt/conda/lib/python3.6/site-packages/PIL/TiffImagePlugin.py:747: UserWarning: Possibly corrupt EXIF data.  Expecting to read 22609920 bytes but only got 0. Skipping tag 5\n",
      "  \" Skipping tag %s\" % (size, len(data), tag))\n",
      "/opt/conda/lib/python3.6/site-packages/PIL/TiffImagePlugin.py:747: UserWarning: Possibly corrupt EXIF data.  Expecting to read 3300917248 bytes but only got 0. Skipping tag 7\n",
      "  \" Skipping tag %s\" % (size, len(data), tag))\n",
      "/opt/conda/lib/python3.6/site-packages/PIL/TiffImagePlugin.py:747: UserWarning: Possibly corrupt EXIF data.  Expecting to read 65536 bytes but only got 0. Skipping tag 3\n",
      "  \" Skipping tag %s\" % (size, len(data), tag))\n",
      "/opt/conda/lib/python3.6/site-packages/PIL/TiffImagePlugin.py:747: UserWarning: Possibly corrupt EXIF data.  Expecting to read 52428800 bytes but only got 0. Skipping tag 3\n",
      "  \" Skipping tag %s\" % (size, len(data), tag))\n",
      "/opt/conda/lib/python3.6/site-packages/PIL/TiffImagePlugin.py:747: UserWarning: Possibly corrupt EXIF data.  Expecting to read 39321600 bytes but only got 0. Skipping tag 3\n",
      "  \" Skipping tag %s\" % (size, len(data), tag))\n",
      "/opt/conda/lib/python3.6/site-packages/PIL/TiffImagePlugin.py:747: UserWarning: Possibly corrupt EXIF data.  Expecting to read 23134208 bytes but only got 0. Skipping tag 5\n",
      "  \" Skipping tag %s\" % (size, len(data), tag))\n",
      "/opt/conda/lib/python3.6/site-packages/PIL/TiffImagePlugin.py:747: UserWarning: Possibly corrupt EXIF data.  Expecting to read 23658496 bytes but only got 0. Skipping tag 5\n",
      "  \" Skipping tag %s\" % (size, len(data), tag))\n",
      "/opt/conda/lib/python3.6/site-packages/PIL/TiffImagePlugin.py:747: UserWarning: Possibly corrupt EXIF data.  Expecting to read 24182784 bytes but only got 0. Skipping tag 5\n",
      "  \" Skipping tag %s\" % (size, len(data), tag))\n",
      "/opt/conda/lib/python3.6/site-packages/PIL/TiffImagePlugin.py:747: UserWarning: Possibly corrupt EXIF data.  Expecting to read 196608 bytes but only got 0. Skipping tag 3\n",
      "  \" Skipping tag %s\" % (size, len(data), tag))\n",
      "/opt/conda/lib/python3.6/site-packages/PIL/TiffImagePlugin.py:747: UserWarning: Possibly corrupt EXIF data.  Expecting to read 65536 bytes but only got 922. Skipping tag 3\n",
      "  \" Skipping tag %s\" % (size, len(data), tag))\n"
     ]
    },
    {
     "name": "stdout",
     "output_type": "stream",
     "text": [
      "Class 50:Dodge Caravan Minivan 1997 processed\n",
      "Class 51:HUMMER H2 SUT Crew Cab 2009 processed\n",
      "Class 52:Nissan Juke Hatchback 2012 processed\n",
      "Class 53:Fisker Karma Sedan 2012 processed\n",
      "Class 54:Plymouth Neon Coupe 1999 processed\n",
      "Class 55:Chevrolet Sonic Sedan 2012 processed\n"
     ]
    },
    {
     "name": "stderr",
     "output_type": "stream",
     "text": [
      "/opt/conda/lib/python3.6/site-packages/PIL/TiffImagePlugin.py:747: UserWarning: Possibly corrupt EXIF data.  Expecting to read 2621440 bytes but only got 0. Skipping tag 5\n",
      "  \" Skipping tag %s\" % (size, len(data), tag))\n",
      "/opt/conda/lib/python3.6/site-packages/PIL/TiffImagePlugin.py:747: UserWarning: Possibly corrupt EXIF data.  Expecting to read 3145728 bytes but only got 0. Skipping tag 5\n",
      "  \" Skipping tag %s\" % (size, len(data), tag))\n",
      "/opt/conda/lib/python3.6/site-packages/PIL/TiffImagePlugin.py:747: UserWarning: Possibly corrupt EXIF data.  Expecting to read 10944512 bytes but only got 0. Skipping tag 5\n",
      "  \" Skipping tag %s\" % (size, len(data), tag))\n",
      "/opt/conda/lib/python3.6/site-packages/PIL/TiffImagePlugin.py:747: UserWarning: Possibly corrupt EXIF data.  Expecting to read 11993088 bytes but only got 0. Skipping tag 5\n",
      "  \" Skipping tag %s\" % (size, len(data), tag))\n",
      "/opt/conda/lib/python3.6/site-packages/PIL/TiffImagePlugin.py:747: UserWarning: Possibly corrupt EXIF data.  Expecting to read 30277632 bytes but only got 0. Skipping tag 5\n",
      "  \" Skipping tag %s\" % (size, len(data), tag))\n",
      "/opt/conda/lib/python3.6/site-packages/PIL/TiffImagePlugin.py:747: UserWarning: Possibly corrupt EXIF data.  Expecting to read 16711680 bytes but only got 0. Skipping tag 5\n",
      "  \" Skipping tag %s\" % (size, len(data), tag))\n",
      "/opt/conda/lib/python3.6/site-packages/PIL/TiffImagePlugin.py:747: UserWarning: Possibly corrupt EXIF data.  Expecting to read 37486592 bytes but only got 1128. Skipping tag 4\n",
      "  \" Skipping tag %s\" % (size, len(data), tag))\n"
     ]
    },
    {
     "name": "stdout",
     "output_type": "stream",
     "text": [
      "Class 56:Chrysler Aspen SUV 2009 processed\n",
      "Class 57:Bugatti Veyron 16.4 Coupe 2009 processed\n",
      "Class 58:Chevrolet Silverado 1500 Extended Cab 2012 processed\n",
      "Class 59:Audi V8 Sedan 1994 processed\n"
     ]
    },
    {
     "name": "stderr",
     "output_type": "stream",
     "text": [
      "/opt/conda/lib/python3.6/site-packages/PIL/TiffImagePlugin.py:747: UserWarning: Possibly corrupt EXIF data.  Expecting to read 1903165441 bytes but only got 0. Skipping tag 1\n",
      "  \" Skipping tag %s\" % (size, len(data), tag))\n",
      "/opt/conda/lib/python3.6/site-packages/PIL/TiffImagePlugin.py:747: UserWarning: Possibly corrupt EXIF data.  Expecting to read 525368 bytes but only got 10800. Skipping tag 58462\n",
      "  \" Skipping tag %s\" % (size, len(data), tag))\n",
      "/opt/conda/lib/python3.6/site-packages/PIL/TiffImagePlugin.py:747: UserWarning: Possibly corrupt EXIF data.  Expecting to read 3846701056 bytes but only got 0. Skipping tag 2\n",
      "  \" Skipping tag %s\" % (size, len(data), tag))\n",
      "/opt/conda/lib/python3.6/site-packages/PIL/TiffImagePlugin.py:747: UserWarning: Possibly corrupt EXIF data.  Expecting to read 196867 bytes but only got 10831. Skipping tag 0\n",
      "  \" Skipping tag %s\" % (size, len(data), tag))\n",
      "/opt/conda/lib/python3.6/site-packages/PIL/TiffImagePlugin.py:747: UserWarning: Possibly corrupt EXIF data.  Expecting to read 7200000 bytes but only got 0. Skipping tag 34464\n",
      "  \" Skipping tag %s\" % (size, len(data), tag))\n",
      "/opt/conda/lib/python3.6/site-packages/PIL/TiffImagePlugin.py:747: UserWarning: Possibly corrupt EXIF data.  Expecting to read 655924 bytes but only got 10831. Skipping tag 0\n",
      "  \" Skipping tag %s\" % (size, len(data), tag))\n",
      "/opt/conda/lib/python3.6/site-packages/PIL/TiffImagePlugin.py:747: UserWarning: Possibly corrupt EXIF data.  Expecting to read 99877888 bytes but only got 0. Skipping tag 1029\n",
      "  \" Skipping tag %s\" % (size, len(data), tag))\n",
      "/opt/conda/lib/python3.6/site-packages/PIL/TiffImagePlugin.py:747: UserWarning: Possibly corrupt EXIF data.  Expecting to read 31197188 bytes but only got 0. Skipping tag 1029\n",
      "  \" Skipping tag %s\" % (size, len(data), tag))\n"
     ]
    },
    {
     "name": "stdout",
     "output_type": "stream",
     "text": [
      "Class 60:Dodge Ram Pickup 3500 Quad Cab 2009 processed\n",
      "Class 61:Chevrolet Silverado 1500 Regular Cab 2012 processed\n",
      "Class 62:BMW 6 Series Convertible 2007 processed\n"
     ]
    },
    {
     "name": "stderr",
     "output_type": "stream",
     "text": [
      "/opt/conda/lib/python3.6/site-packages/PIL/TiffImagePlugin.py:747: UserWarning: Possibly corrupt EXIF data.  Expecting to read 512000000 bytes but only got 0. Skipping tag 59392\n",
      "  \" Skipping tag %s\" % (size, len(data), tag))\n"
     ]
    },
    {
     "name": "stdout",
     "output_type": "stream",
     "text": [
      "Class 63:Ford Freestar Minivan 2007 processed\n",
      "Class 64:Mercedes-Benz E-Class Sedan 2012 processed\n"
     ]
    },
    {
     "name": "stderr",
     "output_type": "stream",
     "text": [
      "/opt/conda/lib/python3.6/site-packages/PIL/TiffImagePlugin.py:747: UserWarning: Possibly corrupt EXIF data.  Expecting to read 262144 bytes but only got 0. Skipping tag 0\n",
      "  \" Skipping tag %s\" % (size, len(data), tag))\n",
      "/opt/conda/lib/python3.6/site-packages/PIL/TiffImagePlugin.py:747: UserWarning: Possibly corrupt EXIF data.  Expecting to read 524288 bytes but only got 0. Skipping tag 2\n",
      "  \" Skipping tag %s\" % (size, len(data), tag))\n",
      "/opt/conda/lib/python3.6/site-packages/PIL/TiffImagePlugin.py:747: UserWarning: Possibly corrupt EXIF data.  Expecting to read 375128064 bytes but only got 0. Skipping tag 4\n",
      "  \" Skipping tag %s\" % (size, len(data), tag))\n",
      "/opt/conda/lib/python3.6/site-packages/PIL/TiffImagePlugin.py:747: UserWarning: Possibly corrupt EXIF data.  Expecting to read 13107200 bytes but only got 0. Skipping tag 4\n",
      "  \" Skipping tag %s\" % (size, len(data), tag))\n",
      "/opt/conda/lib/python3.6/site-packages/PIL/TiffImagePlugin.py:747: UserWarning: Possibly corrupt EXIF data.  Expecting to read 8716288 bytes but only got 0. Skipping tag 4\n",
      "  \" Skipping tag %s\" % (size, len(data), tag))\n",
      "/opt/conda/lib/python3.6/site-packages/PIL/TiffImagePlugin.py:747: UserWarning: Possibly corrupt EXIF data.  Expecting to read 393216 bytes but only got 0. Skipping tag 3\n",
      "  \" Skipping tag %s\" % (size, len(data), tag))\n",
      "/opt/conda/lib/python3.6/site-packages/PIL/TiffImagePlugin.py:747: UserWarning: Possibly corrupt EXIF data.  Expecting to read 14286848 bytes but only got 0. Skipping tag 0\n",
      "  \" Skipping tag %s\" % (size, len(data), tag))\n",
      "/opt/conda/lib/python3.6/site-packages/PIL/TiffImagePlugin.py:747: UserWarning: Possibly corrupt EXIF data.  Expecting to read 356515840 bytes but only got 6120. Skipping tag 4\n",
      "  \" Skipping tag %s\" % (size, len(data), tag))\n"
     ]
    },
    {
     "name": "stdout",
     "output_type": "stream",
     "text": [
      "Class 65:Jeep Patriot SUV 2012 processed\n",
      "Class 66:Rolls-Royce Phantom Sedan 2012 processed\n",
      "Class 67:Ferrari 458 Italia Coupe 2012 processed\n",
      "Class 68:Dodge Ram Pickup 3500 Crew Cab 2010 processed\n",
      "Class 69:Hyundai Elantra Touring Hatchback 2012 processed\n",
      "Class 70:Audi S5 Coupe 2012 processed\n",
      "Class 71:Acura TL Sedan 2012 processed\n",
      "Class 72:GMC Yukon Hybrid SUV 2012 processed\n",
      "Class 73:Land Rover LR2 SUV 2012 processed\n",
      "Class 74:Volkswagen Golf Hatchback 2012 processed\n",
      "Class 75:Ford Edge SUV 2012 processed\n",
      "Class 76:Spyker C8 Coupe 2009 processed\n",
      "Class 77:BMW 3 Series Sedan 2012 processed\n",
      "Class 78:Jeep Wrangler SUV 2012 processed\n"
     ]
    },
    {
     "name": "stderr",
     "output_type": "stream",
     "text": [
      "/opt/conda/lib/python3.6/site-packages/PIL/TiffImagePlugin.py:747: UserWarning: Possibly corrupt EXIF data.  Expecting to read 33555968 bytes but only got 0. Skipping tag 12336\n",
      "  \" Skipping tag %s\" % (size, len(data), tag))\n",
      "/opt/conda/lib/python3.6/site-packages/PIL/TiffImagePlugin.py:747: UserWarning: Possibly corrupt EXIF data.  Expecting to read 1879108644 bytes but only got 0. Skipping tag 2211\n",
      "  \" Skipping tag %s\" % (size, len(data), tag))\n",
      "/opt/conda/lib/python3.6/site-packages/PIL/TiffImagePlugin.py:747: UserWarning: Possibly corrupt EXIF data.  Expecting to read 336338176 bytes but only got 0. Skipping tag 9\n",
      "  \" Skipping tag %s\" % (size, len(data), tag))\n",
      "/opt/conda/lib/python3.6/site-packages/PIL/TiffImagePlugin.py:747: UserWarning: Possibly corrupt EXIF data.  Expecting to read 3234119872 bytes but only got 22752. Skipping tag 0\n",
      "  \" Skipping tag %s\" % (size, len(data), tag))\n",
      "/opt/conda/lib/python3.6/site-packages/PIL/TiffImagePlugin.py:747: UserWarning: Possibly corrupt EXIF data.  Expecting to read 67372548 bytes but only got 0. Skipping tag 67\n",
      "  \" Skipping tag %s\" % (size, len(data), tag))\n",
      "/opt/conda/lib/python3.6/site-packages/PIL/TiffImagePlugin.py:747: UserWarning: Possibly corrupt EXIF data.  Expecting to read 2097218051 bytes but only got 0. Skipping tag 1024\n",
      "  \" Skipping tag %s\" % (size, len(data), tag))\n"
     ]
    },
    {
     "name": "stdout",
     "output_type": "stream",
     "text": [
      "Class 79:Chevrolet Impala Sedan 2007 processed\n",
      "Class 80:Buick Rainier SUV 2007 processed\n",
      "Class 81:Jeep Compass SUV 2012 processed\n",
      "Class 82:Land Rover Range Rover SUV 2012 processed\n",
      "Class 83:Cadillac CTS-V Sedan 2012 processed\n",
      "Class 84:Audi R8 Coupe 2012 processed\n",
      "Class 85:Audi TTS Coupe 2012 processed\n"
     ]
    },
    {
     "name": "stderr",
     "output_type": "stream",
     "text": [
      "/opt/conda/lib/python3.6/site-packages/PIL/TiffImagePlugin.py:764: UserWarning: Corrupt EXIF data.  Expecting to read 12 bytes but only got 4. \n",
      "  warnings.warn(str(msg))\n"
     ]
    },
    {
     "name": "stdout",
     "output_type": "stream",
     "text": [
      "Class 86:Chevrolet Silverado 1500 Classic Extended Cab 2007 processed\n",
      "Class 87:Ford F-150 Regular Cab 2012 processed\n",
      "Class 88:Chrysler Crossfire Convertible 2008 processed\n",
      "Class 89:Audi 100 Wagon 1994 processed\n",
      "Class 90:Volkswagen Beetle Hatchback 2012 processed\n",
      "Class 91:Volvo XC90 SUV 2007 processed\n",
      "Class 92:Ford Fiesta Sedan 2012 processed\n",
      "Class 93:Suzuki SX4 Hatchback 2012 processed\n",
      "Class 94:Chevrolet Cobalt SS 2010 processed\n",
      "Class 95:Volvo C30 Hatchback 2012 processed\n",
      "Class 96:Hyundai Veracruz SUV 2012 processed\n",
      "Class 97:GMC Terrain SUV 2012 processed\n",
      "Class 98:Buick Enclave SUV 2012 processed\n",
      "Class 99:BMW X5 SUV 2007 processed\n",
      "Class 100:Hyundai Santa Fe SUV 2012 processed\n",
      "Class 101:BMW X6 SUV 2012 processed\n",
      "Class 102:Ferrari FF Coupe 2012 processed\n",
      "Class 103:Ford F-450 Super Duty Crew Cab 2012 processed\n",
      "Class 104:Dodge Caliber Wagon 2007 processed\n",
      "Class 105:Hyundai Elantra Sedan 2007 processed\n",
      "Class 106:Audi S5 Convertible 2012 processed\n",
      "Class 107:Nissan Leaf Hatchback 2012 processed\n",
      "Class 108:Acura TL Type-S 2008 processed\n",
      "Class 109:Ford Ranger SuperCab 2011 processed\n",
      "Class 110:Honda Odyssey Minivan 2012 processed\n",
      "Class 111:BMW 3 Series Wagon 2012 processed\n"
     ]
    },
    {
     "name": "stderr",
     "output_type": "stream",
     "text": [
      "/opt/conda/lib/python3.6/site-packages/PIL/TiffImagePlugin.py:747: UserWarning: Possibly corrupt EXIF data.  Expecting to read 35651584 bytes but only got 0. Skipping tag 0\n",
      "  \" Skipping tag %s\" % (size, len(data), tag))\n",
      "/opt/conda/lib/python3.6/site-packages/PIL/TiffImagePlugin.py:747: UserWarning: Possibly corrupt EXIF data.  Expecting to read 17956864 bytes but only got 0. Skipping tag 0\n",
      "  \" Skipping tag %s\" % (size, len(data), tag))\n",
      "/opt/conda/lib/python3.6/site-packages/PIL/TiffImagePlugin.py:747: UserWarning: Possibly corrupt EXIF data.  Expecting to read 33619968 bytes but only got 0. Skipping tag 0\n",
      "  \" Skipping tag %s\" % (size, len(data), tag))\n"
     ]
    },
    {
     "name": "stdout",
     "output_type": "stream",
     "text": [
      "Class 112:Dodge Charger SRT-8 2009 processed\n",
      "Class 113:Scion xD Hatchback 2012 processed\n",
      "Class 114:Hyundai Azera Sedan 2012 processed\n",
      "Class 115:Mercedes-Benz Sprinter Van 2012 processed\n",
      "Class 116:Chrysler Sebring Convertible 2010 processed\n",
      "Class 117:BMW 1 Series Coupe 2012 processed\n",
      "Class 118:BMW M6 Convertible 2010 processed\n",
      "Class 119:Ram C/V Cargo Van Minivan 2012 processed\n",
      "Class 120:BMW Z4 Convertible 2012 processed\n",
      "Class 121:Audi 100 Sedan 1994 processed\n",
      "Class 122:Toyota 4Runner SUV 2012 processed\n",
      "Class 123:Cadillac SRX SUV 2012 processed\n",
      "Class 124:Honda Odyssey Minivan 2007 processed\n",
      "Class 125:Audi A5 Coupe 2012 processed\n",
      "Class 126:Hyundai Veloster Hatchback 2012 processed\n",
      "Class 127:BMW M5 Sedan 2010 processed\n",
      "Class 128:Suzuki SX4 Sedan 2012 processed\n",
      "Class 129:Dodge Caliber Wagon 2012 processed\n",
      "Class 130:Audi TT Hatchback 2011 processed\n",
      "Class 131:Dodge Dakota Crew Cab 2010 processed\n",
      "Class 132:Dodge Charger Sedan 2012 processed\n",
      "Class 133:Acura TSX Sedan 2012 processed\n",
      "Class 134:Aston Martin V8 Vantage Coupe 2012 processed\n",
      "Class 135:Dodge Sprinter Cargo Van 2009 processed\n",
      "Class 136:Audi TT RS Coupe 2012 processed\n",
      "Class 137:Dodge Magnum Wagon 2008 processed\n",
      "Class 138:Chevrolet TrailBlazer SS 2009 processed\n",
      "Class 139:Hyundai Sonata Sedan 2012 processed\n",
      "Class 140:Audi S4 Sedan 2012 processed\n",
      "Class 141:Isuzu Ascender SUV 2008 processed\n",
      "Class 142:GMC Canyon Extended Cab 2012 processed\n",
      "Class 143:Ferrari 458 Italia Convertible 2012 processed\n",
      "Class 144:smart fortwo Convertible 2012 processed\n",
      "Class 145:Chevrolet Silverado 1500 Hybrid Crew Cab 2012 processed\n",
      "Class 146:Chevrolet Corvette Convertible 2012 processed\n",
      "Class 147:Chevrolet Malibu Hybrid Sedan 2010 processed\n",
      "Class 148:Rolls-Royce Ghost Sedan 2012 processed\n",
      "Class 149:Honda Accord Coupe 2012 processed\n",
      "Class 150:HUMMER H3T Crew Cab 2010 processed\n",
      "Class 151:Lincoln Town Car Sedan 2011 processed\n",
      "Class 152:Bentley Arnage Sedan 2009 processed\n",
      "Class 153:Honda Accord Sedan 2012 processed\n",
      "Class 154:Toyota Sequoia SUV 2012 processed\n"
     ]
    },
    {
     "name": "stderr",
     "output_type": "stream",
     "text": [
      "/opt/conda/lib/python3.6/site-packages/PIL/TiffImagePlugin.py:747: UserWarning: Possibly corrupt EXIF data.  Expecting to read 16384000 bytes but only got 0. Skipping tag 0\n",
      "  \" Skipping tag %s\" % (size, len(data), tag))\n",
      "/opt/conda/lib/python3.6/site-packages/PIL/TiffImagePlugin.py:747: UserWarning: Possibly corrupt EXIF data.  Expecting to read 808583168 bytes but only got 0. Skipping tag 0\n",
      "  \" Skipping tag %s\" % (size, len(data), tag))\n",
      "/opt/conda/lib/python3.6/site-packages/PIL/TiffImagePlugin.py:747: UserWarning: Possibly corrupt EXIF data.  Expecting to read 2949120 bytes but only got 0. Skipping tag 0\n",
      "  \" Skipping tag %s\" % (size, len(data), tag))\n",
      "/opt/conda/lib/python3.6/site-packages/PIL/TiffImagePlugin.py:747: UserWarning: Possibly corrupt EXIF data.  Expecting to read 285413634 bytes but only got 0. Skipping tag 780\n",
      "  \" Skipping tag %s\" % (size, len(data), tag))\n",
      "/opt/conda/lib/python3.6/site-packages/PIL/TiffImagePlugin.py:747: UserWarning: Possibly corrupt EXIF data.  Expecting to read 6258783368 bytes but only got 0. Skipping tag 27847\n",
      "  \" Skipping tag %s\" % (size, len(data), tag))\n",
      "/opt/conda/lib/python3.6/site-packages/PIL/TiffImagePlugin.py:747: UserWarning: Possibly corrupt EXIF data.  Expecting to read 2359296 bytes but only got 0. Skipping tag 5\n",
      "  \" Skipping tag %s\" % (size, len(data), tag))\n",
      "/opt/conda/lib/python3.6/site-packages/PIL/TiffImagePlugin.py:747: UserWarning: Possibly corrupt EXIF data.  Expecting to read 2883584 bytes but only got 0. Skipping tag 5\n",
      "  \" Skipping tag %s\" % (size, len(data), tag))\n",
      "/opt/conda/lib/python3.6/site-packages/PIL/TiffImagePlugin.py:747: UserWarning: Possibly corrupt EXIF data.  Expecting to read 53477376 bytes but only got 0. Skipping tag 2\n",
      "  \" Skipping tag %s\" % (size, len(data), tag))\n",
      "/opt/conda/lib/python3.6/site-packages/PIL/TiffImagePlugin.py:747: UserWarning: Possibly corrupt EXIF data.  Expecting to read 7340032 bytes but only got 0. Skipping tag 2\n",
      "  \" Skipping tag %s\" % (size, len(data), tag))\n",
      "/opt/conda/lib/python3.6/site-packages/PIL/TiffImagePlugin.py:747: UserWarning: Possibly corrupt EXIF data.  Expecting to read 451411968 bytes but only got 0. Skipping tag 4\n",
      "  \" Skipping tag %s\" % (size, len(data), tag))\n",
      "/opt/conda/lib/python3.6/site-packages/PIL/TiffImagePlugin.py:747: UserWarning: Possibly corrupt EXIF data.  Expecting to read 25165824 bytes but only got 0. Skipping tag 4\n",
      "  \" Skipping tag %s\" % (size, len(data), tag))\n",
      "/opt/conda/lib/python3.6/site-packages/PIL/TiffImagePlugin.py:747: UserWarning: Possibly corrupt EXIF data.  Expecting to read 417136640 bytes but only got 7560. Skipping tag 4\n",
      "  \" Skipping tag %s\" % (size, len(data), tag))\n"
     ]
    },
    {
     "name": "stdout",
     "output_type": "stream",
     "text": [
      "Class 155:Nissan NV Passenger Van 2012 processed\n",
      "Class 156:Ferrari California Convertible 2012 processed\n",
      "Class 157:BMW X3 SUV 2012 processed\n",
      "Class 158:Tesla Model S Sedan 2012 processed\n",
      "Class 159:Dodge Challenger SRT8 2011 processed\n",
      "Class 160:Dodge Dakota Club Cab 2007 processed\n",
      "Class 161:Acura ZDX Hatchback 2012 processed\n",
      "Class 162:Ford E-Series Wagon Van 2012 processed\n",
      "Class 163:Chevrolet Silverado 2500HD Regular Cab 2012 processed\n",
      "Class 164:Aston Martin Virage Coupe 2012 processed\n"
     ]
    },
    {
     "name": "stderr",
     "output_type": "stream",
     "text": [
      "/opt/conda/lib/python3.6/site-packages/PIL/TiffImagePlugin.py:747: UserWarning: Possibly corrupt EXIF data.  Expecting to read 65536 bytes but only got 0. Skipping tag 0\n",
      "  \" Skipping tag %s\" % (size, len(data), tag))\n"
     ]
    },
    {
     "name": "stdout",
     "output_type": "stream",
     "text": [
      "Class 165:Chrysler Town and Country Minivan 2012 processed\n",
      "Class 166:Chevrolet Corvette Ron Fellows Edition Z06 2007 processed\n",
      "Class 167:Buick Verano Sedan 2012 processed\n",
      "Class 168:Suzuki Aerio Sedan 2007 processed\n",
      "Class 169:Chevrolet Tahoe Hybrid SUV 2012 processed\n",
      "Class 170:Audi RS 4 Convertible 2008 processed\n",
      "Class 171:MINI Cooper Roadster Convertible 2012 processed\n",
      "Class 172:Chevrolet HHR SS 2010 processed\n",
      "Class 173:Bentley Continental Supersports Conv. Convertible 2012 processed\n",
      "Class 174:Mercedes-Benz SL-Class Coupe 2009 processed\n",
      "Class 175:BMW 1 Series Convertible 2012 processed\n",
      "Class 176:Bentley Mulsanne Sedan 2011 processed\n",
      "Class 177:Lamborghini Gallardo LP 570-4 Superleggera 2012 processed\n",
      "Class 178:Mazda Tribute SUV 2011 processed\n",
      "Class 179:Lamborghini Reventon Coupe 2008 processed\n",
      "Class 180:Chevrolet Express Van 2007 processed\n",
      "Class 181:Buick Regal GS 2012 processed\n",
      "Class 182:Bentley Continental GT Coupe 2012 processed\n",
      "Class 183:Infiniti G Coupe IPL 2012 processed\n",
      "Class 184:Hyundai Sonata Hybrid Sedan 2012 processed\n",
      "Class 185:FIAT 500 Convertible 2012 processed\n",
      "Class 186:BMW ActiveHybrid 5 Sedan 2012 processed\n",
      "Class 187:Bugatti Veyron 16.4 Convertible 2009 processed\n",
      "Class 188:Infiniti QX56 SUV 2011 processed\n",
      "Class 189:Aston Martin Virage Convertible 2012 processed\n",
      "Class 190:Acura RL Sedan 2012 processed\n",
      "Class 191:Rolls-Royce Phantom Drophead Coupe Convertible 2012 processed\n",
      "Class 192:Chevrolet Express Cargo Van 2007 processed\n",
      "Class 193:Maybach Landaulet Convertible 2012 processed\n",
      "Class 194:FIAT 500 Abarth 2012 processed\n",
      "Class 195:Hyundai Accent Sedan 2012 processed\n"
     ]
    }
   ],
   "source": [
    "for i, cl in enumerate(classes):\n",
    "    train_filenames, dev_filenames = train_test_split(labels[labels['class_name'] == cl]['filename'], test_size=0.1)\n",
    "    for filename in train_filenames:\n",
    "        read_and_save(filename, cl, 'train_dataset')\n",
    "    for filename in dev_filenames:\n",
    "        read_and_save(filename, cl, 'dev_dataset')\n",
    "    print('Class ' + str(i) + ':' + cl + ' processed')"
   ]
  }
 ],
 "metadata": {
  "kernelspec": {
   "display_name": "Python 3",
   "language": "python",
   "name": "python3"
  },
  "language_info": {
   "codemirror_mode": {
    "name": "ipython",
    "version": 3
   },
   "file_extension": ".py",
   "mimetype": "text/x-python",
   "name": "python",
   "nbconvert_exporter": "python",
   "pygments_lexer": "ipython3",
   "version": "3.6.3"
  }
 },
 "nbformat": 4,
 "nbformat_minor": 2
}
