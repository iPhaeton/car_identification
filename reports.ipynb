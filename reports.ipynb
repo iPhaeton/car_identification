{
 "cells": [
  {
   "cell_type": "code",
   "execution_count": null,
   "metadata": {},
   "outputs": [],
   "source": [
    "from modules.lstm_encoder import LSTMEncoder\n",
    "from modules.lstm_decoder import LSTMDecoder\n",
    "from keras.regularizers import l2\n",
    "import os\n",
    "import numpy as np\n",
    "import pandas as pd\n",
    "from IPython.display import display, Markdown, Latex, HTML, clear_output\n",
    "import ipy_table\n",
    "import ipywidgets as widgets"
   ]
  },
  {
   "cell_type": "markdown",
   "metadata": {},
   "source": [
    "## Encoding"
   ]
  },
  {
   "cell_type": "code",
   "execution_count": null,
   "metadata": {},
   "outputs": [],
   "source": [
    "encoder = LSTMEncoder(l2, './features/lstm/2_steps/', './convnet_weights/lstm/base/weights.19-1.13.hdf5')"
   ]
  },
  {
   "cell_type": "code",
   "execution_count": null,
   "metadata": {},
   "outputs": [],
   "source": [
    "features_dev = encoder.encode('dev')"
   ]
  },
  {
   "cell_type": "code",
   "execution_count": null,
   "metadata": {},
   "outputs": [],
   "source": [
    "features_dev.shape"
   ]
  },
  {
   "cell_type": "markdown",
   "metadata": {},
   "source": [
    "## Classes"
   ]
  },
  {
   "cell_type": "code",
   "execution_count": null,
   "metadata": {},
   "outputs": [],
   "source": [
    "indices = np.load('./features/lstm/2_steps/indices_dev.npy')\n",
    "true_classes = np.load('./features/res_net/classes_dev_make-model.npy')[indices]\n",
    "true_classnames = np.load('./features/res_net/classnames_dev_make-model.npy')[indices]\n",
    "true_filenames = np.load('./features/res_net/filenames_dev.npy')[indices]"
   ]
  },
  {
   "cell_type": "code",
   "execution_count": null,
   "metadata": {},
   "outputs": [],
   "source": [
    "true_classes"
   ]
  },
  {
   "cell_type": "code",
   "execution_count": null,
   "metadata": {},
   "outputs": [],
   "source": [
    "true_classnames"
   ]
  },
  {
   "cell_type": "code",
   "execution_count": null,
   "metadata": {},
   "outputs": [],
   "source": [
    "true_filenames"
   ]
  },
  {
   "cell_type": "markdown",
   "metadata": {},
   "source": [
    "## Predictions"
   ]
  },
  {
   "cell_type": "code",
   "execution_count": null,
   "metadata": {},
   "outputs": [],
   "source": [
    "def map_predictions_to_classnames(predictions, true_classes, classnames):\n",
    "    classes, indices = np.unique(true_classes, return_index=True)\n",
    "    \n",
    "    class_to_index = {}\n",
    "    for cl, index in zip(classes, indices):\n",
    "        class_to_index[cl] = index\n",
    "    \n",
    "    predicted_classnames = list(map(lambda cl: classnames[class_to_index[cl]], predictions))\n",
    "    return np.array(predicted_classnames)"
   ]
  },
  {
   "cell_type": "code",
   "execution_count": null,
   "metadata": {},
   "outputs": [],
   "source": [
    "decoder = LSTMDecoder(None, None, features_dev, true_classes, weights_path='./convnet_weights/lstm/decoder_lstm/weights.36-1.27.hdf5')"
   ]
  },
  {
   "cell_type": "code",
   "execution_count": null,
   "metadata": {},
   "outputs": [],
   "source": [
    "predictions = decoder.predict('dev')"
   ]
  },
  {
   "cell_type": "code",
   "execution_count": null,
   "metadata": {},
   "outputs": [],
   "source": [
    "predicted_classnames = map_predictions_to_classnames(predictions, true_classes, true_classnames)"
   ]
  },
  {
   "cell_type": "markdown",
   "metadata": {},
   "source": [
    "## Reports creation"
   ]
  },
  {
   "cell_type": "code",
   "execution_count": null,
   "metadata": {},
   "outputs": [],
   "source": [
    "classes, indices = np.unique(true_classes, return_index=True)\n",
    "classnames = true_classnames[indices]\n",
    "directories = list(map(lambda f: f.split('/')[0],true_filenames[indices]))"
   ]
  },
  {
   "cell_type": "code",
   "execution_count": null,
   "metadata": {},
   "outputs": [],
   "source": [
    "classes_report = pd.DataFrame({\n",
    "    'name': classnames,\n",
    "    'directory': directories,\n",
    "}, index = classes)"
   ]
  },
  {
   "cell_type": "code",
   "execution_count": null,
   "metadata": {},
   "outputs": [],
   "source": [
    "pred_classnames = list(map(lambda cl: classes_report['name'][cl], predictions))"
   ]
  },
  {
   "cell_type": "code",
   "execution_count": null,
   "metadata": {},
   "outputs": [],
   "source": [
    "samples_report = pd.DataFrame({\n",
    "    'filename': true_filenames,\n",
    "    'prediction': predictions,\n",
    "    'real_class': true_classes,\n",
    "    'predicted_name': pred_classnames,\n",
    "    'real_name': true_classnames,\n",
    "    'predicted_correctly': predictions == true_classes,\n",
    "})"
   ]
  },
  {
   "cell_type": "code",
   "execution_count": null,
   "metadata": {},
   "outputs": [],
   "source": [
    "classes_count = samples_report['real_class'].value_counts()\n",
    "classes_report['count'] = classes_count.sort_index()"
   ]
  },
  {
   "cell_type": "code",
   "execution_count": null,
   "metadata": {},
   "outputs": [],
   "source": [
    "correct_count = samples_report[samples_report['predicted_correctly'] == True]['real_class'].value_counts()\n",
    "classes_report['correct_predictions_count'] = correct_count.sort_index()"
   ]
  },
  {
   "cell_type": "code",
   "execution_count": null,
   "metadata": {},
   "outputs": [],
   "source": [
    "classes_report['correct_predictions_percent'] = classes_report['correct_predictions_count'] / classes_report['count']"
   ]
  },
  {
   "cell_type": "code",
   "execution_count": null,
   "metadata": {},
   "outputs": [],
   "source": [
    "classes_report.sort_values('count').head()"
   ]
  },
  {
   "cell_type": "markdown",
   "metadata": {},
   "source": [
    "## Classes report"
   ]
  },
  {
   "cell_type": "code",
   "execution_count": null,
   "metadata": {},
   "outputs": [],
   "source": [
    "def clear_report():\n",
    "    clear_output()\n",
    "    display(widgets.HBox((dropdown_sort, dropdown_direction)))\n",
    "\n",
    "def display_classes_report(sortBy, direction):\n",
    "    html = pd.DataFrame.to_html(classes_report.sort_values(sortBy, ascending=direction))\n",
    "    display(HTML(html))\n",
    "    \n",
    "def clear_and_display_report(sortBy, direction):\n",
    "    clear_report()\n",
    "    display_classes_report(sortBy, direction)"
   ]
  },
  {
   "cell_type": "code",
   "execution_count": null,
   "metadata": {
    "scrolled": false
   },
   "outputs": [],
   "source": [
    "dropdown_sort = widgets.Dropdown(\n",
    "    options=['correct_predictions_percent', 'name', 'count'],\n",
    "    value='correct_predictions_percent',\n",
    "    description='Sort by:',\n",
    "    disabled=False,\n",
    ")\n",
    "\n",
    "dropdown_direction = widgets.Dropdown(\n",
    "    options=['ascending', 'descending'],\n",
    "    value='ascending',\n",
    "    description='Direction:',\n",
    "    disabled=False,\n",
    ")\n",
    "\n",
    "dropdown_sort.observe(lambda v: \n",
    "                          clear_and_display_report(v['new'], dropdown_direction.value == 'ascending') \n",
    "                          if v['name'] == 'value'\n",
    "                          else None\n",
    "                     )\n",
    "dropdown_direction.observe(lambda v: \n",
    "                              clear_and_display_report(dropdown_sort.value, v['new'] == 'ascending') \n",
    "                              if v['name'] == 'value'\n",
    "                              else None\n",
    "                          )\n",
    "\n",
    "clear_and_display_report(dropdown_sort.value, dropdown_direction.value == 'ascending')"
   ]
  }
 ],
 "metadata": {
  "kernelspec": {
   "display_name": "Python 3",
   "language": "python",
   "name": "python3"
  },
  "language_info": {
   "codemirror_mode": {
    "name": "ipython",
    "version": 3
   },
   "file_extension": ".py",
   "mimetype": "text/x-python",
   "name": "python",
   "nbconvert_exporter": "python",
   "pygments_lexer": "ipython3",
   "version": "3.6.3"
  }
 },
 "nbformat": 4,
 "nbformat_minor": 2
}
