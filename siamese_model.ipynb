{
 "cells": [
  {
   "cell_type": "code",
   "execution_count": 1,
   "metadata": {},
   "outputs": [
    {
     "name": "stderr",
     "output_type": "stream",
     "text": [
      "Using TensorFlow backend.\n"
     ]
    }
   ],
   "source": [
    "from constants import img_size\n",
    "import numpy as np\n",
    "from keras import backend as K\n",
    "from keras.layers import Input, Dense, Flatten, BatchNormalization, subtract\n",
    "from keras.models import Model\n",
    "from keras.applications.resnet50 import ResNet50\n",
    "from keras.regularizers import l2\n",
    "import pandas as pd\n",
    "import numpy as np\n",
    "import tensorflow as tf\n",
    "from tqdm import tqdm_notebook\n",
    "from IPython.display import clear_output"
   ]
  },
  {
   "cell_type": "markdown",
   "metadata": {},
   "source": [
    "## Model"
   ]
  },
  {
   "cell_type": "code",
   "execution_count": 2,
   "metadata": {},
   "outputs": [],
   "source": [
    "class Seamese_Model:\n",
    "    def __init__(self, base_model, opts, kernel_opts=None, bias_opts=None):\n",
    "        self.base_model = base_model\n",
    "        self.opts = opts\n",
    "        self.kernel_opts = kernel_opts\n",
    "        self.bias_opts = bias_opts\n",
    "    \n",
    "    def kernel_initializer(self, shape, name=None):\n",
    "        if (self.kernel_opts != None):\n",
    "            values = np.random.normal(loc=self.kernel_opts['loc'], scale=self.kernel_opts['scale'], size=shape)\n",
    "            return K.variable(values, name=name)\n",
    "        else:\n",
    "            return None\n",
    "        \n",
    "    def bias_initializer(self, shape, name=None):\n",
    "        if (self.bias_opts != None):\n",
    "            values = np.random.normal(loc=self.bias_opts['loc'], scale=self.bias_opts['scale'], size=shape)\n",
    "            return K.variable(values, name=name)\n",
    "        else:\n",
    "            return None\n",
    "    \n",
    "    def get_top_model(self):\n",
    "        input_1 = Input(self.opts['features_shape'])\n",
    "        input_2 = Input(self.opts['features_shape'])\n",
    "        \n",
    "        X_1 = Flatten()(input_1)\n",
    "        X_2 = Flatten()(input_2)\n",
    "        X = subtract([X_1, X_2])\n",
    "        X = Dense(self.opts['features_shape'][1], activation='relu', name='dense_0', kernel_regularizer=l2(1e-3))(X)\n",
    "        X = BatchNormalization()(X)\n",
    "        output = Dense(1, activation='sigmoid', name='log_reg', kernel_regularizer=l2(1e-3))(X)\n",
    "        \n",
    "        model = Model(input=[input_1, input_2], output=output)\n",
    "        return model"
   ]
  },
  {
   "cell_type": "markdown",
   "metadata": {},
   "source": [
    "## Supervisor"
   ]
  },
  {
   "cell_type": "code",
   "execution_count": 3,
   "metadata": {},
   "outputs": [],
   "source": [
    "class Supervisor:\n",
    "    # use seed only for testing\n",
    "    def __init__(self, model, data_train, classes_train, filenames_train, data_dev, classes_dev, filenames_dev, seed=None):\n",
    "        self.model = model\n",
    "        self.data_train = data_train\n",
    "        self.classes_train = classes_train\n",
    "        self.filenames_train = filenames_train\n",
    "        self.data_dev = data_dev\n",
    "        self.classes_dev = classes_dev\n",
    "        self.filenames_dev = filenames_dev\n",
    "        self.seed = seed\n",
    "        \n",
    "    def get_pair(self, index_1, index_2):\n",
    "        el_1 = np.take(self.data_train, [index_1], axis=0)\n",
    "        el_2 = np.take(self.data_train, [index_2], axis=0)\n",
    "        return([el_1, el_2])\n",
    "    \n",
    "    def get_selection_index(self, index, indices):\n",
    "        selection_index = index\n",
    "        while selection_index == index:\n",
    "            selection_index = np.random.choice(indices, 1)[0]\n",
    "        return selection_index\n",
    "    \n",
    "    def get_batch(self, n, data, classes):\n",
    "        np.random.seed(self.seed)\n",
    "        indices = np.random.choice(list(range(len(data))), size=n)\n",
    "        \n",
    "        pairs = []\n",
    "        y = []\n",
    "        \n",
    "        for index in indices[:n//2]:\n",
    "            selection_indices = np.argwhere(classes == classes[index]).flatten()\n",
    "            selection_index = self.get_selection_index(index, selection_indices)\n",
    "            pairs.append(self.get_pair(index, selection_index))\n",
    "            y.append(1)\n",
    "            \n",
    "        for index in indices[n//2:]:\n",
    "            selection_indices = np.argwhere(classes != classes[index]).flatten()\n",
    "            selection_index = self.get_selection_index(index, selection_indices)\n",
    "            pairs.append(self.get_pair(index, selection_index))\n",
    "            y.append(0)\n",
    "\n",
    "        return (np.array(pairs), np.array(y))\n",
    "    \n",
    "    def train(self, iterations, batch_size, validation_size=0, validate_every=float('inf'), learning_rate=0.0001, path=None, k=[1]):\n",
    "        self.model.compile(optimizer=tf.train.AdamOptimizer(learning_rate),\n",
    "                  loss='binary_crossentropy',\n",
    "                  metrics=['acc'])\n",
    "        \n",
    "        if path != None:\n",
    "            self.model.load_weights(path)\n",
    "            \n",
    "        for i in tqdm_notebook(range(iterations)):\n",
    "            inputs, targets = self.get_batch(batch_size, self.data_train, self.classes_train)\n",
    "            metrics = self.model.train_on_batch([inputs[:,0,:], inputs[:,1,:]], targets)\n",
    "            if (i % validate_every == 0) & (i != 0):\n",
    "                self.checkpoint(batch_size, validation_size, i, metrics, k)\n",
    "    \n",
    "    def get_validation_task(self, data, classes, filenames, show_filenames=False):\n",
    "        index = np.random.choice(range(data.shape[0]), 1)[0]\n",
    "        \n",
    "        targets = np.repeat(np.take(data, [index], axis=0), data.shape[0] - 1, axis=0)\n",
    "        support_set = np.delete(data, index, axis=0)\n",
    "        pairs = np.stack([targets, support_set], axis=1)\n",
    "        \n",
    "        pair_filenames = None\n",
    "        pair_classes = None\n",
    "        target_class = None\n",
    "        support_classes = None\n",
    "        if show_filenames == True:\n",
    "            target_filenames = np.repeat(np.take(filenames, [index], axis=0), data.shape[0] - 1, axis=0)\n",
    "            target_class = np.take(classes, [index], axis=0)\n",
    "            support_filenames = np.delete(filenames, index, axis=0)\n",
    "            support_classes = np.delete(classes, index, axis=0)\n",
    "            pair_filenames = np.stack([target_filenames, support_filenames], axis=1)\n",
    "        \n",
    "        target_y = classes[index]\n",
    "        y = (np.delete(classes, index) - target_y) == 0\n",
    "\n",
    "        return pairs.reshape(pairs.shape[0], pairs.shape[1], 1, pairs.shape[2]), y, pair_filenames, target_class, support_classes\n",
    "    \n",
    "    def calculate_accuracy(self, n, batch_size, data, classes, filenames, ks, verbose=False, show_filenames=False):\n",
    "        incorrect_answers_count = np.zeros(len(ks))\n",
    "        incorrect_filenames = np.zeros(len(ks))\n",
    "        \n",
    "        for i in tqdm_notebook(range(n)):\n",
    "            inputs, targets, pair_filenames, target_class, support_classes = self.get_validation_task(data, classes, filenames, show_filenames)\n",
    "            predictions = self.model.predict([inputs[:,0,:], inputs[:,1,:]], batch_size=batch_size)\n",
    "            \n",
    "            for ind, k in enumerate(ks):\n",
    "                probs = np.flipud(np.sort(predictions.flatten()))[0:k]\n",
    "                indices = np.flipud(np.argsort(predictions.flatten()))[0:k]\n",
    "                pred_classes = np.take(support_classes, indices, axis=0)\n",
    "                unique_classes = np.unique(pred_classes)\n",
    "\n",
    "                class_to_index = {}\n",
    "                for i, cl in enumerate(unique_classes):\n",
    "                    class_to_index[cl] = i\n",
    "\n",
    "                counts = np.zeros(len(unique_classes))\n",
    "                sum_probs = np.zeros(len(unique_classes))\n",
    "                for cl, prob in zip(pred_classes, probs):\n",
    "                    counts[class_to_index[cl]] += 1\n",
    "                    sum_probs[class_to_index[cl]] += prob\n",
    "\n",
    "                pred_class = None\n",
    "                max_count = 0\n",
    "                max_sum_prob = 0\n",
    "                for cl, count, sum_prob in zip(unique_classes, counts, sum_probs):\n",
    "                    if count > max_count:\n",
    "                        pred_class = cl\n",
    "                        max_count = count\n",
    "                        max_sum_prob = sum_prob\n",
    "                    elif (count == max_count) & (sum_prob > max_sum_prob):\n",
    "                        pred_class = cl\n",
    "                        max_count = count\n",
    "                        max_sum_prob = sum_prob\n",
    "\n",
    "                if pred_class != target_class[0]:\n",
    "                    incorrect_answers_count[ind] += 1\n",
    "#                if show_filenames == True:\n",
    "#                    incorrect_filenames.append(pair_filenames[index])\n",
    "                \n",
    "        return list(map(lambda x: 1 - x/n, incorrect_answers_count))\n",
    "    \n",
    "    def checkpoint(self, batch_size, validation_size, iteration, metrics, ks=[1]):\n",
    "#        train_acc, incorrect_filenames_train = self.calculate_accuracy(\n",
    "#            n=validation_size, \n",
    "#            batch_size=batch_size, \n",
    "#            data=self.data_train, \n",
    "#            classes=self.classes_train, \n",
    "#            filenames=self.filenames_train, \n",
    "#            ks=ks,\n",
    "#        )\n",
    "        dev_acc = self.calculate_accuracy(\n",
    "            n=validation_size, \n",
    "            batch_size=batch_size, \n",
    "            data=self.data_dev, \n",
    "            classes=self.classes_dev, \n",
    "            filenames=self.filenames_dev, \n",
    "            ks=ks,\n",
    "        )\n",
    "        print('Iteration ' + str(iteration) + '. Batch metrics [loss, accuracy]:', metrics)\n",
    "#        print('Iteration ' + str(iteration) + '. Train accuracy strict:', train_acc_strict)\n",
    "        print('Iteration ' + str(iteration) + '. Validation accuracy strict:', dev_acc_strict)\n",
    "        print('Iteration ' + str(iteration) + '. Validation accuracy (rank=' + str(rank) + '):', dev_acc_loose)\n",
    "        print('---------')\n",
    "        self.model.save_weights('./siamese_model_weights/weights-' + str(iteration) + '-' + str(round(dev_acc_strict, 4)) + '.hdf5')\n",
    "        \n",
    "    def validate(self, weights, data, classes, filenames, n=350, batch_size=128, ks=[5], verbose=False):\n",
    "        self.model.load_weights(weights)\n",
    "        \n",
    "        acc = self.calculate_accuracy(\n",
    "            n=n, \n",
    "            batch_size=batch_size, \n",
    "            data=data, \n",
    "            classes=classes, \n",
    "            filenames=filenames, \n",
    "            ks=ks,\n",
    "            show_filenames=True,\n",
    "            verbose=verbose,\n",
    "        )\n",
    "        \n",
    "        return acc"
   ]
  },
  {
   "cell_type": "code",
   "execution_count": 4,
   "metadata": {},
   "outputs": [],
   "source": [
    "features_train_1 = np.load('./features/res_net/features_train.npy')\n",
    "features_train_2 = np.load('./features/inception/features_train.npy')\n",
    "features_train_3 = np.load('./features/xception/features_train.npy')\n",
    "features_dev_1 = np.load('./features/res_net/features_dev.npy')\n",
    "features_dev_2 = np.load('./features/inception/features_dev.npy')\n",
    "features_dev_3 = np.load('./features/xception/features_dev.npy')\n",
    "\n",
    "features_train = np.concatenate([features_train_1, features_train_2, features_train_3], axis=1)\n",
    "features_dev = np.concatenate([features_dev_1, features_dev_2, features_dev_3], axis=1)\n",
    "\n",
    "features_train_1 = None\n",
    "features_train_2 = None\n",
    "features_train_3 = None\n",
    "features_dev_1 = None\n",
    "features_dev_2 = None\n",
    "features_dev_3 = None"
   ]
  },
  {
   "cell_type": "code",
   "execution_count": 5,
   "metadata": {},
   "outputs": [],
   "source": [
    "classes_train = np.load('./features/res_net/classes_train.npy')\n",
    "filenames_train = np.load('./features/res_net/filenames_train.npy')\n",
    "classes_dev = np.load('./features/res_net/classes_dev.npy')\n",
    "filenames_dev = np.load('./features/res_net/filenames_dev.npy')"
   ]
  },
  {
   "cell_type": "code",
   "execution_count": 6,
   "metadata": {},
   "outputs": [
    {
     "name": "stderr",
     "output_type": "stream",
     "text": [
      "/opt/conda/lib/python3.6/site-packages/ipykernel_launcher.py:33: UserWarning: Update your `Model` call to the Keras 2 API: `Model(inputs=[<tf.Tenso..., outputs=Tensor(\"lo...)`\n"
     ]
    }
   ],
   "source": [
    "model = Seamese_Model(\n",
    "    ResNet50, \n",
    "    opts={\n",
    "        'weights': 'imagenet',\n",
    "        'input_shape': (img_size, img_size, 3),\n",
    "        'features_shape': (1, features_train.shape[1]),\n",
    "        'pooling': 'avg',\n",
    "    },\n",
    "    kernel_opts={\n",
    "        'loc': 0,\n",
    "        'scale': 1e-2,\n",
    "    },\n",
    "    bias_opts={\n",
    "        'loc': 0.5,\n",
    "        'scale': 1e-2,\n",
    "    }\n",
    ")\n",
    "\n",
    "model = model.get_top_model()"
   ]
  },
  {
   "cell_type": "code",
   "execution_count": 7,
   "metadata": {
    "scrolled": true
   },
   "outputs": [
    {
     "name": "stdout",
     "output_type": "stream",
     "text": [
      "__________________________________________________________________________________________________\n",
      "Layer (type)                    Output Shape         Param #     Connected to                     \n",
      "==================================================================================================\n",
      "input_1 (InputLayer)            (None, 1, 6144)      0                                            \n",
      "__________________________________________________________________________________________________\n",
      "input_2 (InputLayer)            (None, 1, 6144)      0                                            \n",
      "__________________________________________________________________________________________________\n",
      "flatten_1 (Flatten)             (None, 6144)         0           input_1[0][0]                    \n",
      "__________________________________________________________________________________________________\n",
      "flatten_2 (Flatten)             (None, 6144)         0           input_2[0][0]                    \n",
      "__________________________________________________________________________________________________\n",
      "subtract_1 (Subtract)           (None, 6144)         0           flatten_1[0][0]                  \n",
      "                                                                 flatten_2[0][0]                  \n",
      "__________________________________________________________________________________________________\n",
      "dense_0 (Dense)                 (None, 6144)         37754880    subtract_1[0][0]                 \n",
      "__________________________________________________________________________________________________\n",
      "batch_normalization_1 (BatchNor (None, 6144)         24576       dense_0[0][0]                    \n",
      "__________________________________________________________________________________________________\n",
      "log_reg (Dense)                 (None, 1)            6145        batch_normalization_1[0][0]      \n",
      "==================================================================================================\n",
      "Total params: 37,785,601\n",
      "Trainable params: 37,773,313\n",
      "Non-trainable params: 12,288\n",
      "__________________________________________________________________________________________________\n"
     ]
    }
   ],
   "source": [
    "model.summary()"
   ]
  },
  {
   "cell_type": "code",
   "execution_count": 8,
   "metadata": {},
   "outputs": [],
   "source": [
    "supervisor = Supervisor(\n",
    "    model=model, \n",
    "    data_train=features_train, \n",
    "    classes_train=classes_train, \n",
    "    filenames_train=filenames_train,\n",
    "    data_dev=features_dev, \n",
    "    classes_dev=classes_dev,\n",
    "    filenames_dev=filenames_dev,\n",
    ")"
   ]
  },
  {
   "cell_type": "markdown",
   "metadata": {},
   "source": [
    "## Training"
   ]
  },
  {
   "cell_type": "code",
   "execution_count": null,
   "metadata": {},
   "outputs": [],
   "source": [
    "supervisor.train(\n",
    "    iterations=250000, \n",
    "    batch_size=128, \n",
    "    validation_size=350, \n",
    "    validate_every=10000, \n",
    "    learning_rate=0.00001,\n",
    "    k=[1],\n",
    "    path='./siamese_model_weights/weights-30000-0.42.hdf5',\n",
    " )"
   ]
  },
  {
   "cell_type": "markdown",
   "metadata": {},
   "source": [
    "## Validation"
   ]
  },
  {
   "cell_type": "code",
   "execution_count": 9,
   "metadata": {},
   "outputs": [],
   "source": [
    "from scipy import ndimage\n",
    "from matplotlib import pyplot as plt"
   ]
  },
  {
   "cell_type": "code",
   "execution_count": 10,
   "metadata": {},
   "outputs": [
    {
     "data": {
      "application/vnd.jupyter.widget-view+json": {
       "model_id": "b6f298354fc44ffa8973ef534b64170f",
       "version_major": 2,
       "version_minor": 0
      },
      "text/plain": [
       "HBox(children=(IntProgress(value=0, max=350), HTML(value='')))"
      ]
     },
     "metadata": {},
     "output_type": "display_data"
    },
    {
     "name": "stdout",
     "output_type": "stream",
     "text": [
      "\n",
      "[0.35999999999999999, 0.43714285714285717, 0.48857142857142855, 0.52285714285714291, 0.5]\n"
     ]
    },
    {
     "data": {
      "application/vnd.jupyter.widget-view+json": {
       "model_id": "8fc8a44a422648f08675c2a03276522e",
       "version_major": 2,
       "version_minor": 0
      },
      "text/plain": [
       "HBox(children=(IntProgress(value=0, max=350), HTML(value='')))"
      ]
     },
     "metadata": {},
     "output_type": "display_data"
    },
    {
     "name": "stdout",
     "output_type": "stream",
     "text": [
      "\n",
      "[0.37142857142857144, 0.4028571428571428, 0.44285714285714284, 0.46285714285714286, 0.47428571428571431]\n"
     ]
    },
    {
     "data": {
      "application/vnd.jupyter.widget-view+json": {
       "model_id": "3bc9fe07faa442d093c263defb8c1fcd",
       "version_major": 2,
       "version_minor": 0
      },
      "text/plain": [
       "HBox(children=(IntProgress(value=0, max=350), HTML(value='')))"
      ]
     },
     "metadata": {},
     "output_type": "display_data"
    },
    {
     "name": "stdout",
     "output_type": "stream",
     "text": [
      "\n",
      "[0.37714285714285711, 0.4514285714285714, 0.48857142857142855, 0.52285714285714291, 0.47999999999999998]\n"
     ]
    },
    {
     "data": {
      "application/vnd.jupyter.widget-view+json": {
       "model_id": "a395136f9feb4f40bc2b07fc51905911",
       "version_major": 2,
       "version_minor": 0
      },
      "text/plain": [
       "HBox(children=(IntProgress(value=0, max=350), HTML(value='')))"
      ]
     },
     "metadata": {},
     "output_type": "display_data"
    },
    {
     "name": "stdout",
     "output_type": "stream",
     "text": [
      "\n",
      "[0.43142857142857138, 0.47142857142857142, 0.5, 0.51428571428571423, 0.47142857142857142]\n"
     ]
    },
    {
     "data": {
      "application/vnd.jupyter.widget-view+json": {
       "model_id": "0b16886a43d04df8ba2d872297fec5a1",
       "version_major": 2,
       "version_minor": 0
      },
      "text/plain": [
       "HBox(children=(IntProgress(value=0, max=350), HTML(value='')))"
      ]
     },
     "metadata": {},
     "output_type": "display_data"
    },
    {
     "name": "stdout",
     "output_type": "stream",
     "text": [
      "\n",
      "[0.35428571428571431, 0.40857142857142859, 0.46285714285714286, 0.47714285714285709, 0.46857142857142853]\n"
     ]
    },
    {
     "data": {
      "application/vnd.jupyter.widget-view+json": {
       "model_id": "4ea27aed19964ab3ad7e4a1ad2b100d4",
       "version_major": 2,
       "version_minor": 0
      },
      "text/plain": [
       "HBox(children=(IntProgress(value=0, max=350), HTML(value='')))"
      ]
     },
     "metadata": {},
     "output_type": "display_data"
    },
    {
     "name": "stdout",
     "output_type": "stream",
     "text": [
      "\n",
      "[0.39714285714285713, 0.45428571428571429, 0.48857142857142855, 0.52857142857142858, 0.52000000000000002]\n"
     ]
    }
   ],
   "source": [
    "accuracies = []\n",
    "\n",
    "for i in range(6):\n",
    "    acc = supervisor.validate(\n",
    "        weights='./siamese_model_weights/weights-15000-0.4457.hdf5', \n",
    "        data=features_dev, \n",
    "        classes=classes_dev, \n",
    "        filenames=filenames_dev, \n",
    "        n=350, \n",
    "        batch_size=128, \n",
    "        ks=[1, 5, 10, 20, 50],\n",
    "        verbose=False,\n",
    "    )\n",
    "    print(acc)\n",
    "    accuracies.append(acc)"
   ]
  },
  {
   "cell_type": "code",
   "execution_count": 18,
   "metadata": {},
   "outputs": [
    {
     "name": "stdout",
     "output_type": "stream",
     "text": [
      "[ 0.38190476  0.43761905  0.47857143  0.5047619   0.48571429]\n"
     ]
    }
   ],
   "source": [
    "print(np.mean(np.array(accuracies), axis=0))"
   ]
  },
  {
   "cell_type": "code",
   "execution_count": null,
   "metadata": {
    "scrolled": false
   },
   "outputs": [],
   "source": [
    "for i in range(20):\n",
    "    image_1 = np.array(ndimage.imread('./data/dev_dataset/' + incorrect_filenames[i][0], flatten=False))\n",
    "    image_2 = np.array(ndimage.imread('./data/dev_dataset/' + incorrect_filenames[i][1], flatten=False))\n",
    "    print(incorrect_filenames[i])\n",
    "    fig = plt.figure(figsize=(20,10))\n",
    "    ax1 = fig.add_subplot(2,2,1)\n",
    "    ax1.imshow(image_1)\n",
    "    ax2 = fig.add_subplot(2,2,2)\n",
    "    ax2.imshow(image_2)"
   ]
  }
 ],
 "metadata": {
  "kernelspec": {
   "display_name": "Python 3",
   "language": "python",
   "name": "python3"
  },
  "language_info": {
   "codemirror_mode": {
    "name": "ipython",
    "version": 3
   },
   "file_extension": ".py",
   "mimetype": "text/x-python",
   "name": "python",
   "nbconvert_exporter": "python",
   "pygments_lexer": "ipython3",
   "version": "3.6.3"
  }
 },
 "nbformat": 4,
 "nbformat_minor": 2
}
