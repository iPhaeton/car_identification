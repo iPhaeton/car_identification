{
 "cells": [
  {
   "cell_type": "code",
   "execution_count": null,
   "metadata": {},
   "outputs": [],
   "source": [
    "from constants import img_size\n",
    "import numpy as np\n",
    "from keras import backend as K\n",
    "from keras.layers import Input, Dense, Flatten, subtract\n",
    "from keras.models import Model\n",
    "from keras.applications.resnet50 import ResNet50\n",
    "import pandas as pd\n",
    "import numpy as np\n",
    "import tensorflow as tf\n",
    "from tqdm import tqdm_notebook\n",
    "from IPython.display import clear_output"
   ]
  },
  {
   "cell_type": "markdown",
   "metadata": {},
   "source": [
    "## Model"
   ]
  },
  {
   "cell_type": "code",
   "execution_count": null,
   "metadata": {},
   "outputs": [],
   "source": [
    "class Seamese_Model:\n",
    "    def __init__(self, base_model, opts, kernel_opts=None, bias_opts=None):\n",
    "        self.base_model = base_model\n",
    "        self.opts = opts\n",
    "        self.kernel_opts = kernel_opts\n",
    "        self.bias_opts = bias_opts\n",
    "    \n",
    "    def kernel_initializer(self, shape, name=None):\n",
    "        if (self.kernel_opts != None):\n",
    "            values = np.random.normal(loc=self.kernel_opts['loc'], scale=self.kernel_opts['scale'], size=shape)\n",
    "            return K.variable(values, name=name)\n",
    "        else:\n",
    "            return None\n",
    "        \n",
    "    def bias_initializer(self, shape, name=None):\n",
    "        if (self.bias_opts != None):\n",
    "            values = np.random.normal(loc=self.bias_opts['loc'], scale=self.bias_opts['scale'], size=shape)\n",
    "            return K.variable(values, name=name)\n",
    "        else:\n",
    "            return None\n",
    "    \n",
    "    def get_top_model(self):\n",
    "        input_1 = Input(self.opts['features_shape'])\n",
    "        input_2 = Input(self.opts['features_shape'])\n",
    "        \n",
    "        X_1 = Flatten()(input_1)\n",
    "        X_2 = Flatten()(input_2)\n",
    "        distance = subtract([X_1, X_2])\n",
    "\n",
    "        prediction = Dense(1, activation='sigmoid', bias_initializer=self.bias_initializer, name='log_reg')(distance)\n",
    "        model = Model(input=[input_1, input_2], output=prediction)\n",
    "        return model"
   ]
  },
  {
   "cell_type": "code",
   "execution_count": null,
   "metadata": {},
   "outputs": [],
   "source": [
    "model = Seamese_Model(\n",
    "    ResNet50, \n",
    "    opts={\n",
    "        'weights': 'imagenet',\n",
    "        'input_shape': (img_size, img_size, 3),\n",
    "        'features_shape': (1, 2048),\n",
    "        'pooling': 'avg',\n",
    "    },\n",
    "    kernel_opts={\n",
    "        'loc': 0,\n",
    "        'scale': 1e-2,\n",
    "    },\n",
    "    bias_opts={\n",
    "        'loc': 0.5,\n",
    "        'scale': 1e-2,\n",
    "    }\n",
    ")\n",
    "\n",
    "model = model.get_top_model()"
   ]
  },
  {
   "cell_type": "code",
   "execution_count": null,
   "metadata": {
    "scrolled": true
   },
   "outputs": [],
   "source": [
    "model.summary()"
   ]
  },
  {
   "cell_type": "markdown",
   "metadata": {},
   "source": [
    "## Supervisor"
   ]
  },
  {
   "cell_type": "code",
   "execution_count": null,
   "metadata": {},
   "outputs": [],
   "source": [
    "class Supervisor:\n",
    "    # use seed only for testing\n",
    "    def __init__(self, model, data_train, classes_train, data_dev, classes_dev, seed=None):\n",
    "        self.model = model\n",
    "        self.data_train = data_train\n",
    "        self.classes_train = classes_train\n",
    "        self.data_dev = data_dev\n",
    "        self.classes_dev = classes_dev\n",
    "        self.seed = seed\n",
    "        \n",
    "    def get_pair(self, index_1, index_2):\n",
    "        el_1 = np.take(self.data_train, [index_1], axis=0)\n",
    "        el_2 = np.take(self.data_train, [index_2], axis=0)\n",
    "        return([el_1, el_2])\n",
    "    \n",
    "    def get_selection_index(self, index, indices):\n",
    "        selection_index = index\n",
    "        while selection_index == index:\n",
    "            selection_index = np.random.choice(indices, 1)[0]\n",
    "        return selection_index\n",
    "    \n",
    "    def get_batch(self, n, data, classes):\n",
    "        np.random.seed(self.seed)\n",
    "        indices = np.random.choice(list(range(len(data))), size=n)\n",
    "        \n",
    "        pairs = []\n",
    "        y = []\n",
    "        \n",
    "        for index in indices[:n//2]:\n",
    "            selection_indices = np.argwhere(classes == classes[index]).flatten()\n",
    "            selection_index = self.get_selection_index(index, selection_indices)\n",
    "            pairs.append(self.get_pair(index, selection_index))\n",
    "            y.append(1)\n",
    "            \n",
    "        for index in indices[n//2:]:\n",
    "            selection_indices = np.argwhere(classes != classes[index]).flatten()\n",
    "            selection_index = self.get_selection_index(index, selection_indices)\n",
    "            pairs.append(self.get_pair(index, selection_index))\n",
    "            y.append(0)\n",
    "\n",
    "        return (np.array(pairs), np.array(y))\n",
    "    \n",
    "    def train(self, iterations, batch_size, validation_size=0, validate_every=float('inf'), learning_rate=0.0001, path=None):\n",
    "        self.model.compile(optimizer=tf.train.AdamOptimizer(learning_rate),\n",
    "                  loss='binary_crossentropy',\n",
    "                  metrics=['acc'])\n",
    "        \n",
    "        if path != None:\n",
    "            self.model.load_weights(path)\n",
    "            \n",
    "        for i in tqdm_notebook(range(iterations)):\n",
    "            inputs, targets = self.get_batch(batch_size, self.data_train, self.classes_train)\n",
    "            metrics = self.model.train_on_batch([inputs[:,0,:], inputs[:,1,:]], targets)\n",
    "            if (i % validate_every == 0) & (i != 0):\n",
    "                train_acc = self.calculate_accuracy(validation_size, batch_size, self.data_train, self.classes_train)\n",
    "                dev_acc = self.calculate_accuracy(validation_size, batch_size, self.data_dev, self.classes_dev)\n",
    "                print('Iteration ' + str(i) + '. Batch metrics [loss, accuracy]:', metrics)\n",
    "                print('Iteration ' + str(i) + '. Train accuracy:', train_acc)\n",
    "                print('Iteration ' + str(i) + '. Validation accuracy:', dev_acc)\n",
    "                print('---------')\n",
    "    \n",
    "    def get_validation_task(self, data, classes):\n",
    "        index = np.random.choice(range(data.shape[0]), 1)[0]\n",
    "        \n",
    "        targets = np.repeat(np.take(data, [index], axis=0), data.shape[0] - 1, axis=0)\n",
    "        support_set = np.delete(data, index, axis=0)\n",
    "        pairs = np.stack([targets, support_set], axis=1)\n",
    "        \n",
    "        target_y = classes[index]\n",
    "        y = (np.delete(classes, index) - target_y) == 0\n",
    "\n",
    "        return pairs.reshape(pairs.shape[0], pairs.shape[1], 1, pairs.shape[2]), y\n",
    "    \n",
    "    def calculate_accuracy(self, n, batch_size, data, classes, verbose=False):\n",
    "        incorrect_answers = 0\n",
    "        print('Validating...')\n",
    "        for i in tqdm_notebook(range(n)):\n",
    "            inputs, targets = self.get_validation_task(data, classes)\n",
    "            predictions = self.model.predict([inputs[:,0,:], inputs[:,1,:]], batch_size=batch_size)\n",
    "            \n",
    "            index = np.argmax(predictions.flatten())\n",
    "            \n",
    "            if verbose == True:\n",
    "                max_value = np.max(predictions.flatten())\n",
    "                correct_indices = np.argwhere(targets == 1).flatten()\n",
    "                probs_for_correct_answers = np.take(predictions, correct_indices)\n",
    "                print('------------------------------------------------------')\n",
    "                print(max_value)\n",
    "                print(probs_for_correct_answers)\n",
    "                print('------------------------------------------------------')\n",
    "            \n",
    "            if targets[index] != 1:\n",
    "                incorrect_answers +=1\n",
    "        return 1 - incorrect_answers / n"
   ]
  },
  {
   "cell_type": "code",
   "execution_count": null,
   "metadata": {},
   "outputs": [],
   "source": [
    "features_train = np.load('./data/features/res_net/features_train.npy')\n",
    "classes_train = np.load('./data/features/res_net/classes_train.npy')\n",
    "features_dev = np.load('./data/features/res_net/features_dev.npy')\n",
    "classes_dev = np.load('./data/features/res_net/classes_dev.npy')"
   ]
  },
  {
   "cell_type": "code",
   "execution_count": null,
   "metadata": {},
   "outputs": [],
   "source": [
    "supervisor = Supervisor(\n",
    "    model=model, \n",
    "    data_train=features_train, \n",
    "    classes_train=classes_train, \n",
    "    data_dev=features_dev, \n",
    "    classes_dev=classes_dev\n",
    ")"
   ]
  },
  {
   "cell_type": "code",
   "execution_count": null,
   "metadata": {},
   "outputs": [],
   "source": [
    "supervisor.train(iterations=250000, batch_size=128, validation_size=350, validate_every=10000, learning_rate=0.00001)"
   ]
  }
 ],
 "metadata": {
  "kernelspec": {
   "display_name": "Python 3",
   "language": "python",
   "name": "python3"
  },
  "language_info": {
   "codemirror_mode": {
    "name": "ipython",
    "version": 3
   },
   "file_extension": ".py",
   "mimetype": "text/x-python",
   "name": "python",
   "nbconvert_exporter": "python",
   "pygments_lexer": "ipython3",
   "version": "3.6.3"
  }
 },
 "nbformat": 4,
 "nbformat_minor": 2
}
