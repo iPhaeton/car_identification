{
 "cells": [
  {
   "cell_type": "code",
   "execution_count": 1,
   "metadata": {},
   "outputs": [
    {
     "name": "stderr",
     "output_type": "stream",
     "text": [
      "Using TensorFlow backend.\n"
     ]
    }
   ],
   "source": [
    "from constants import img_size\n",
    "import numpy as np\n",
    "from keras import backend as K\n",
    "from keras.layers import Input, Dense, subtract\n",
    "from keras.models import Model\n",
    "from keras.applications.resnet50 import ResNet50\n",
    "import pandas as pd\n",
    "import numpy as np"
   ]
  },
  {
   "cell_type": "markdown",
   "metadata": {},
   "source": [
    "## Model"
   ]
  },
  {
   "cell_type": "code",
   "execution_count": 137,
   "metadata": {},
   "outputs": [],
   "source": [
    "class Seamese_Model:\n",
    "    def __init__(self, base_model, opts, kernel_opts=None, bias_opts=None):\n",
    "        self.base_model = base_model\n",
    "        self.opts = opts\n",
    "        self.kernel_opts = kernel_opts\n",
    "        self.bias_opts = bias_opts\n",
    "    \n",
    "    def kernel_initializer(self, shape, name=None):\n",
    "        if (self.kernel_opts != None):\n",
    "            values = np.random.normal(loc=self.kernel_opts['loc'], scale=self.kernel_opts['scale'], size=shape)\n",
    "            return K.variable(values, name=name)\n",
    "        else:\n",
    "            return None\n",
    "        \n",
    "    def bias_initializer(self, shape, name=None):\n",
    "        if (self.bias_opts != None):\n",
    "            values = np.random.normal(loc=self.bias_opts['loc'], scale=self.bias_opts['scale'], size=shape)\n",
    "            return K.variable(values, name=name)\n",
    "        else:\n",
    "            return None\n",
    "        \n",
    "    def get_model(self):\n",
    "        base_model = self.base_model(\n",
    "            include_top=False, \n",
    "            weights=self.opts['weights'], \n",
    "            input_shape=self.opts['input_shape'],\n",
    "            pooling=self.opts['pooling'],\n",
    "        )\n",
    "        \n",
    "        for layer in base_model.layers:\n",
    "            layer.trainable = False\n",
    "        \n",
    "        input_1 = Input(self.opts['input_shape'])\n",
    "        input_2 = Input(self.opts['input_shape'])\n",
    "\n",
    "        feture_vec_1 = base_model(input_1)\n",
    "        feture_vec_2 = base_model(input_2)\n",
    "        distance = subtract([feture_vec_1, feture_vec_2])\n",
    "\n",
    "        prediction = Dense(1, activation='sigmoid', bias_initializer=self.bias_initializer)(distance)\n",
    "        model = Model(input=[input_1, input_2], output=prediction)\n",
    "        return model"
   ]
  },
  {
   "cell_type": "code",
   "execution_count": 3,
   "metadata": {},
   "outputs": [
    {
     "name": "stderr",
     "output_type": "stream",
     "text": [
      "/opt/conda/lib/python3.6/site-packages/ipykernel_launcher.py:41: UserWarning: Update your `Model` call to the Keras 2 API: `Model(inputs=[<tf.Tenso..., outputs=Tensor(\"de...)`\n"
     ]
    }
   ],
   "source": [
    "model = Seamese_Model(\n",
    "    ResNet50, \n",
    "    opts={\n",
    "        'weights': 'imagenet',\n",
    "        'input_shape': (img_size, img_size, 3),\n",
    "        'pooling': 'avg',\n",
    "    },\n",
    "    kernel_opts={\n",
    "        'loc': 0,\n",
    "        'scale': 1e-2,\n",
    "    },\n",
    "    bias_opts={\n",
    "        'loc': 0.5,\n",
    "        'scale': 1e-2,\n",
    "    }\n",
    ")\n",
    "\n",
    "model = model.get_model()"
   ]
  },
  {
   "cell_type": "code",
   "execution_count": 4,
   "metadata": {
    "scrolled": true
   },
   "outputs": [
    {
     "name": "stdout",
     "output_type": "stream",
     "text": [
      "__________________________________________________________________________________________________\n",
      "Layer (type)                    Output Shape         Param #     Connected to                     \n",
      "==================================================================================================\n",
      "input_2 (InputLayer)            (None, 224, 224, 3)  0                                            \n",
      "__________________________________________________________________________________________________\n",
      "input_3 (InputLayer)            (None, 224, 224, 3)  0                                            \n",
      "__________________________________________________________________________________________________\n",
      "resnet50 (Model)                (None, 2048)         23587712    input_2[0][0]                    \n",
      "                                                                 input_3[0][0]                    \n",
      "__________________________________________________________________________________________________\n",
      "subtract_1 (Subtract)           (None, 2048)         0           resnet50[1][0]                   \n",
      "                                                                 resnet50[2][0]                   \n",
      "__________________________________________________________________________________________________\n",
      "dense_1 (Dense)                 (None, 1)            2049        subtract_1[0][0]                 \n",
      "==================================================================================================\n",
      "Total params: 23,589,761\n",
      "Trainable params: 2,049\n",
      "Non-trainable params: 23,587,712\n",
      "__________________________________________________________________________________________________\n"
     ]
    }
   ],
   "source": [
    "model.summary()"
   ]
  },
  {
   "cell_type": "markdown",
   "metadata": {},
   "source": [
    "## Supervisor"
   ]
  },
  {
   "cell_type": "code",
   "execution_count": 197,
   "metadata": {},
   "outputs": [],
   "source": [
    "class Supervisor:\n",
    "    # use seed only for testing\n",
    "    def __init__(self, data, classes, seed=None):\n",
    "        self.data = data\n",
    "        self.classes = classes\n",
    "        self.seed = seed\n",
    "        \n",
    "    def get_pair(self, index_1, index_2):\n",
    "        el_1 = np.take(self.data, [index_1], axis=0)\n",
    "        el_2 = np.take(self.data, [index_2], axis=0)\n",
    "        el_1 = el_1.reshape((el_1.shape[1], el_1.shape[0]))\n",
    "        el_2 = el_2.reshape((el_2.shape[1], el_2.shape[0]))\n",
    "        return([el_1, el_2])\n",
    "    \n",
    "    def get_selection_index(self, index, indices):\n",
    "        selection_index = index\n",
    "        while selection_index == index:\n",
    "            selection_index = np.random.choice(indices, 1)[0]\n",
    "        return selection_index\n",
    "    \n",
    "    def get_batch(self, n):\n",
    "        np.random.seed(self.seed)\n",
    "        indices = np.random.choice(list(range(len(self.data))), size=n)\n",
    "        \n",
    "        pairs = []\n",
    "        y = []\n",
    "        \n",
    "        for index in indices[:n//2]:\n",
    "            selection_indices = np.argwhere(self.classes == self.classes[index]).flatten()\n",
    "            selection_index = self.get_selection_index(index, selection_indices)\n",
    "            pairs.append(self.get_pair(index, selection_index))\n",
    "            y.append(1)\n",
    "            \n",
    "        for index in indices[n//2:]:\n",
    "            selection_indices = np.argwhere(self.classes != self.classes[index]).flatten()\n",
    "            selection_index = self.get_selection_index(index, selection_indices)\n",
    "            pairs.append(self.get_pair(index, selection_index))\n",
    "            y.append(0)\n",
    "            \n",
    "        return (np.array(pairs), np.array(y))"
   ]
  },
  {
   "cell_type": "code",
   "execution_count": 40,
   "metadata": {},
   "outputs": [],
   "source": [
    "features_train = np.load('./data/features/res_net/features_train.npy')\n",
    "classes_train = np.load('./data/features/res_net/classes_train.npy')"
   ]
  },
  {
   "cell_type": "code",
   "execution_count": 198,
   "metadata": {},
   "outputs": [],
   "source": [
    "supervisor = Supervisor(features_train, classes_train, 1)"
   ]
  },
  {
   "cell_type": "code",
   "execution_count": 201,
   "metadata": {},
   "outputs": [
    {
     "name": "stdout",
     "output_type": "stream",
     "text": [
      "CPU times: user 10 ms, sys: 0 ns, total: 10 ms\n",
      "Wall time: 12.1 ms\n"
     ]
    },
    {
     "data": {
      "text/plain": [
       "array([1, 1, 1, 1, 1, 1, 1, 1, 1, 1, 1, 1, 1, 1, 1, 1, 1, 1, 1, 1, 1, 1, 1,\n",
       "       1, 1, 1, 1, 1, 1, 1, 1, 1, 1, 1, 1, 1, 1, 1, 1, 1, 1, 1, 1, 1, 1, 1,\n",
       "       1, 1, 1, 1, 1, 1, 1, 1, 1, 1, 1, 1, 1, 1, 1, 1, 1, 1, 0, 0, 0, 0, 0,\n",
       "       0, 0, 0, 0, 0, 0, 0, 0, 0, 0, 0, 0, 0, 0, 0, 0, 0, 0, 0, 0, 0, 0, 0,\n",
       "       0, 0, 0, 0, 0, 0, 0, 0, 0, 0, 0, 0, 0, 0, 0, 0, 0, 0, 0, 0, 0, 0, 0,\n",
       "       0, 0, 0, 0, 0, 0, 0, 0, 0, 0, 0, 0, 0])"
      ]
     },
     "execution_count": 201,
     "metadata": {},
     "output_type": "execute_result"
    }
   ],
   "source": [
    "%%time\n",
    "supervisor.get_batch(128)[1]"
   ]
  },
  {
   "cell_type": "markdown",
   "metadata": {},
   "source": [
    "## Code"
   ]
  }
 ],
 "metadata": {
  "kernelspec": {
   "display_name": "Python 3",
   "language": "python",
   "name": "python3"
  },
  "language_info": {
   "codemirror_mode": {
    "name": "ipython",
    "version": 3
   },
   "file_extension": ".py",
   "mimetype": "text/x-python",
   "name": "python",
   "nbconvert_exporter": "python",
   "pygments_lexer": "ipython3",
   "version": "3.6.3"
  }
 },
 "nbformat": 4,
 "nbformat_minor": 2
}
