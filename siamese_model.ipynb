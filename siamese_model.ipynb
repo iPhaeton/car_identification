{
 "cells": [
  {
   "cell_type": "code",
   "execution_count": 1,
   "metadata": {},
   "outputs": [
    {
     "name": "stderr",
     "output_type": "stream",
     "text": [
      "Using TensorFlow backend.\n"
     ]
    }
   ],
   "source": [
    "from constants import img_size\n",
    "import numpy as np\n",
    "from keras import backend as K\n",
    "from keras.layers import Input, Dense, subtract\n",
    "from keras.models import Model\n",
    "from keras.applications.resnet50 import ResNet50\n",
    "import pandas as pd"
   ]
  },
  {
   "cell_type": "markdown",
   "metadata": {},
   "source": [
    "## Model"
   ]
  },
  {
   "cell_type": "code",
   "execution_count": 2,
   "metadata": {},
   "outputs": [],
   "source": [
    "class Seamese_Model:\n",
    "    def __init__(self, base_model, opts, kernel_opts=None, bias_opts=None):\n",
    "        self.base_model = base_model\n",
    "        self.opts = opts\n",
    "        self.kernel_opts = kernel_opts\n",
    "        self.bias_opts = bias_opts\n",
    "    \n",
    "    def kernel_initializer(self, shape, name=None):\n",
    "        if (self.kernel_opts != None):\n",
    "            values = np.random.normal(loc=self.kernel_opts['loc'], scale=self.kernel_opts['scale'], size=shape)\n",
    "            return K.variable(values, name=name)\n",
    "        else:\n",
    "            return None\n",
    "        \n",
    "    def bias_initializer(self, shape, name=None):\n",
    "        if (self.bias_opts != None):\n",
    "            values = np.random.normal(loc=self.bias_opts['loc'], scale=self.bias_opts['scale'], size=shape)\n",
    "            return K.variable(values, name=name)\n",
    "        else:\n",
    "            return None\n",
    "        \n",
    "    def get_model(self):\n",
    "        base_model = self.base_model(\n",
    "            include_top=False, \n",
    "            weights=self.opts['weights'], \n",
    "            input_shape=self.opts['input_shape'],\n",
    "            pooling=self.opts['pooling'],\n",
    "        )\n",
    "        \n",
    "        for layer in base_model.layers:\n",
    "            layer.trainable = False\n",
    "        \n",
    "        input_1 = Input(self.opts['input_shape'])\n",
    "        input_2 = Input(self.opts['input_shape'])\n",
    "\n",
    "        feture_vec_1 = base_model(input_1)\n",
    "        feture_vec_2 = base_model(input_2)\n",
    "        distance = subtract([feture_vec_1, feture_vec_2])\n",
    "\n",
    "        prediction = Dense(1, activation='sigmoid', bias_initializer=self.bias_initializer)(distance)\n",
    "        model = Model(input=[input_1, input_2], output=prediction)\n",
    "        return model"
   ]
  },
  {
   "cell_type": "code",
   "execution_count": 3,
   "metadata": {},
   "outputs": [
    {
     "name": "stderr",
     "output_type": "stream",
     "text": [
      "/opt/conda/lib/python3.6/site-packages/ipykernel_launcher.py:41: UserWarning: Update your `Model` call to the Keras 2 API: `Model(inputs=[<tf.Tenso..., outputs=Tensor(\"de...)`\n"
     ]
    }
   ],
   "source": [
    "model = Seamese_Model(\n",
    "    ResNet50, \n",
    "    opts={\n",
    "        'weights': 'imagenet',\n",
    "        'input_shape': (img_size, img_size, 3),\n",
    "        'pooling': 'avg',\n",
    "    },\n",
    "    kernel_opts={\n",
    "        'loc': 0,\n",
    "        'scale': 1e-2,\n",
    "    },\n",
    "    bias_opts={\n",
    "        'loc': 0.5,\n",
    "        'scale': 1e-2,\n",
    "    }\n",
    ")\n",
    "\n",
    "model = model.get_model()"
   ]
  },
  {
   "cell_type": "code",
   "execution_count": 4,
   "metadata": {
    "scrolled": true
   },
   "outputs": [
    {
     "name": "stdout",
     "output_type": "stream",
     "text": [
      "__________________________________________________________________________________________________\n",
      "Layer (type)                    Output Shape         Param #     Connected to                     \n",
      "==================================================================================================\n",
      "input_2 (InputLayer)            (None, 224, 224, 3)  0                                            \n",
      "__________________________________________________________________________________________________\n",
      "input_3 (InputLayer)            (None, 224, 224, 3)  0                                            \n",
      "__________________________________________________________________________________________________\n",
      "resnet50 (Model)                (None, 2048)         23587712    input_2[0][0]                    \n",
      "                                                                 input_3[0][0]                    \n",
      "__________________________________________________________________________________________________\n",
      "subtract_1 (Subtract)           (None, 2048)         0           resnet50[1][0]                   \n",
      "                                                                 resnet50[2][0]                   \n",
      "__________________________________________________________________________________________________\n",
      "dense_1 (Dense)                 (None, 1)            2049        subtract_1[0][0]                 \n",
      "==================================================================================================\n",
      "Total params: 23,589,761\n",
      "Trainable params: 2,049\n",
      "Non-trainable params: 23,587,712\n",
      "__________________________________________________________________________________________________\n"
     ]
    }
   ],
   "source": [
    "model.summary()"
   ]
  },
  {
   "cell_type": "markdown",
   "metadata": {},
   "source": [
    "## Supervisor"
   ]
  },
  {
   "cell_type": "code",
   "execution_count": 90,
   "metadata": {},
   "outputs": [],
   "source": [
    "class Supervisor:\n",
    "    # use seed only for testing\n",
    "    def __init__(self, df, seed=None):\n",
    "        self.dataframe = df\n",
    "        self.seed = seed\n",
    "    \n",
    "    def get_batch(self, n):\n",
    "        np.random.seed(self.seed)\n",
    "        classes = np.random.choice(self.dataframe['class'], size=n)\n",
    "        batch = {'pairs': [], 'y': []}\n",
    "        \n",
    "        for i in range(n // 2):\n",
    "            selection = self.dataframe[self.dataframe['class'] == classes[i]]\n",
    "            indices = np.random.choice(selection.index, 2)\n",
    "            batch['pairs'].append([\n",
    "                selection[selection.index == indices[0]]['filename'].values[0],\n",
    "                selection[selection.index == indices[1]]['filename'].values[0],\n",
    "            ])\n",
    "            batch['y'].append(1)\n",
    "            \n",
    "        for i in range(n // 2, n):\n",
    "            selection = self.dataframe[self.dataframe['class'] != classes[i]]\n",
    "            indices = np.random.choice(selection.index, 2)\n",
    "            batch['pairs'].append([\n",
    "                selection[selection.index == indices[0]]['filename'].values[0],\n",
    "                selection[selection.index == indices[1]]['filename'].values[0],\n",
    "            ])\n",
    "            batch['y'].append(0)\n",
    "            \n",
    "        return batch"
   ]
  },
  {
   "cell_type": "code",
   "execution_count": 91,
   "metadata": {},
   "outputs": [],
   "source": [
    "labels = pd.read_csv('./data/labels.csv')"
   ]
  },
  {
   "cell_type": "code",
   "execution_count": 97,
   "metadata": {},
   "outputs": [],
   "source": [
    "supervisor = Supervisor(labels)"
   ]
  },
  {
   "cell_type": "code",
   "execution_count": 124,
   "metadata": {},
   "outputs": [
    {
     "name": "stdout",
     "output_type": "stream",
     "text": [
      "CPU times: user 70 ms, sys: 0 ns, total: 70 ms\n",
      "Wall time: 59.9 ms\n"
     ]
    },
    {
     "data": {
      "text/plain": [
       "{'pairs': [['05624.jpg', '02921.jpg'],\n",
       "  ['05512.jpg', '08029.jpg'],\n",
       "  ['01836.jpg', '06931.jpg'],\n",
       "  ['06120.jpg', '06508.jpg'],\n",
       "  ['05465.jpg', '02846.jpg'],\n",
       "  ['00161.jpg', '04032.jpg'],\n",
       "  ['03837.jpg', '06993.jpg'],\n",
       "  ['07458.jpg', '07598.jpg'],\n",
       "  ['05785.jpg', '02358.jpg'],\n",
       "  ['01374.jpg', '01374.jpg'],\n",
       "  ['05623.jpg', '01776.jpg'],\n",
       "  ['04783.jpg', '00746.jpg'],\n",
       "  ['07783.jpg', '07466.jpg'],\n",
       "  ['01128.jpg', '04706.jpg'],\n",
       "  ['07391.jpg', '01592.jpg'],\n",
       "  ['00772.jpg', '03412.jpg'],\n",
       "  ['05698.jpg', '07129.jpg'],\n",
       "  ['04084.jpg', '01577.jpg'],\n",
       "  ['06195.jpg', '07497.jpg'],\n",
       "  ['01394.jpg', '07014.jpg'],\n",
       "  ['03130.jpg', '04172.jpg'],\n",
       "  ['06264.jpg', '07011.jpg'],\n",
       "  ['02082.jpg', '03856.jpg'],\n",
       "  ['00953.jpg', '06890.jpg'],\n",
       "  ['05932.jpg', '03864.jpg'],\n",
       "  ['04943.jpg', '04506.jpg'],\n",
       "  ['05400.jpg', '03929.jpg'],\n",
       "  ['03302.jpg', '01592.jpg'],\n",
       "  ['04546.jpg', '05088.jpg'],\n",
       "  ['05354.jpg', '03154.jpg'],\n",
       "  ['03458.jpg', '06762.jpg'],\n",
       "  ['05170.jpg', '05085.jpg']],\n",
       " 'y': [1,\n",
       "  1,\n",
       "  1,\n",
       "  1,\n",
       "  1,\n",
       "  1,\n",
       "  1,\n",
       "  1,\n",
       "  1,\n",
       "  1,\n",
       "  1,\n",
       "  1,\n",
       "  1,\n",
       "  1,\n",
       "  1,\n",
       "  1,\n",
       "  0,\n",
       "  0,\n",
       "  0,\n",
       "  0,\n",
       "  0,\n",
       "  0,\n",
       "  0,\n",
       "  0,\n",
       "  0,\n",
       "  0,\n",
       "  0,\n",
       "  0,\n",
       "  0,\n",
       "  0,\n",
       "  0,\n",
       "  0]}"
      ]
     },
     "execution_count": 124,
     "metadata": {},
     "output_type": "execute_result"
    }
   ],
   "source": [
    "%%time\n",
    "supervisor.get_batch(32)"
   ]
  },
  {
   "cell_type": "markdown",
   "metadata": {},
   "source": [
    "## Code"
   ]
  }
 ],
 "metadata": {
  "kernelspec": {
   "display_name": "Python 3",
   "language": "python",
   "name": "python3"
  },
  "language_info": {
   "codemirror_mode": {
    "name": "ipython",
    "version": 3
   },
   "file_extension": ".py",
   "mimetype": "text/x-python",
   "name": "python",
   "nbconvert_exporter": "python",
   "pygments_lexer": "ipython3",
   "version": "3.6.3"
  }
 },
 "nbformat": 4,
 "nbformat_minor": 2
}
