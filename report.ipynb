{
 "cells": [
  {
   "cell_type": "code",
   "execution_count": 1,
   "metadata": {},
   "outputs": [
    {
     "name": "stderr",
     "output_type": "stream",
     "text": [
      "Using TensorFlow backend.\n"
     ]
    }
   ],
   "source": [
    "from modules.lstm_encoder import LSTM_encoder\n",
    "from modules.lstm_decoder import LSTM_decoder\n",
    "from keras.regularizers import l2\n",
    "import os\n",
    "import numpy as np"
   ]
  },
  {
   "cell_type": "markdown",
   "metadata": {},
   "source": [
    "## Encoding"
   ]
  },
  {
   "cell_type": "code",
   "execution_count": 2,
   "metadata": {},
   "outputs": [],
   "source": [
    "encoder = LSTM_encoder(l2, './features/lstm/2_steps/', './convnet_weights/lstm/base/weights.19-1.13.hdf5')"
   ]
  },
  {
   "cell_type": "code",
   "execution_count": 3,
   "metadata": {},
   "outputs": [
    {
     "name": "stdout",
     "output_type": "stream",
     "text": [
      "26/26 [==============================] - 13s 518ms/step\n"
     ]
    }
   ],
   "source": [
    "features_dev = encoder.encode('dev')"
   ]
  },
  {
   "cell_type": "code",
   "execution_count": 4,
   "metadata": {},
   "outputs": [
    {
     "data": {
      "text/plain": [
       "(3313, 2, 2048)"
      ]
     },
     "execution_count": 4,
     "metadata": {},
     "output_type": "execute_result"
    }
   ],
   "source": [
    "features_dev.shape"
   ]
  },
  {
   "cell_type": "markdown",
   "metadata": {},
   "source": [
    "## Classes"
   ]
  },
  {
   "cell_type": "code",
   "execution_count": 17,
   "metadata": {},
   "outputs": [],
   "source": [
    "indices = np.load('./features/lstm/2_steps/indices_dev.npy')\n",
    "true_classes = np.load('./features/res_net/classes_dev_make-model.npy')[indices]\n",
    "true_classnames = np.load('./features/res_net/classnames_dev_make-model.npy')[indices]\n",
    "true_filenames = np.load('./features/res_net/filenames_dev.npy')[indices]"
   ]
  },
  {
   "cell_type": "code",
   "execution_count": 22,
   "metadata": {},
   "outputs": [
    {
     "data": {
      "text/plain": [
       "array([ 54,  89, 164, ..., 136,  14,   3])"
      ]
     },
     "execution_count": 22,
     "metadata": {},
     "output_type": "execute_result"
    }
   ],
   "source": [
    "true_classes"
   ]
  },
  {
   "cell_type": "code",
   "execution_count": 21,
   "metadata": {},
   "outputs": [
    {
     "data": {
      "text/plain": [
       "array(['Chevrolet Silverado_1500', 'Ford F-450', 'Volvo 240', ...,\n",
       "       'Mercedes-Benz 300-Class', 'Audi S6', 'Acura TL'],\n",
       "      dtype='<U33')"
      ]
     },
     "execution_count": 21,
     "metadata": {},
     "output_type": "execute_result"
    }
   ],
   "source": [
    "true_classnames"
   ]
  },
  {
   "cell_type": "code",
   "execution_count": 19,
   "metadata": {},
   "outputs": [
    {
     "data": {
      "text/plain": [
       "array(['Chevrolet Silverado_1500 Regular_Cab 2012/02808.jpg',\n",
       "       'Ford F-450 Crew_Cab 2012/05187.jpg',\n",
       "       'Volvo 240 Sedan 1993/04113.jpg', ...,\n",
       "       'Mercedes-Benz 300-Class Convertible 1993/07798.jpg',\n",
       "       'Audi S6 Sedan 2011/00602.jpg', 'Acura TL Sedan 2012/03169.jpg'],\n",
       "      dtype='<U58')"
      ]
     },
     "execution_count": 19,
     "metadata": {},
     "output_type": "execute_result"
    }
   ],
   "source": [
    "true_filenames"
   ]
  },
  {
   "cell_type": "markdown",
   "metadata": {},
   "source": [
    "## Predictions"
   ]
  },
  {
   "cell_type": "code",
   "execution_count": 35,
   "metadata": {},
   "outputs": [],
   "source": [
    "def map_predictions_to_classnames(predictions, true_classes, classnames):\n",
    "    classes, indices = np.unique(true_classes, return_index=True)\n",
    "    \n",
    "    class_to_index = {}\n",
    "    for cl, index in zip(classes, indices):\n",
    "        class_to_index[cl] = index\n",
    "    \n",
    "    predicted_classnames = list(map(lambda cl: classnames[class_to_index[cl]], predictions))\n",
    "    return np.array(predicted_classnames)"
   ]
  },
  {
   "cell_type": "code",
   "execution_count": 12,
   "metadata": {},
   "outputs": [],
   "source": [
    "decoder = LSTM_decoder(features_dev, true_classes, weights_path='./convnet_weights/lstm/decoder_lstm/weights.36-1.27.hdf5')"
   ]
  },
  {
   "cell_type": "code",
   "execution_count": 13,
   "metadata": {},
   "outputs": [
    {
     "name": "stdout",
     "output_type": "stream",
     "text": [
      "3313/3313 [==============================] - 6s 2ms/step\n"
     ]
    }
   ],
   "source": [
    "predictions = decoder.predict()"
   ]
  },
  {
   "cell_type": "code",
   "execution_count": 36,
   "metadata": {},
   "outputs": [],
   "source": [
    "predicted_classnames = map_predictions_to_classnames(predictions, true_classes, true_classnames)"
   ]
  }
 ],
 "metadata": {
  "kernelspec": {
   "display_name": "Python 3",
   "language": "python",
   "name": "python3"
  },
  "language_info": {
   "codemirror_mode": {
    "name": "ipython",
    "version": 3
   },
   "file_extension": ".py",
   "mimetype": "text/x-python",
   "name": "python",
   "nbconvert_exporter": "python",
   "pygments_lexer": "ipython3",
   "version": "3.6.3"
  }
 },
 "nbformat": 4,
 "nbformat_minor": 2
}
