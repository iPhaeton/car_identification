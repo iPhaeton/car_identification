{
 "cells": [
  {
   "cell_type": "code",
   "execution_count": null,
   "metadata": {},
   "outputs": [],
   "source": [
    "import pandas as pd\n",
    "import keras\n",
    "from keras.layers import LSTM, SimpleRNN, Input, Bidirectional, TimeDistributed, Dropout, Dense, Activation, BatchNormalization\n",
    "from keras.models import Model\n",
    "from keras.utils.np_utils import to_categorical\n",
    "from keras.regularizers import l2\n",
    "import tensorflow as tf\n",
    "import numpy as np\n",
    "import os\n",
    "import fnmatch\n",
    "from matplotlib import pyplot as plt\n",
    "from IPython.display import clear_output\n",
    "from modules.callbacks import PlotLosses\n",
    "from modules.lstm_encoder import LSTMEncoder"
   ]
  },
  {
   "cell_type": "code",
   "execution_count": null,
   "metadata": {},
   "outputs": [],
   "source": [
    "layers = [\n",
    "    Dropout(0.2),\n",
    "    Dense(4096, activation='relu'),\n",
    "    Dropout(0.2),\n",
    "    Dense(2048, activation='relu'),\n",
    "    Dense(2048, activation='relu'),\n",
    "    Bidirectional(LSTM(1024, return_sequences=True)),\n",
    "]"
   ]
  },
  {
   "cell_type": "markdown",
   "metadata": {},
   "source": [
    "## Training"
   ]
  },
  {
   "cell_type": "code",
   "execution_count": null,
   "metadata": {},
   "outputs": [],
   "source": [
    "encoder = LSTMEncoder(\n",
    "    hidden_layers=layers,\n",
    "    source_path='./features/lstm/2_steps/',\n",
    "    weights_path='./convnet_weights/weights.04-0.78.hdf5',\n",
    "    lr=0.0000001,\n",
    ")"
   ]
  },
  {
   "cell_type": "code",
   "execution_count": null,
   "metadata": {},
   "outputs": [],
   "source": [
    "encoder.model.summary()"
   ]
  },
  {
   "cell_type": "code",
   "execution_count": null,
   "metadata": {},
   "outputs": [],
   "source": [
    "plot_losses = PlotLosses()\n",
    "checkpoint = keras.callbacks.ModelCheckpoint(\n",
    "    './convnet_weights/weights.{epoch:02d}-{val_loss:.2f}.hdf5', \n",
    "    monitor='val_loss', \n",
    "    verbose=0, \n",
    "    save_best_only=False, \n",
    "    save_weights_only=True, \n",
    "    mode='auto', \n",
    "    period=1,\n",
    ")\n",
    "callbacks = [plot_losses, checkpoint]"
   ]
  },
  {
   "cell_type": "code",
   "execution_count": null,
   "metadata": {
    "scrolled": false
   },
   "outputs": [],
   "source": [
    "encoder.train(100, callbacks)"
   ]
  },
  {
   "cell_type": "markdown",
   "metadata": {},
   "source": [
    "## Encoding"
   ]
  },
  {
   "cell_type": "code",
   "execution_count": null,
   "metadata": {},
   "outputs": [],
   "source": [
    "encoder = LSTMEncoder(\n",
    "    hidden_layers=layers,\n",
    "    source_path='./features/lstm/2_steps/',\n",
    "    weights_path='./convnet_weights/weights.02-0.78.hdf5',\n",
    ")"
   ]
  },
  {
   "cell_type": "code",
   "execution_count": null,
   "metadata": {},
   "outputs": [],
   "source": [
    "_ = encoder.encode('train', './features/lstm/encoded/features_train.npy')\n",
    "_ = encoder.encode('dev', './features/lstm/encoded/features_dev.npy')"
   ]
  },
  {
   "cell_type": "markdown",
   "metadata": {},
   "source": [
    "## Predictions"
   ]
  },
  {
   "cell_type": "code",
   "execution_count": null,
   "metadata": {},
   "outputs": [],
   "source": [
    "encoder = LSTMEncoder(\n",
    "    source_path='./features/lstm/2_steps/',\n",
    "    regularizer=l2, \n",
    "    lr=0.000001,\n",
    "    weights_path='./convnet_weights/lstm/base/weights.19-1.13.hdf5',\n",
    ")"
   ]
  },
  {
   "cell_type": "code",
   "execution_count": null,
   "metadata": {},
   "outputs": [],
   "source": [
    "encoder.predict('dev')"
   ]
  }
 ],
 "metadata": {
  "kernelspec": {
   "display_name": "Python 3",
   "language": "python",
   "name": "python3"
  },
  "language_info": {
   "codemirror_mode": {
    "name": "ipython",
    "version": 3
   },
   "file_extension": ".py",
   "mimetype": "text/x-python",
   "name": "python",
   "nbconvert_exporter": "python",
   "pygments_lexer": "ipython3",
   "version": "3.6.3"
  }
 },
 "nbformat": 4,
 "nbformat_minor": 2
}
