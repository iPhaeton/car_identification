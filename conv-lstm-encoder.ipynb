{
 "cells": [
  {
   "cell_type": "code",
   "execution_count": null,
   "metadata": {},
   "outputs": [],
   "source": [
    "import pandas as pd\n",
    "import keras\n",
    "from keras.layers import LSTM, SimpleRNN, Input, Bidirectional, TimeDistributed, Dropout, Dense, Activation, BatchNormalization\n",
    "from keras.models import Model\n",
    "from keras.utils.np_utils import to_categorical\n",
    "from keras.regularizers import l2\n",
    "import tensorflow as tf\n",
    "import numpy as np\n",
    "import os\n",
    "import fnmatch\n",
    "from matplotlib import pyplot as plt\n",
    "from IPython.display import clear_output"
   ]
  },
  {
   "cell_type": "markdown",
   "metadata": {},
   "source": [
    "## Model"
   ]
  },
  {
   "cell_type": "raw",
   "metadata": {},
   "source": [
    "def get_model(input_shape, output_shape, lr = 0.00001, path = None):\n",
    "    inputs = Input(shape=input_shape)\n",
    "    X = Dropout(0.5)(inputs)\n",
    "    X = Dense(4096, activation='relu')(X)\n",
    "    X = Dropout(0.5)(X)\n",
    "    X = Dense(2048, activation='relu')(X)\n",
    "    X = Dense(2048, activation='relu')(X)\n",
    "    X = Bidirectional(LSTM(1024, return_sequences=True))(X)\n",
    "    X = TimeDistributed(Dense(512, activation='relu'))(X)\n",
    "    outputs = TimeDistributed(Dense(output_shape, activation='softmax'))(X)\n",
    "    \n",
    "    model = Model(inputs=inputs, outputs=outputs)\n",
    "    \n",
    "    model.compile(\n",
    "        optimizer=tf.train.AdamOptimizer(lr),\n",
    "        loss='categorical_crossentropy',\n",
    "        metrics=['categorical_accuracy'],\n",
    "    )\n",
    "    \n",
    "    if path != None:\n",
    "        model.load_weights(path)\n",
    "    \n",
    "    return model"
   ]
  },
  {
   "cell_type": "code",
   "execution_count": null,
   "metadata": {},
   "outputs": [],
   "source": [
    "def get_model(input_shape, output_shape, regularizer, rs=0, lr = 0.00001, path = None):\n",
    "    inputs = Input(shape=input_shape)\n",
    "    X = Dropout(0.5)(inputs)\n",
    "    X = Dense(4096, activation='relu', kernel_regularizer=regularizer(rs))(X)\n",
    "#    X = BatchNormalization()(X)\n",
    "    X = Dropout(0.5)(X)\n",
    "    X = Dense(2048, activation='relu', kernel_regularizer=regularizer(rs))(X)\n",
    "    X = Dense(2048, activation='relu', kernel_regularizer=regularizer(rs))(X)\n",
    "    X = Bidirectional(LSTM(1024, return_sequences=True, kernel_regularizer=regularizer(rs)))(X)\n",
    "    outputs = TimeDistributed(Dense(output_shape, activation='softmax'))(X)\n",
    "    \n",
    "    model = Model(inputs=inputs, outputs=outputs)\n",
    "    \n",
    "    model.compile(\n",
    "        optimizer=tf.train.AdamOptimizer(lr),\n",
    "        loss='categorical_crossentropy',\n",
    "        metrics=['categorical_accuracy'],\n",
    "    )\n",
    "    \n",
    "    if path != None:\n",
    "        model.load_weights(path)\n",
    "    \n",
    "    return model"
   ]
  },
  {
   "cell_type": "markdown",
   "metadata": {},
   "source": [
    "## Callbacks"
   ]
  },
  {
   "cell_type": "code",
   "execution_count": null,
   "metadata": {},
   "outputs": [],
   "source": [
    "class PlotLosses(keras.callbacks.Callback):\n",
    "    def on_train_begin(self, logs={}):\n",
    "        self.i = 0\n",
    "        self.x = []\n",
    "        self.losses = []\n",
    "        self.acc = []\n",
    "        self.val_losses = []\n",
    "        self.val_acc = []\n",
    "        \n",
    "        self.logs = []\n",
    "\n",
    "    def on_epoch_end(self, epoch, logs={}):\n",
    "        f, (ax1, ax2) = plt.subplots(2, sharex=True, sharey=False)\n",
    "        self.ax1 = ax1\n",
    "        self.ax2 = ax2\n",
    "    \n",
    "        self.logs.append(logs)\n",
    "        self.x.append(self.i)\n",
    "        self.losses.append(logs.get('loss'))\n",
    "        self.acc.append(logs.get('categorical_accuracy'))\n",
    "        self.val_losses.append(logs.get('val_loss'))\n",
    "        self.val_acc.append(logs.get('val_categorical_accuracy'))\n",
    "        self.i += 1\n",
    "        \n",
    "        clear_output(wait=True)\n",
    "        self.ax1.plot(self.x, self.losses, label=\"loss\")\n",
    "        self.ax1.plot(self.x, self.val_losses, label=\"val loss\")\n",
    "        self.ax1.legend()\n",
    "        self.ax2.plot(self.x, self.acc, label=\"accuracy\")\n",
    "        self.ax2.plot(self.x, self.val_acc, label=\"val accuracy\")\n",
    "        self.ax2.legend()\n",
    "        plt.show()\n",
    "        \n",
    "        for i in range(self.i):\n",
    "            print('Epoch ' + str(i+1))\n",
    "            print('-----------------------')\n",
    "            print('- Loss:', self.losses[i])\n",
    "            print('- Accuracy:', self.acc[i])\n",
    "            print('- Validation loss:', self.val_losses[i])\n",
    "            print('- Validation accuracy:', self.val_acc[i])\n",
    "            print(' ')\n",
    "            \n",
    "checkpoint = keras.callbacks.ModelCheckpoint(\n",
    "    './convnet_weights/lstm/weights.{epoch:02d}-{val_loss:.2f}.hdf5', \n",
    "    monitor='val_loss',\n",
    "    verbose=0, \n",
    "    save_best_only=False, \n",
    "    save_weights_only=True, \n",
    "    mode='max', \n",
    "    period=1,\n",
    ")"
   ]
  },
  {
   "cell_type": "markdown",
   "metadata": {},
   "source": [
    "## Data"
   ]
  },
  {
   "cell_type": "code",
   "execution_count": null,
   "metadata": {},
   "outputs": [],
   "source": [
    "def generator(path, mode, num_batches, random=True):\n",
    "    counter = 0\n",
    "    indices = None\n",
    "    if random == True:\n",
    "        indices = np.random.permutation(list(range(num_batches)))\n",
    "    else:\n",
    "        indices = list(range(num_batches))\n",
    "    \n",
    "    while True:\n",
    "        if counter >= num_batches:\n",
    "            counter = 0\n",
    "            if random == True:\n",
    "                indices = np.random.permutation(list(range(num_batches)))\n",
    "\n",
    "        features = np.load(path + 'features_' + mode + '_' + str(indices[counter]) + '.npy')\n",
    "        classes = np.load(path + 'classes_' + mode + '_' + str(indices[counter]) + '.npy')\n",
    "        \n",
    "        counter += 1\n",
    "        yield features, classes\n",
    "        \n",
    "def get_metadata(path):\n",
    "    features = np.load(path + 'features_train_0.npy')\n",
    "    input_shape = features.shape[1:]\n",
    "    classes = np.load(path + 'classes_train_0.npy')\n",
    "    num_classes = classes.shape[2]\n",
    "    steps_per_epoch = len(fnmatch.filter(os.listdir(path),'*features_train_*'))\n",
    "    validation_steps = len(fnmatch.filter(os.listdir(path),'*features_dev_*'))\n",
    "    return input_shape, num_classes, steps_per_epoch, validation_steps\n",
    "\n",
    "def get_classes(mode, steps, classnames_make, classnames_model):\n",
    "    classes = None\n",
    "    for i in range(steps):\n",
    "        cl = np.load('./features/lstm/2_steps/classes_' + mode + '_' + str(i) + '.npy')\n",
    "        if classes is None:\n",
    "            classes = cl\n",
    "        else:\n",
    "            classes = np.append(classes, cl, axis=0)\n",
    "        \n",
    "    classes = np.argmax(classes, axis=2)\n",
    "    classnames = list(map(lambda p: [classnames_make[p[0]], classnames_model[p[1]]], classes))\n",
    "    return classes, classnames"
   ]
  },
  {
   "cell_type": "code",
   "execution_count": null,
   "metadata": {},
   "outputs": [],
   "source": [
    "input_shape, num_classes, steps_per_epoch, validation_steps = get_metadata('./features/lstm/2_steps/')"
   ]
  },
  {
   "cell_type": "code",
   "execution_count": null,
   "metadata": {},
   "outputs": [],
   "source": [
    "print('Input shape:', input_shape)\n",
    "print('Number of classes:', num_classes)\n",
    "print('Steps per epoch:', steps_per_epoch) \n",
    "print('Validation steps:', validation_steps)"
   ]
  },
  {
   "cell_type": "code",
   "execution_count": null,
   "metadata": {},
   "outputs": [],
   "source": [
    "labels = pd.read_csv('./stanford-car-dataset-by-classes-folder/labels.csv')\n",
    "classnames_make = labels['make'].unique()\n",
    "classnames_model = labels['model'].unique()\n",
    "classnames_make.sort()\n",
    "classnames_model.sort()"
   ]
  },
  {
   "cell_type": "markdown",
   "metadata": {},
   "source": [
    "## Training"
   ]
  },
  {
   "cell_type": "code",
   "execution_count": null,
   "metadata": {},
   "outputs": [],
   "source": [
    "model = get_model(\n",
    "    input_shape, \n",
    "    num_classes, \n",
    "    regularizer=l2,\n",
    "    rs=0.1,\n",
    "    lr=0.00001,\n",
    "#    path='./convnet_weights/lstm/weights.25-1.87.hdf5',\n",
    ")\n",
    "plot_losses = PlotLosses()"
   ]
  },
  {
   "cell_type": "code",
   "execution_count": null,
   "metadata": {},
   "outputs": [],
   "source": [
    "model.summary()"
   ]
  },
  {
   "cell_type": "code",
   "execution_count": null,
   "metadata": {},
   "outputs": [],
   "source": [
    "model.fit_generator(\n",
    "    generator('./features/lstm/2_steps/', 'train', steps_per_epoch),\n",
    "    steps_per_epoch=steps_per_epoch,\n",
    "    epochs=150,\n",
    "    validation_data=generator('./features/lstm/2_steps/', 'dev', validation_steps),\n",
    "    validation_steps=validation_steps,\n",
    "    callbacks=[plot_losses, checkpoint],\n",
    ")"
   ]
  },
  {
   "cell_type": "markdown",
   "metadata": {},
   "source": [
    "## Encoding"
   ]
  },
  {
   "cell_type": "code",
   "execution_count": null,
   "metadata": {},
   "outputs": [],
   "source": [
    "classes_dev, classnames_dev = get_classes('dev', validation_steps, classnames_make, classnames_model)\n",
    "classes_train, classnames_train = get_classes('train', steps_per_epoch, classnames_make, classnames_model)"
   ]
  },
  {
   "cell_type": "code",
   "execution_count": null,
   "metadata": {},
   "outputs": [],
   "source": [
    "classnames_dev = np.array(list(map(lambda cl: cl[0] + ' ' + cl[1], classnames_dev)))\n",
    "classnames_train = np.array(list(map(lambda cl: cl[0] + ' ' + cl[1], classnames_train)))\n",
    "classes_dev = pd.get_dummies(classnames_dev)\n",
    "classes_train = pd.get_dummies(classnames_train)\n",
    "print(classes_dev.shape)\n",
    "print(classes_train.shape)"
   ]
  },
  {
   "cell_type": "code",
   "execution_count": null,
   "metadata": {},
   "outputs": [],
   "source": [
    "np.save('./features/lstm/encoded/classes_dev.npy', classes_dev)\n",
    "np.save('./features/lstm/encoded/classes_train.npy', classes_train)\n",
    "np.save('./features/lstm/encoded/classnames_dev.npy', classnames_dev)\n",
    "np.save('./features/lstm/encoded/classnames_train.npy', classnames_train)"
   ]
  },
  {
   "cell_type": "code",
   "execution_count": null,
   "metadata": {},
   "outputs": [],
   "source": [
    "model = get_model(\n",
    "    input_shape, \n",
    "    num_classes, \n",
    "    lr=0.00001,\n",
    "    path='./convnet_weights/lstm/base/weights.25-1.12.hdf5',\n",
    ")"
   ]
  },
  {
   "cell_type": "code",
   "execution_count": null,
   "metadata": {},
   "outputs": [],
   "source": [
    "model.summary()"
   ]
  },
  {
   "cell_type": "code",
   "execution_count": null,
   "metadata": {},
   "outputs": [],
   "source": [
    "encoder = Model(inputs=model.input, outputs=model.layers[6].output)"
   ]
  },
  {
   "cell_type": "code",
   "execution_count": null,
   "metadata": {},
   "outputs": [],
   "source": [
    "encoded_features_dev = encoder.predict_generator(\n",
    "    generator('./features/lstm/2_steps/', 'dev', validation_steps, random=False),\n",
    "    steps=validation_steps,\n",
    "    verbose=True,\n",
    ")"
   ]
  },
  {
   "cell_type": "code",
   "execution_count": null,
   "metadata": {},
   "outputs": [],
   "source": [
    "encoded_features_train = encoder.predict_generator(\n",
    "    generator('./features/lstm/2_steps/', 'train', steps_per_epoch, random=False),\n",
    "    steps=steps_per_epoch,\n",
    "    verbose=True,\n",
    ")"
   ]
  },
  {
   "cell_type": "code",
   "execution_count": null,
   "metadata": {},
   "outputs": [],
   "source": [
    "print(encoded_features_dev.shape)\n",
    "print(encoded_features_train.shape)"
   ]
  },
  {
   "cell_type": "code",
   "execution_count": null,
   "metadata": {},
   "outputs": [],
   "source": [
    "np.save('./features/lstm/encoded/features_dev.npy', encoded_features_dev)\n",
    "np.save('./features/lstm/encoded/features_train.npy', encoded_features_train)"
   ]
  },
  {
   "cell_type": "markdown",
   "metadata": {},
   "source": [
    "## Predictions"
   ]
  },
  {
   "cell_type": "code",
   "execution_count": null,
   "metadata": {},
   "outputs": [],
   "source": [
    "correct_classes, correct_classnames = get_classes('dev', validation_steps, classnames_make, classnames_model)"
   ]
  },
  {
   "cell_type": "code",
   "execution_count": null,
   "metadata": {},
   "outputs": [],
   "source": [
    "correct_classes"
   ]
  },
  {
   "cell_type": "code",
   "execution_count": null,
   "metadata": {},
   "outputs": [],
   "source": [
    "correct_classnames"
   ]
  },
  {
   "cell_type": "code",
   "execution_count": null,
   "metadata": {},
   "outputs": [],
   "source": [
    "model = get_model(\n",
    "    input_shape, \n",
    "    num_classes, \n",
    "    lr=0.00001,\n",
    "    path='./convnet_weights/lstm/base/weights.25-1.12.hdf5',\n",
    ")"
   ]
  },
  {
   "cell_type": "code",
   "execution_count": null,
   "metadata": {},
   "outputs": [],
   "source": [
    "predictions = model.predict_generator(\n",
    "    generator('./features/lstm/2_steps/', 'dev', validation_steps, random=False),\n",
    "    steps=validation_steps,\n",
    "    verbose=True,\n",
    ")"
   ]
  },
  {
   "cell_type": "code",
   "execution_count": null,
   "metadata": {},
   "outputs": [],
   "source": [
    "predictions = np.argmax(predictions, axis=2)"
   ]
  },
  {
   "cell_type": "code",
   "execution_count": null,
   "metadata": {},
   "outputs": [],
   "source": [
    "predictions"
   ]
  },
  {
   "cell_type": "code",
   "execution_count": null,
   "metadata": {},
   "outputs": [],
   "source": [
    "prediction_names = list(map(lambda p: [classnames_make[p[0]], classnames_model[p[1]]], predictions))"
   ]
  },
  {
   "cell_type": "code",
   "execution_count": null,
   "metadata": {},
   "outputs": [],
   "source": [
    "prediction_names"
   ]
  },
  {
   "cell_type": "code",
   "execution_count": null,
   "metadata": {},
   "outputs": [],
   "source": [
    "predicted_make = predictions[:, 0]\n",
    "predicted_model = predictions[:, 1]\n",
    "true_make = correct_classes[:, 0]\n",
    "true_model = correct_classes[:, 1]"
   ]
  },
  {
   "cell_type": "code",
   "execution_count": null,
   "metadata": {},
   "outputs": [],
   "source": [
    "false_make = predicted_make[predicted_make != true_make]\n",
    "false_make.shape"
   ]
  },
  {
   "cell_type": "code",
   "execution_count": null,
   "metadata": {},
   "outputs": [],
   "source": [
    "false_model = predicted_model[predicted_model != true_model]\n",
    "false_model.shape"
   ]
  },
  {
   "cell_type": "code",
   "execution_count": null,
   "metadata": {},
   "outputs": [],
   "source": [
    "false_predictions = predictions[(predictions[:,0] != correct_classes[:,0]) | (predictions[:,1] != correct_classes[:,1])]\n",
    "false_predictions.shape"
   ]
  }
 ],
 "metadata": {
  "kernelspec": {
   "display_name": "Python 3",
   "language": "python",
   "name": "python3"
  },
  "language_info": {
   "codemirror_mode": {
    "name": "ipython",
    "version": 3
   },
   "file_extension": ".py",
   "mimetype": "text/x-python",
   "name": "python",
   "nbconvert_exporter": "python",
   "pygments_lexer": "ipython3",
   "version": "3.6.3"
  }
 },
 "nbformat": 4,
 "nbformat_minor": 2
}
