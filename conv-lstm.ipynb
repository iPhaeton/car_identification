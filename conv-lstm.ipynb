{
 "cells": [
  {
   "cell_type": "code",
   "execution_count": 1,
   "metadata": {},
   "outputs": [
    {
     "name": "stderr",
     "output_type": "stream",
     "text": [
      "Using TensorFlow backend.\n"
     ]
    }
   ],
   "source": [
    "import pandas as pd\n",
    "from keras.layers import LSTM, Input, Bidirectional, TimeDistributed, Dropout, Dense, Activation\n",
    "from keras.models import Model\n",
    "from keras.utils.np_utils import to_categorical\n",
    "import tensorflow as tf\n",
    "import numpy as np"
   ]
  },
  {
   "cell_type": "markdown",
   "metadata": {},
   "source": [
    "## Model"
   ]
  },
  {
   "cell_type": "code",
   "execution_count": 2,
   "metadata": {},
   "outputs": [],
   "source": [
    "def get_model(input_shape, output_shape, lr = 0.00001):\n",
    "    inputs = Input(shape=input_shape)\n",
    "    X = Dropout(0.5)(inputs)\n",
    "    X = Dense(4096, activation='relu')(X)\n",
    "    X = Dropout(0.5)(X)\n",
    "    X = Dense(2048, activation='relu')(X)\n",
    "    X = Dense(2048, activation='relu')(X)\n",
    "    X = Bidirectional(LSTM(1024, return_sequences=True))(X)\n",
    "    outputs = TimeDistributed(Dense(output_shape, activation='softmax'))(X)\n",
    "    \n",
    "    model = Model(inputs=inputs, outputs=outputs)\n",
    "    \n",
    "    model.compile(\n",
    "        optimizer=tf.train.AdamOptimizer(lr),\n",
    "        loss='categorical_crossentropy',\n",
    "        metrics=['categorical_accuracy'],\n",
    "    )\n",
    "    \n",
    "    return model"
   ]
  },
  {
   "cell_type": "markdown",
   "metadata": {},
   "source": [
    "## Data"
   ]
  },
  {
   "cell_type": "code",
   "execution_count": 3,
   "metadata": {},
   "outputs": [],
   "source": [
    "def get_featuers_by_name(net_name):\n",
    "    features_train = np.load('./features/' + net_name + '/features_train.npy')\n",
    "    features_dev = np.load('./features/'+ net_name +'/features_dev.npy')\n",
    "    return features_train, features_dev\n",
    "\n",
    "def get_features(names):\n",
    "    features_train = []\n",
    "    features_dev = []\n",
    "    for name in names:\n",
    "        train, dev = get_featuers_by_name(name)\n",
    "        features_train.append(train)\n",
    "        features_dev.append(dev)\n",
    "    \n",
    "    features_train = np.concatenate(features_train, axis=1)\n",
    "    features_dev = np.concatenate(features_dev, axis=1)\n",
    "    return np.stack([features_train, features_train], axis=1), np.stack([features_dev, features_dev], axis=1)\n",
    "\n",
    "def get_classes_by_name(name):\n",
    "    classes_train = np.load('./features/res_net/classes_train_' + name + '.npy')\n",
    "    classes_train = to_categorical(classes_train)\n",
    "    classes_dev = np.load('./features/res_net/classes_dev_' + name + '.npy')\n",
    "    classes_dev = to_categorical(classes_dev)\n",
    "    return classes_train, classes_dev\n",
    "\n",
    "def get_classes(names):\n",
    "    classes_train = []\n",
    "    classes_dev = []\n",
    "    num_classes = []\n",
    "    for name in names:\n",
    "        train, dev = get_classes_by_name(name)\n",
    "        classes_train.append(train)\n",
    "        classes_dev.append(dev)\n",
    "        num_classes.append(train.shape[1])\n",
    "        \n",
    "    max_num_classes = np.max(num_classes)\n",
    "    \n",
    "    padded_classes_train = []\n",
    "    padded_classes_dev = []\n",
    "    for train, dev in zip(classes_train, classes_dev):\n",
    "        padded_classes_train.append(\n",
    "            np.pad(\n",
    "                train, \n",
    "                pad_width=((0, 0), (0, max_num_classes - train.shape[1])),\n",
    "                mode='constant',\n",
    "                constant_values=((0,0), (0,0)),\n",
    "            )\n",
    "        )\n",
    "        \n",
    "        padded_classes_dev.append(\n",
    "            np.pad(\n",
    "                dev, \n",
    "                pad_width=((0, 0), (0, max_num_classes - dev.shape[1])),\n",
    "                mode='constant',\n",
    "                constant_values=((0,0), (0,0)),\n",
    "            )\n",
    "        )\n",
    "        \n",
    "    return np.stack(padded_classes_train, axis=1), np.stack(padded_classes_dev, axis=1)"
   ]
  },
  {
   "cell_type": "code",
   "execution_count": 4,
   "metadata": {},
   "outputs": [],
   "source": [
    "features_train, features_dev = get_features([\n",
    "    'res_net',\n",
    "    'inception',\n",
    "    'xception'\n",
    "])"
   ]
  },
  {
   "cell_type": "code",
   "execution_count": 5,
   "metadata": {},
   "outputs": [
    {
     "name": "stdout",
     "output_type": "stream",
     "text": [
      "Train shape:  (12872, 2, 6144) Dev shape: (3313, 2, 6144)\n"
     ]
    }
   ],
   "source": [
    "print('Train shape: ', features_train.shape, 'Dev shape:', features_dev.shape)"
   ]
  },
  {
   "cell_type": "code",
   "execution_count": 6,
   "metadata": {},
   "outputs": [],
   "source": [
    "classes_train, classes_dev = get_classes(['make', 'model'])"
   ]
  },
  {
   "cell_type": "code",
   "execution_count": 7,
   "metadata": {},
   "outputs": [
    {
     "name": "stdout",
     "output_type": "stream",
     "text": [
      "Train classes shape:  (12872, 2, 167) Dev classes shape: (3313, 2, 167)\n"
     ]
    }
   ],
   "source": [
    "print('Train classes shape: ', classes_train.shape, 'Dev classes shape:', classes_dev.shape)"
   ]
  },
  {
   "cell_type": "markdown",
   "metadata": {},
   "source": [
    "## Training"
   ]
  },
  {
   "cell_type": "code",
   "execution_count": 8,
   "metadata": {},
   "outputs": [],
   "source": [
    "model = get_model((features_train.shape[1:]), classes_train.shape[2])"
   ]
  },
  {
   "cell_type": "code",
   "execution_count": 9,
   "metadata": {},
   "outputs": [
    {
     "name": "stdout",
     "output_type": "stream",
     "text": [
      "_________________________________________________________________\n",
      "Layer (type)                 Output Shape              Param #   \n",
      "=================================================================\n",
      "input_1 (InputLayer)         (None, 2, 6144)           0         \n",
      "_________________________________________________________________\n",
      "dropout_1 (Dropout)          (None, 2, 6144)           0         \n",
      "_________________________________________________________________\n",
      "dense_1 (Dense)              (None, 2, 4096)           25169920  \n",
      "_________________________________________________________________\n",
      "dropout_2 (Dropout)          (None, 2, 4096)           0         \n",
      "_________________________________________________________________\n",
      "dense_2 (Dense)              (None, 2, 2048)           8390656   \n",
      "_________________________________________________________________\n",
      "dense_3 (Dense)              (None, 2, 2048)           4196352   \n",
      "_________________________________________________________________\n",
      "bidirectional_1 (Bidirection (None, 2, 2048)           25174016  \n",
      "_________________________________________________________________\n",
      "time_distributed_1 (TimeDist (None, 2, 167)            342183    \n",
      "=================================================================\n",
      "Total params: 63,273,127\n",
      "Trainable params: 63,273,127\n",
      "Non-trainable params: 0\n",
      "_________________________________________________________________\n"
     ]
    }
   ],
   "source": [
    "model.summary()"
   ]
  },
  {
   "cell_type": "code",
   "execution_count": null,
   "metadata": {},
   "outputs": [
    {
     "name": "stdout",
     "output_type": "stream",
     "text": [
      "Train on 12872 samples, validate on 3313 samples\n",
      "Epoch 1/50\n"
     ]
    }
   ],
   "source": [
    "model.fit(\n",
    "    features_train,\n",
    "    classes_train,\n",
    "    batch_size=8,\n",
    "    epochs=50,\n",
    "    validation_data=(features_dev, classes_dev)\n",
    ")"
   ]
  }
 ],
 "metadata": {
  "kernelspec": {
   "display_name": "Python 3",
   "language": "python",
   "name": "python3"
  },
  "language_info": {
   "codemirror_mode": {
    "name": "ipython",
    "version": 3
   },
   "file_extension": ".py",
   "mimetype": "text/x-python",
   "name": "python",
   "nbconvert_exporter": "python",
   "pygments_lexer": "ipython3",
   "version": "3.6.3"
  }
 },
 "nbformat": 4,
 "nbformat_minor": 2
}
