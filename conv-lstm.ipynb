{
 "cells": [
  {
   "cell_type": "code",
   "execution_count": null,
   "metadata": {},
   "outputs": [],
   "source": [
    "import pandas as pd\n",
    "from keras.layers import LSTM, Input, Bidirectional, TimeDistributed, Dropout, Dense, Activation\n",
    "from keras.models import Model\n",
    "from keras.utils.np_utils import to_categorical\n",
    "import tensorflow as tf\n",
    "import numpy as np\n",
    "import os"
   ]
  },
  {
   "cell_type": "markdown",
   "metadata": {},
   "source": [
    "## Model"
   ]
  },
  {
   "cell_type": "code",
   "execution_count": null,
   "metadata": {},
   "outputs": [],
   "source": [
    "def get_model(input_shape, output_shape, lr = 0.00001):\n",
    "    inputs = Input(shape=input_shape)\n",
    "    X = Dropout(0.5)(inputs)\n",
    "    X = Dense(4096, activation='relu')(X)\n",
    "    X = Dropout(0.5)(X)\n",
    "    X = Dense(2048, activation='relu')(X)\n",
    "    X = Dense(2048, activation='relu')(X)\n",
    "    X = Bidirectional(LSTM(1024, return_sequences=True))(X)\n",
    "    outputs = TimeDistributed(Dense(output_shape, activation='softmax'))(X)\n",
    "    \n",
    "    model = Model(inputs=inputs, outputs=outputs)\n",
    "    \n",
    "    model.compile(\n",
    "        optimizer=tf.train.AdamOptimizer(lr),\n",
    "        loss='categorical_crossentropy',\n",
    "        metrics=['categorical_accuracy'],\n",
    "    )\n",
    "    \n",
    "    return model"
   ]
  },
  {
   "cell_type": "markdown",
   "metadata": {},
   "source": [
    "## Data"
   ]
  },
  {
   "cell_type": "code",
   "execution_count": null,
   "metadata": {},
   "outputs": [],
   "source": [
    "def generator(path, mode, num_batches):\n",
    "    counter = 0\n",
    "    while True:\n",
    "        if counter >= num_batches:\n",
    "            counter = 0\n",
    "\n",
    "        features = np.load(path + 'features_' + mode + '_' + str(counter) + '.npy')\n",
    "        classes = np.load(path + 'classes_' + mode + '_' + str(counter) + '.npy')\n",
    "        counter += 1\n",
    "        yield features, classes"
   ]
  },
  {
   "cell_type": "markdown",
   "metadata": {},
   "source": [
    "## Training"
   ]
  },
  {
   "cell_type": "code",
   "execution_count": null,
   "metadata": {},
   "outputs": [],
   "source": [
    "model = get_model((2, 6144), 167)"
   ]
  },
  {
   "cell_type": "code",
   "execution_count": null,
   "metadata": {},
   "outputs": [],
   "source": [
    "model.summary()"
   ]
  },
  {
   "cell_type": "code",
   "execution_count": null,
   "metadata": {},
   "outputs": [],
   "source": [
    "model.fit_generator(\n",
    "    generator('./features/lstm/2_steps/', 'train', 101),\n",
    "    steps_per_epoch=101,\n",
    "    epochs=50,\n",
    "    validation_data=generator('./features/lstm/2_steps/', 'dev', 26),\n",
    "    validation_steps=26,\n",
    ")"
   ]
  }
 ],
 "metadata": {
  "kernelspec": {
   "display_name": "Python 3",
   "language": "python",
   "name": "python3"
  },
  "language_info": {
   "codemirror_mode": {
    "name": "ipython",
    "version": 3
   },
   "file_extension": ".py",
   "mimetype": "text/x-python",
   "name": "python",
   "nbconvert_exporter": "python",
   "pygments_lexer": "ipython3",
   "version": "3.6.3"
  }
 },
 "nbformat": 4,
 "nbformat_minor": 2
}
