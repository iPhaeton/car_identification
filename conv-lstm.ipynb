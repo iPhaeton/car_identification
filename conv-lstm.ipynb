{
 "cells": [
  {
   "cell_type": "code",
   "execution_count": null,
   "metadata": {},
   "outputs": [],
   "source": [
    "import pandas as pd\n",
    "from keras.layers import LSTM, Input, Bidirectional, TimeDistributed, Dropout, Dense, Activation\n",
    "from keras.models import Model\n",
    "from keras.utils.np_utils import to_categorical\n",
    "import tensorflow as tf\n",
    "import numpy as np"
   ]
  },
  {
   "cell_type": "markdown",
   "metadata": {},
   "source": [
    "## Model"
   ]
  },
  {
   "cell_type": "code",
   "execution_count": null,
   "metadata": {},
   "outputs": [],
   "source": [
    "def get_model(input_shape, output_shape, lr = 0.00001):\n",
    "    inputs = Input(shape=input_shape)\n",
    "    X = Dropout(0.5)(inputs)\n",
    "    X = Dense(4096, activation='relu')(X)\n",
    "    X = Dropout(0.5)(X)\n",
    "    X = Dense(2048, activation='relu')(X)\n",
    "    X = Dense(2048, activation='relu')(X)\n",
    "    X = Bidirectional(LSTM(1024, return_sequences=True))(X)\n",
    "    outputs = TimeDistributed(Dense(output_shape, activation='softmax'))(X)\n",
    "    \n",
    "    model = Model(inputs=inputs, outputs=outputs)\n",
    "    \n",
    "    model.compile(\n",
    "        optimizer=tf.train.AdamOptimizer(lr),\n",
    "        loss='categorical_crossentropy',\n",
    "        metrics=['categorical_accuracy'],\n",
    "    )\n",
    "    \n",
    "    return model"
   ]
  },
  {
   "cell_type": "markdown",
   "metadata": {},
   "source": [
    "## Data"
   ]
  },
  {
   "cell_type": "code",
   "execution_count": null,
   "metadata": {},
   "outputs": [],
   "source": [
    "features_train_1 = np.load('./features/res_net/features_train.npy')\n",
    "features_dev_1 = np.load('./features/res_net/features_dev.npy')\n",
    "\n",
    "features_train = np.stack([\n",
    "    features_train_1,\n",
    "    features_train_1,\n",
    "], axis=1)\n",
    "\n",
    "features_dev = np.stack([\n",
    "    features_dev_1,\n",
    "    features_dev_1,\n",
    "], axis=1)"
   ]
  },
  {
   "cell_type": "code",
   "execution_count": null,
   "metadata": {},
   "outputs": [],
   "source": [
    "print('Train shape: ', features_train.shape, 'Dev shape:', features_dev.shape)"
   ]
  },
  {
   "cell_type": "code",
   "execution_count": null,
   "metadata": {},
   "outputs": [],
   "source": [
    "classes_train_1 = np.load('./features/res_net/classes_train_make.npy')\n",
    "classes_train_1 = to_categorical(classes_train_1)\n",
    "classes_dev_1 = np.load('./features/res_net/classes_dev_make.npy')\n",
    "classes_dev_1 = to_categorical(classes_dev_1)\n",
    "classes_train_2 = np.load('./features/res_net/classes_train_model.npy')\n",
    "classes_train_2 = to_categorical(classes_train_2)\n",
    "classes_dev_2 = np.load('./features/res_net/classes_dev_model.npy')\n",
    "classes_dev_2 = to_categorical(classes_dev_2)\n",
    "\n",
    "classes_train_1 = np.pad(\n",
    "    classes_train_1, \n",
    "    pad_width=((0, 0), (0, classes_train_2.shape[1] - classes_train_1.shape[1])),\n",
    "    mode='constant',\n",
    "    constant_values=((0,0), (0,0)),\n",
    ")\n",
    "\n",
    "classes_dev_1 = np.pad(\n",
    "    classes_dev_1, \n",
    "    pad_width=((0, 0), (0, classes_dev_2.shape[1] - classes_dev_1.shape[1])),\n",
    "    mode='constant',\n",
    "    constant_values=((0,0), (0,0)),\n",
    ")\n",
    "\n",
    "classes_train = np.stack([\n",
    "    classes_train_1,\n",
    "    classes_train_2,\n",
    "], axis=1)\n",
    "\n",
    "classes_dev = np.stack([\n",
    "    classes_dev_1,\n",
    "    classes_dev_2,\n",
    "], axis=1)"
   ]
  },
  {
   "cell_type": "code",
   "execution_count": null,
   "metadata": {},
   "outputs": [],
   "source": [
    "print('Train classes shape: ', classes_train.shape, 'Dev classes shape:', classes_dev.shape)"
   ]
  },
  {
   "cell_type": "markdown",
   "metadata": {},
   "source": [
    "## Training"
   ]
  },
  {
   "cell_type": "code",
   "execution_count": null,
   "metadata": {},
   "outputs": [],
   "source": [
    "model = get_model((features_train.shape[1:]), classes_train.shape[2])"
   ]
  },
  {
   "cell_type": "code",
   "execution_count": null,
   "metadata": {},
   "outputs": [],
   "source": [
    "model.summary()"
   ]
  },
  {
   "cell_type": "code",
   "execution_count": null,
   "metadata": {},
   "outputs": [],
   "source": [
    "model.fit(\n",
    "    features_train,\n",
    "    classes_train,\n",
    "    batch_size=128,\n",
    "    epochs=50,\n",
    "    validation_data=(features_dev, classes_dev)\n",
    ")"
   ]
  }
 ],
 "metadata": {
  "kernelspec": {
   "display_name": "Python 3",
   "language": "python",
   "name": "python3"
  },
  "language_info": {
   "codemirror_mode": {
    "name": "ipython",
    "version": 3
   },
   "file_extension": ".py",
   "mimetype": "text/x-python",
   "name": "python",
   "nbconvert_exporter": "python",
   "pygments_lexer": "ipython3",
   "version": "3.6.3"
  }
 },
 "nbformat": 4,
 "nbformat_minor": 2
}
