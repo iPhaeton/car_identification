{
 "cells": [
  {
   "cell_type": "code",
   "execution_count": 1,
   "metadata": {},
   "outputs": [
    {
     "name": "stderr",
     "output_type": "stream",
     "text": [
      "Using TensorFlow backend.\n"
     ]
    }
   ],
   "source": [
    "import pandas as pd\n",
    "from keras.layers import LSTM, Input, Bidirectional, TimeDistributed, Dropout, Dense, Activation\n",
    "from keras.models import Model\n",
    "from keras.utils.np_utils import to_categorical\n",
    "import tensorflow as tf\n",
    "import numpy as np\n",
    "import os"
   ]
  },
  {
   "cell_type": "markdown",
   "metadata": {},
   "source": [
    "## Model"
   ]
  },
  {
   "cell_type": "code",
   "execution_count": 2,
   "metadata": {},
   "outputs": [],
   "source": [
    "def get_model(input_shape, output_shape, lr = 0.00001):\n",
    "    inputs = Input(shape=input_shape)\n",
    "    X = Dropout(0.5)(inputs)\n",
    "    X = Dense(4096, activation='relu')(X)\n",
    "    X = Dropout(0.5)(X)\n",
    "    X = Dense(2048, activation='relu')(X)\n",
    "    X = Dense(2048, activation='relu')(X)\n",
    "    X = Bidirectional(LSTM(1024, return_sequences=True))(X)\n",
    "    outputs = TimeDistributed(Dense(output_shape, activation='softmax'))(X)\n",
    "    \n",
    "    model = Model(inputs=inputs, outputs=outputs)\n",
    "    \n",
    "    model.compile(\n",
    "        optimizer=tf.train.AdamOptimizer(lr),\n",
    "        loss='categorical_crossentropy',\n",
    "        metrics=['categorical_accuracy'],\n",
    "    )\n",
    "    \n",
    "    return model"
   ]
  },
  {
   "cell_type": "markdown",
   "metadata": {},
   "source": [
    "## Data"
   ]
  },
  {
   "cell_type": "code",
   "execution_count": 3,
   "metadata": {},
   "outputs": [],
   "source": [
    "def generator(path, mode, num_batches):\n",
    "    counter = 0\n",
    "    while True:\n",
    "        if counter >= num_batches:\n",
    "            counter = 0\n",
    "\n",
    "        features = np.load(path + 'features_' + mode + '_' + str(counter) + '.npy')\n",
    "        classes = np.load(path + 'classes_' + mode + '_' + str(counter) + '.npy')\n",
    "        \n",
    "        counter += 1\n",
    "        yield features, classes"
   ]
  },
  {
   "cell_type": "markdown",
   "metadata": {},
   "source": [
    "## Training"
   ]
  },
  {
   "cell_type": "code",
   "execution_count": 4,
   "metadata": {},
   "outputs": [],
   "source": [
    "model = get_model((2, 2048), 167)"
   ]
  },
  {
   "cell_type": "code",
   "execution_count": 5,
   "metadata": {},
   "outputs": [
    {
     "name": "stdout",
     "output_type": "stream",
     "text": [
      "_________________________________________________________________\n",
      "Layer (type)                 Output Shape              Param #   \n",
      "=================================================================\n",
      "input_1 (InputLayer)         (None, 2, 2048)           0         \n",
      "_________________________________________________________________\n",
      "dropout_1 (Dropout)          (None, 2, 2048)           0         \n",
      "_________________________________________________________________\n",
      "dense_1 (Dense)              (None, 2, 4096)           8392704   \n",
      "_________________________________________________________________\n",
      "dropout_2 (Dropout)          (None, 2, 4096)           0         \n",
      "_________________________________________________________________\n",
      "dense_2 (Dense)              (None, 2, 2048)           8390656   \n",
      "_________________________________________________________________\n",
      "dense_3 (Dense)              (None, 2, 2048)           4196352   \n",
      "_________________________________________________________________\n",
      "bidirectional_1 (Bidirection (None, 2, 2048)           25174016  \n",
      "_________________________________________________________________\n",
      "time_distributed_1 (TimeDist (None, 2, 167)            342183    \n",
      "=================================================================\n",
      "Total params: 46,495,911\n",
      "Trainable params: 46,495,911\n",
      "Non-trainable params: 0\n",
      "_________________________________________________________________\n"
     ]
    }
   ],
   "source": [
    "model.summary()"
   ]
  },
  {
   "cell_type": "code",
   "execution_count": null,
   "metadata": {},
   "outputs": [
    {
     "name": "stdout",
     "output_type": "stream",
     "text": [
      "Epoch 1/50\n",
      "101/101 [==============================] - 133s 1s/step - loss: 4.7109 - categorical_accuracy: 0.0571 - val_loss: 4.5204 - val_categorical_accuracy: 0.0586\n",
      "Epoch 2/50\n",
      "101/101 [==============================] - 146s 1s/step - loss: 4.4118 - categorical_accuracy: 0.0644 - val_loss: 4.2911 - val_categorical_accuracy: 0.0815\n",
      "Epoch 3/50\n",
      " 98/101 [============================>.] - ETA: 3s - loss: 4.2070 - categorical_accuracy: 0.0831"
     ]
    }
   ],
   "source": [
    "model.fit_generator(\n",
    "    generator('./features/lstm/2_steps/', 'train', 101),\n",
    "    steps_per_epoch=101,\n",
    "    epochs=50,\n",
    "    validation_data=generator('./features/lstm/2_steps/', 'dev', 26),\n",
    "    validation_steps=26,\n",
    ")"
   ]
  }
 ],
 "metadata": {
  "kernelspec": {
   "display_name": "Python 3",
   "language": "python",
   "name": "python3"
  },
  "language_info": {
   "codemirror_mode": {
    "name": "ipython",
    "version": 3
   },
   "file_extension": ".py",
   "mimetype": "text/x-python",
   "name": "python",
   "nbconvert_exporter": "python",
   "pygments_lexer": "ipython3",
   "version": "3.6.3"
  }
 },
 "nbformat": 4,
 "nbformat_minor": 2
}
