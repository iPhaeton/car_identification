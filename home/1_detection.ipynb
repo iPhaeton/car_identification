{
 "cells": [
  {
   "cell_type": "code",
   "execution_count": null,
   "metadata": {},
   "outputs": [],
   "source": [
    "from imageai.Detection import ObjectDetection\n",
    "from keras.preprocessing.image import ImageDataGenerator, img_to_array, load_img, array_to_img, save_img\n",
    "import os\n",
    "from matplotlib import pyplot as plt\n",
    "import numpy as np\n",
    "from modules.detector import Detector"
   ]
  },
  {
   "cell_type": "code",
   "execution_count": null,
   "metadata": {},
   "outputs": [],
   "source": [
    "dirs = ['Bentley Continental_Flying_Spur Sedan 2007',\n",
    " 'Audi TT Coupe 2012 RS',\n",
    " 'Buick Rainier SUV 2007',\n",
    " 'Audi A5 Coupe 2012 S5',\n",
    " 'Chevrolet HHR_SS Hatchback 2010',\n",
    " 'Chevrolet Corvette Coupe 2012 ZR1',\n",
    " 'Audi 100 Wagon 1994',\n",
    " 'Chevrolet Avalanche Crew_Cab 2012',\n",
    " 'Acura ZDX SUV 2012',\n",
    " '.DS_Store',\n",
    " 'Audi TT Coupe 2011',\n",
    " 'Acura TSX Sedan 2012',\n",
    " 'BMW X5 SUV 2007',\n",
    " 'Chevrolet Express_1 Van 2007',\n",
    " 'Bentley Continental_2 Coupe 2012',\n",
    " 'BMW X3 SUV 2012',\n",
    " 'BMW 1_Series Coupe 2012',\n",
    " 'Audi A5 Convertible 2012',\n",
    " 'Aston_Martin V8_Vantage Convertible 2012',\n",
    " 'BMW M3 Coupe 2012',\n",
    " 'Bentley Mulsanne Sedan 2011',\n",
    " 'Chevrolet Corvette Convertible 2012',\n",
    " 'Audi 100 Sedan 1994',\n",
    " 'BMW 6_Series Convertible 2007',\n",
    " 'Audi R8 Coupe 2012',\n",
    " 'Chevrolet Express_1 Cargo_Van 2007',\n",
    " 'Bugatti Veyron Convertible 2009',\n",
    " 'Acura Integra_Type_R Coupe 2001',\n",
    " 'Audi V8 Sedan 1994',\n",
    " 'Buick Enclave SUV 2012',\n",
    " 'Audi A5 Coupe 2012',\n",
    " 'Bugatti Veyron Coupe 2009',\n",
    " 'BMW Z4 Convertible 2012',\n",
    " 'Audi S6 Sedan 2011',\n",
    " 'BMW 1_Series Convertible 2012',\n",
    " 'Chevrolet Express_2 Van 2019',\n",
    " 'Cadillac SRX SUV 2012',\n",
    " 'Acura TL_Type-S Sedan 2008',\n",
    " 'Acura RL Sedan 2012',\n",
    " 'AM Hummer SUV 2000',\n",
    " 'Aston_Martin V8_Vantage Coupe 2012',\n",
    " 'BMW 3_Series_2 Wagon 2010',\n",
    " 'Audi TT Coupe 2012 S',\n",
    " 'Aston_Martin Virage Convertible 2012',\n",
    " 'Audi S4 Sedan 2012',\n",
    " 'Cadillac Escalade_EXT Crew_Cab 2007',\n",
    " 'Audi A5 Convertible 2012 S5',\n",
    " 'Bentley Continental_1 Coupe 2007',\n",
    " 'Chevrolet Cobalt_SS Coupe 2010',\n",
    " 'BMW 3_Series_3 Wagon 2014',\n",
    " 'Buick Verano Sedan 2012',\n",
    " 'Buick Regal_GS Sedan 2012',\n",
    " 'Cadillac CTS-V Sedan 2012',\n",
    " 'BMW 6_Series Convertible 2010 M6',\n",
    " 'Acura TL Sedan 2012',\n",
    " 'Audi A4 Sedan 2007 S4',\n",
    " 'Aston_Martin Virage Coupe 2012',\n",
    " 'Bentley Continental_1 Convertible 2012',\n",
    " 'BMW M5 Sedan 2010',\n",
    " 'Chevrolet Express_2 Cargo_Van 2019',\n",
    " 'Chevrolet Camaro Convertible 2012',\n",
    " 'BMW 5_Series Sedan 2012',\n",
    " 'BMW X6 SUV 2012',\n",
    " 'Chevrolet Corvette Coupe 2007 Z06',\n",
    " 'Bentley Arnage Sedan 2009',\n",
    " 'Audi A4 Convertible 2008 RS_4',\n",
    " 'BMW 3_Series_3 Sedan 2012']"
   ]
  },
  {
   "cell_type": "code",
   "execution_count": null,
   "metadata": {},
   "outputs": [],
   "source": [
    "detector = Detector('yolo')"
   ]
  },
  {
   "cell_type": "markdown",
   "metadata": {},
   "source": [
    "## Crop data"
   ]
  },
  {
   "cell_type": "code",
   "execution_count": null,
   "metadata": {},
   "outputs": [],
   "source": [
    "detector.crop_path(\n",
    "    '../input/car_data/', \n",
    "    '../input/cropped_car_data_test/',\n",
    "    dirs,\n",
    "    params={\n",
    "        'detect_largest_box': True,\n",
    "        'smallest_detected_area': 0.2,\n",
    "    }\n",
    ")"
   ]
  },
  {
   "cell_type": "markdown",
   "metadata": {},
   "source": [
    "## Preview"
   ]
  },
  {
   "cell_type": "code",
   "execution_count": null,
   "metadata": {},
   "outputs": [],
   "source": [
    "img = load_img(\"../input/car_data/AM Hummer SUV 2000/00457.jpg\")"
   ]
  },
  {
   "cell_type": "code",
   "execution_count": null,
   "metadata": {},
   "outputs": [],
   "source": [
    "cropped_image = detector.crop_image(\n",
    "    img, \n",
    "    'array',\n",
    "    params={\n",
    "        'detect_largest_box': True,\n",
    "        'smallest_detected_area': 0.2,\n",
    "    }\n",
    ")\n",
    "plt.imshow(cropped_image)"
   ]
  }
 ],
 "metadata": {
  "kernelspec": {
   "display_name": "Python 3",
   "language": "python",
   "name": "python3"
  },
  "language_info": {
   "codemirror_mode": {
    "name": "ipython",
    "version": 3
   },
   "file_extension": ".py",
   "mimetype": "text/x-python",
   "name": "python",
   "nbconvert_exporter": "python",
   "pygments_lexer": "ipython3",
   "version": "3.6.7"
  }
 },
 "nbformat": 4,
 "nbformat_minor": 2
}
