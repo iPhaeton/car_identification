{
 "cells": [
  {
   "cell_type": "markdown",
   "metadata": {},
   "source": [
    "## Save model"
   ]
  },
  {
   "cell_type": "code",
   "execution_count": null,
   "metadata": {},
   "outputs": [],
   "source": [
    "from modules.lstm_encoder_decoder import LSTMEncoderDecoder\n",
    "import numpy as np\n",
    "import json"
   ]
  },
  {
   "cell_type": "code",
   "execution_count": null,
   "metadata": {},
   "outputs": [],
   "source": [
    "encoder_decoder = LSTMEncoderDecoder(\n",
    "    source_path='../input/features/lstm/3_steps/',\n",
    "    weights_path='../input/convnet_weights/weights.04-0.36-87.85.hdf5',\n",
    ")"
   ]
  },
  {
   "cell_type": "code",
   "execution_count": null,
   "metadata": {},
   "outputs": [],
   "source": [
    "model_json = encoder_decoder.model.to_json()\n",
    "with open('../input/model/car-identification.json', 'w') as outfile:\n",
    "    json.dump(model_json, outfile)\n",
    "encoder_decoder.model.save_weights('../input/model/car-identification.h5')"
   ]
  },
  {
   "cell_type": "code",
   "execution_count": null,
   "metadata": {},
   "outputs": [],
   "source": [
    "indices = np.load('../input/features/lstm/3_steps/indices_dev.npy')\n",
    "true_classes = np.load('../input/features/res_net/classes_dev_make-model.npy')[indices]\n",
    "true_classnames = np.load('../input/features/res_net/classnames_dev_make-model.npy')[indices]\n",
    "classes, indices = np.unique(true_classes, return_index=True)\n",
    "classnames = true_classnames[indices]\n",
    "np.save('../input/model/classnames.npy', classnames)"
   ]
  },
  {
   "cell_type": "markdown",
   "metadata": {},
   "source": [
    "## Get images for preview"
   ]
  },
  {
   "cell_type": "code",
   "execution_count": null,
   "metadata": {},
   "outputs": [],
   "source": [
    "import os\n",
    "from shutil import rmtree, copyfile"
   ]
  },
  {
   "cell_type": "code",
   "execution_count": null,
   "metadata": {},
   "outputs": [],
   "source": [
    "def get_dataset(name, create_dirs=True):\n",
    "    names_source = f'../input/datasets/{name}_dataset/'\n",
    "    files_source = f'../input/car_data/'\n",
    "    target = f'../input/preview'\n",
    "    \n",
    "    rmtree(target)\n",
    "    \n",
    "    dirs = os.listdir(names_source)\n",
    "    try:\n",
    "        dirs.remove('.DS_Store')\n",
    "    except:\n",
    "        x = 1\n",
    "    \n",
    "    if os.path.exists(target) == False:\n",
    "        os.mkdir(target)\n",
    "    \n",
    "    for d in dirs:\n",
    "        files = os.listdir(os.path.join(names_source, d))\n",
    "        if create_dirs == True:\n",
    "            os.mkdir(os.path.join(target, d))\n",
    "        \n",
    "        for f in files:\n",
    "            if create_dirs == True:\n",
    "                copyfile(os.path.join(files_source, d, f), os.path.join(target, d, f))\n",
    "            else:\n",
    "                copyfile(os.path.join(files_source, d, f), os.path.join(target, f))"
   ]
  },
  {
   "cell_type": "code",
   "execution_count": null,
   "metadata": {},
   "outputs": [],
   "source": [
    "get_dataset('dev')"
   ]
  },
  {
   "cell_type": "markdown",
   "metadata": {},
   "source": [
    "## Save classnames"
   ]
  },
  {
   "cell_type": "code",
   "execution_count": null,
   "metadata": {},
   "outputs": [],
   "source": [
    "import numpy as np\n",
    "import pickle"
   ]
  },
  {
   "cell_type": "code",
   "execution_count": null,
   "metadata": {},
   "outputs": [],
   "source": [
    "indices = np.load('../input/features/lstm/3_steps/indices_dev.npy')\n",
    "classnames = np.load('../input/features/res_net/classnames_dev_make-model.npy')[indices]\n",
    "classnames = np.unique(true_classnames)"
   ]
  },
  {
   "cell_type": "code",
   "execution_count": null,
   "metadata": {},
   "outputs": [],
   "source": [
    "classnames_map = {}\n",
    "for classname in classnames:\n",
    "    classnames_map[classname] = classname.replace('_', ' ')\n",
    "    \n",
    "classnames_map['BMW 3_Series_2'] = 'BMW 3 Series 5th gen'\n",
    "classnames_map['BMW 3_Series_3'] = 'BMW 3 Series 6th gen'\n",
    "classnames_map['Bentley Continental_1'] = 'Bentley Continental 1st gen'\n",
    "classnames_map['Bentley Continental_2'] = 'Bentley Continental 2nd gen'\n",
    "classnames_map['Chevrolet Express_1'] = 'Chevrolet Express'\n",
    "classnames_map['Chevrolet Express_2'] = 'Chevrolet Express Appearance Package'"
   ]
  },
  {
   "cell_type": "code",
   "execution_count": null,
   "metadata": {},
   "outputs": [],
   "source": [
    "with open('../input/preview/classnames_map.json', 'wb') as fp:\n",
    "    pickle.dump(classnames_map, fp, protocol=pickle.HIGHEST_PROTOCOL)"
   ]
  }
 ],
 "metadata": {
  "kernelspec": {
   "display_name": "Python 3",
   "language": "python",
   "name": "python3"
  },
  "language_info": {
   "codemirror_mode": {
    "name": "ipython",
    "version": 3
   },
   "file_extension": ".py",
   "mimetype": "text/x-python",
   "name": "python",
   "nbconvert_exporter": "python",
   "pygments_lexer": "ipython3",
   "version": "3.6.7"
  }
 },
 "nbformat": 4,
 "nbformat_minor": 2
}
