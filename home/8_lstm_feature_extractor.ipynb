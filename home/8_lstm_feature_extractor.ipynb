{
 "cells": [
  {
   "cell_type": "code",
   "execution_count": null,
   "metadata": {},
   "outputs": [],
   "source": [
    "import numpy as np\n",
    "from keras.models import load_model, Model"
   ]
  },
  {
   "cell_type": "markdown",
   "metadata": {},
   "source": [
    "## Features from pretrained feature extractors"
   ]
  },
  {
   "cell_type": "code",
   "execution_count": null,
   "metadata": {},
   "outputs": [],
   "source": [
    "def get_indices(net_name, mode):\n",
    "    filenames = np.load('../input/features/' + net_name + '/filenames_' + mode +'.npy')\n",
    "    indices = np.argwhere(np.array(list(map(lambda fn: fn.split('/')[1][0] != '_', filenames))) == True)\n",
    "    indices = indices.reshape((1, indices.shape[0]))[0]\n",
    "    return indices\n",
    "\n",
    "def get_features_from_nets(net_names, mode, steps):\n",
    "    indices = get_indices('res_net', mode)\n",
    "    classes = np.load('../input/features/res_net/classes_' + mode + '.npy')[indices]\n",
    "    classnames = np.load('../input/features/res_net/classnames_' + mode + '_make-model.npy')[indices]\n",
    "    features = []\n",
    "    for net_name in net_names:\n",
    "        net_features = np.load('../input/features/' + net_name + '/features_' + mode +'.npy')[indices]\n",
    "        features.append(net_features)\n",
    "    features = np.concatenate(features, axis=1)\n",
    "    features = np.expand_dims(features, axis=1)\n",
    "    features = np.repeat(features, steps, axis=1)\n",
    "    return features, classes, classnames"
   ]
  },
  {
   "cell_type": "code",
   "execution_count": null,
   "metadata": {},
   "outputs": [],
   "source": [
    "features_train, classes_train, classnames_train = get_features_from_nets(['res_net', 'inception', 'xception'], 'train', 3)\n",
    "features_dev, classes_dev, classnames_dev = get_features_from_nets(['res_net', 'inception', 'xception'], 'dev', 3)"
   ]
  },
  {
   "cell_type": "markdown",
   "metadata": {},
   "source": [
    "## Features from LSTM"
   ]
  },
  {
   "cell_type": "code",
   "execution_count": null,
   "metadata": {},
   "outputs": [],
   "source": [
    "model = load_model('../input/model/car-identification.h5')\n",
    "model = Model(inputs=model.input, outputs=model.layers[6].output)"
   ]
  },
  {
   "cell_type": "code",
   "execution_count": null,
   "metadata": {},
   "outputs": [],
   "source": [
    "predictions_train = model.predict(features_train, verbose=1)\n",
    "predictions_dev = model.predict(features_dev, verbose=1)"
   ]
  },
  {
   "cell_type": "code",
   "execution_count": null,
   "metadata": {},
   "outputs": [],
   "source": [
    "np.save('../input/features/siamese/features_train.npy', predictions_train)\n",
    "np.save('../input/features/siamese/classes_train.npy', classes_train)\n",
    "np.save('../input/features/siamese/classnames_train.npy', classnames_train)\n",
    "np.save('../input/features/siamese/features_dev.npy', predictions_dev)\n",
    "np.save('../input/features/siamese/classes_dev.npy', classes_dev)\n",
    "np.save('../input/features/siamese/classnames_dev.npy', classnames_dev)"
   ]
  }
 ],
 "metadata": {
  "kernelspec": {
   "display_name": "Python 3",
   "language": "python",
   "name": "python3"
  },
  "language_info": {
   "codemirror_mode": {
    "name": "ipython",
    "version": 3
   },
   "file_extension": ".py",
   "mimetype": "text/x-python",
   "name": "python",
   "nbconvert_exporter": "python",
   "pygments_lexer": "ipython3",
   "version": "3.6.7"
  }
 },
 "nbformat": 4,
 "nbformat_minor": 2
}
