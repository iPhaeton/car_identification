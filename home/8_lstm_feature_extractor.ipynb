{
 "cells": [
  {
   "cell_type": "code",
   "execution_count": 1,
   "metadata": {},
   "outputs": [
    {
     "name": "stderr",
     "output_type": "stream",
     "text": [
      "Using TensorFlow backend.\n"
     ]
    }
   ],
   "source": [
    "import numpy as np\n",
    "from keras.models import load_model, Model"
   ]
  },
  {
   "cell_type": "markdown",
   "metadata": {},
   "source": [
    "## Features from pretrained feature extractors"
   ]
  },
  {
   "cell_type": "code",
   "execution_count": 2,
   "metadata": {},
   "outputs": [],
   "source": [
    "def get_indices(net_name, mode):\n",
    "    filenames = np.load('../input/features/' + net_name + '/filenames_' + mode +'.npy')\n",
    "    indices = np.argwhere(np.array(list(map(lambda fn: fn.split('/')[1][0] != '_', filenames))) == True)\n",
    "    indices = indices.reshape((1, indices.shape[0]))[0]\n",
    "    return indices\n",
    "\n",
    "def get_features_from_nets(net_names, mode, steps):\n",
    "    indices = get_indices('res_net', mode)\n",
    "    classes = np.load('../input/features/res_net/classes_' + mode + '_make-model.npy')[indices]\n",
    "    classnames = np.load('../input/features/res_net/classnames_' + mode + '_make-model.npy')[indices]\n",
    "    filenames = np.load('../input/features/res_net/filenames_' + mode + '.npy')[indices]\n",
    "    features = []\n",
    "    for net_name in net_names:\n",
    "        net_features = np.load('../input/features/' + net_name + '/features_' + mode +'.npy')[indices]\n",
    "        features.append(net_features)\n",
    "    features = np.concatenate(features, axis=1)\n",
    "    features = np.expand_dims(features, axis=1)\n",
    "    features = np.repeat(features, steps, axis=1)\n",
    "    return features, classes, classnames, filenames"
   ]
  },
  {
   "cell_type": "code",
   "execution_count": 3,
   "metadata": {},
   "outputs": [],
   "source": [
    "features_train, classes_train, classnames_train, filenames_train = get_features_from_nets(['res_net', 'inception', 'xception'], 'train', 3)\n",
    "features_dev, classes_dev, classnames_dev, filenames_dev = get_features_from_nets(['res_net', 'inception', 'xception'], 'dev', 3)"
   ]
  },
  {
   "cell_type": "markdown",
   "metadata": {},
   "source": [
    "## Features from LSTM"
   ]
  },
  {
   "cell_type": "code",
   "execution_count": 4,
   "metadata": {},
   "outputs": [
    {
     "name": "stderr",
     "output_type": "stream",
     "text": [
      "/opt/conda/lib/python3.6/site-packages/keras/engine/saving.py:292: UserWarning: No training configuration found in save file: the model was *not* compiled. Compile it manually.\n",
      "  warnings.warn('No training configuration found in save file: '\n"
     ]
    }
   ],
   "source": [
    "model = load_model('../input/model/car-identification.h5')\n",
    "model = Model(inputs=model.input, outputs=model.layers[6].output)"
   ]
  },
  {
   "cell_type": "code",
   "execution_count": 5,
   "metadata": {},
   "outputs": [
    {
     "name": "stdout",
     "output_type": "stream",
     "text": [
      "3837/3837 [==============================] - 22s 6ms/step\n",
      "996/996 [==============================] - 5s 5ms/step\n"
     ]
    }
   ],
   "source": [
    "predictions_train = model.predict(features_train, verbose=1)\n",
    "predictions_dev = model.predict(features_dev, verbose=1)"
   ]
  },
  {
   "cell_type": "code",
   "execution_count": 6,
   "metadata": {},
   "outputs": [],
   "source": [
    "np.save('../input/features/siamese/features_train.npy', predictions_train)\n",
    "np.save('../input/features/siamese/classes_train.npy', classes_train)\n",
    "np.save('../input/features/siamese/classnames_train.npy', classnames_train)\n",
    "np.save('../input/features/siamese/filenames_train.npy', filenames_train)\n",
    "np.save('../input/features/siamese/features_dev.npy', predictions_dev)\n",
    "np.save('../input/features/siamese/classes_dev.npy', classes_dev)\n",
    "np.save('../input/features/siamese/classnames_dev.npy', classnames_dev)\n",
    "np.save('../input/features/siamese/filenames_dev.npy', filenames_dev)"
   ]
  }
 ],
 "metadata": {
  "kernelspec": {
   "display_name": "Python 3",
   "language": "python",
   "name": "python3"
  },
  "language_info": {
   "codemirror_mode": {
    "name": "ipython",
    "version": 3
   },
   "file_extension": ".py",
   "mimetype": "text/x-python",
   "name": "python",
   "nbconvert_exporter": "python",
   "pygments_lexer": "ipython3",
   "version": "3.6.7"
  }
 },
 "nbformat": 4,
 "nbformat_minor": 2
}
