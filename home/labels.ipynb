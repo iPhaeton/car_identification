{
 "cells": [
  {
   "cell_type": "code",
   "execution_count": 1,
   "metadata": {},
   "outputs": [],
   "source": [
    "import os\n",
    "import pandas as pd"
   ]
  },
  {
   "cell_type": "code",
   "execution_count": 2,
   "metadata": {},
   "outputs": [],
   "source": [
    "path = './stanford-car-dataset-by-classes-folder/car_data/'\n",
    "classes = os.listdir(path)\n",
    "classes.remove('.DS_Store')"
   ]
  },
  {
   "cell_type": "code",
   "execution_count": 3,
   "metadata": {},
   "outputs": [],
   "source": [
    "data = {\n",
    "    'filename': [],\n",
    "    'class': [],\n",
    "    'make': [],\n",
    "    'model': [],\n",
    "    'body': [],\n",
    "    'year': [],\n",
    "}\n",
    "\n",
    "for cl in sorted(classes):\n",
    "    custom_classes = cl.split(' ')\n",
    "    \n",
    "    files = os.listdir(path + cl)\n",
    "    try:\n",
    "        files.remove('.DS_Store')\n",
    "    except:\n",
    "        x=1\n",
    "        \n",
    "    for file in files:\n",
    "        data['filename'].append(file)\n",
    "        data['class'].append(cl)\n",
    "        data['make'].append(custom_classes[0])\n",
    "        data['model'].append(custom_classes[1])\n",
    "        data['body'].append(custom_classes[2])\n",
    "        data['year'].append(custom_classes[3])\n",
    "        \n",
    "df = pd.DataFrame(data)"
   ]
  },
  {
   "cell_type": "code",
   "execution_count": 4,
   "metadata": {},
   "outputs": [
    {
     "data": {
      "text/plain": [
       "(16185, 6)"
      ]
     },
     "execution_count": 4,
     "metadata": {},
     "output_type": "execute_result"
    }
   ],
   "source": [
    "df.shape"
   ]
  },
  {
   "cell_type": "code",
   "execution_count": 5,
   "metadata": {},
   "outputs": [],
   "source": [
    "df.to_csv('./stanford-car-dataset-by-classes-folder/labels.csv')"
   ]
  }
 ],
 "metadata": {
  "kernelspec": {
   "display_name": "Python 3",
   "language": "python",
   "name": "python3"
  },
  "language_info": {
   "codemirror_mode": {
    "name": "ipython",
    "version": 3
   },
   "file_extension": ".py",
   "mimetype": "text/x-python",
   "name": "python",
   "nbconvert_exporter": "python",
   "pygments_lexer": "ipython3",
   "version": "3.6.3"
  }
 },
 "nbformat": 4,
 "nbformat_minor": 2
}
