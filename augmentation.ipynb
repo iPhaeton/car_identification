{
 "cells": [
  {
   "cell_type": "code",
   "execution_count": 1,
   "metadata": {},
   "outputs": [
    {
     "name": "stderr",
     "output_type": "stream",
     "text": [
      "Using TensorFlow backend.\n"
     ]
    }
   ],
   "source": [
    "from keras.preprocessing.image import ImageDataGenerator, img_to_array, load_img, array_to_img, save_img\n",
    "import os\n",
    "from matplotlib import pyplot as plt"
   ]
  },
  {
   "cell_type": "code",
   "execution_count": 2,
   "metadata": {},
   "outputs": [],
   "source": [
    "def augment_single_class(dir_path, generator, iteration):\n",
    "    files = os.listdir(dir_path)\n",
    "    try:\n",
    "        files.remove('.DS_Store')\n",
    "    except:\n",
    "        x=1\n",
    "    files = list(filter(lambda f: f[0] != '_', files))\n",
    "    \n",
    "    for file in files:\n",
    "        img = load_img(dir_path + '/' + file)\n",
    "        x = img_to_array(img)\n",
    "        #x = x.reshape((1,) + x.shape)\n",
    "        \n",
    "        x_transformed = generator.random_transform(x)\n",
    "        img_transformed = array_to_img(x_transformed)\n",
    "        save_img(dir_path + '/_' + str(iteration) + '_' + file, img_transformed)\n",
    "        \n",
    "def augment(path, generator, factor):\n",
    "    dirs = os.listdir(path)\n",
    "    try:\n",
    "        dirs.remove('.DS_Store')\n",
    "    except:\n",
    "        x=1\n",
    "    for i, dir in enumerate(dirs):\n",
    "        for j in range(factor - 1):\n",
    "            augment_single_class(path + '/' + dir, generator, j)\n",
    "        print('Class ' + str(i) + ' ' + dir + ' augmented.')"
   ]
  },
  {
   "cell_type": "code",
   "execution_count": 3,
   "metadata": {},
   "outputs": [],
   "source": [
    "generator = ImageDataGenerator(\n",
    "    horizontal_flip=True,\n",
    "    rotation_range=15,\n",
    "    brightness_range=(0.5, 2),\n",
    "    fill_mode='constant',\n",
    "    cval=0,\n",
    ")"
   ]
  },
  {
   "cell_type": "markdown",
   "metadata": {},
   "source": [
    "## Augmentation"
   ]
  },
  {
   "cell_type": "code",
   "execution_count": 4,
   "metadata": {},
   "outputs": [
    {
     "name": "stdout",
     "output_type": "stream",
     "text": [
      "Class 0 Bentley Continental_Flying_Spur Sedan 2007 augmented.\n",
      "Class 1 Audi TT Coupe 2012 RS augmented.\n",
      "Class 2 Buick Rainier SUV 2007 augmented.\n",
      "Class 3 Audi A5 Coupe 2012 S5 augmented.\n",
      "Class 4 Chevrolet HHR_SS Hatchback 2010 augmented.\n",
      "Class 5 Chevrolet Corvette Coupe 2012 ZR1 augmented.\n",
      "Class 6 Audi 100 Wagon 1994 augmented.\n",
      "Class 7 Chevrolet Avalanche Crew_Cab 2012 augmented.\n",
      "Class 8 Acura ZDX SUV 2012 augmented.\n",
      "Class 9 Audi TT Coupe 2011 augmented.\n",
      "Class 10 Acura TSX Sedan 2012 augmented.\n",
      "Class 11 BMW X5 SUV 2007 augmented.\n",
      "Class 12 Chevrolet Express_1 Van 2007 augmented.\n",
      "Class 13 Bentley Continental_2 Coupe 2012 augmented.\n",
      "Class 14 BMW X3 SUV 2012 augmented.\n",
      "Class 15 BMW 1_Series Coupe 2012 augmented.\n",
      "Class 16 Audi A5 Convertible 2012 augmented.\n",
      "Class 17 Aston_Martin V8_Vantage Convertible 2012 augmented.\n",
      "Class 18 BMW M3 Coupe 2012 augmented.\n",
      "Class 19 Bentley Mulsanne Sedan 2011 augmented.\n",
      "Class 20 Chevrolet Corvette Convertible 2012 augmented.\n",
      "Class 21 Audi 100 Sedan 1994 augmented.\n",
      "Class 22 BMW 6_Series Convertible 2007 augmented.\n",
      "Class 23 Audi R8 Coupe 2012 augmented.\n",
      "Class 24 Chevrolet Express_1 Cargo_Van 2007 augmented.\n",
      "Class 25 Bugatti Veyron Convertible 2009 augmented.\n",
      "Class 26 Acura Integra_Type_R Coupe 2001 augmented.\n",
      "Class 27 Audi V8 Sedan 1994 augmented.\n",
      "Class 28 Buick Enclave SUV 2012 augmented.\n",
      "Class 29 Audi A5 Coupe 2012 augmented.\n",
      "Class 30 Bugatti Veyron Coupe 2009 augmented.\n",
      "Class 31 BMW 6_Series Coupe 2010 M6 augmented.\n",
      "Class 32 BMW Z4 Convertible 2012 augmented.\n",
      "Class 33 Audi S6 Sedan 2011 augmented.\n",
      "Class 34 BMW 1_Series Convertible 2012 augmented.\n",
      "Class 35 Chevrolet Express_2 Van 2019 augmented.\n",
      "Class 36 Cadillac SRX SUV 2012 augmented.\n",
      "Class 37 Acura TL_Type-S Sedan 2008 augmented.\n",
      "Class 38 Acura RL Sedan 2012 augmented.\n",
      "Class 39 AM Hummer SUV 2000 augmented.\n",
      "Class 40 Aston_Martin V8_Vantage Coupe 2012 augmented.\n",
      "Class 41 BMW 3_Series_2 Wagon 2010 augmented.\n",
      "Class 42 Audi TT Coupe 2012 S augmented.\n",
      "Class 43 Aston_Martin Virage Convertible 2012 augmented.\n",
      "Class 44 Audi S4 Sedan 2012 augmented.\n",
      "Class 45 Cadillac Escalade_EXT Crew_Cab 2007 augmented.\n",
      "Class 46 Audi A5 Convertible 2012 S5 augmented.\n",
      "Class 47 Bentley Continental_1 Coupe 2007 augmented.\n",
      "Class 48 Chevrolet Cobalt_SS Coupe 2010 augmented.\n",
      "Class 49 BMW 3_Series_3 Wagon 2014 augmented.\n",
      "Class 50 BMW 5_Series Wagon 2012 augmented.\n",
      "Class 51 Buick Verano Sedan 2012 augmented.\n",
      "Class 52 Buick Regal_GS Sedan 2012 augmented.\n",
      "Class 53 Cadillac CTS-V Sedan 2012 augmented.\n",
      "Class 54 BMW 6_Series Convertible 2010 M6 augmented.\n",
      "Class 55 Acura TL Sedan 2012 augmented.\n",
      "Class 56 Audi A4 Sedan 2007 S4 augmented.\n",
      "Class 57 Aston_Martin Virage Coupe 2012 augmented.\n",
      "Class 58 Bentley Continental_1 Convertible 2012 augmented.\n",
      "Class 59 BMW M5 Sedan 2010 augmented.\n",
      "Class 60 Chevrolet Express_2 Cargo_Van 2019 augmented.\n",
      "Class 61 Chevrolet Camaro Convertible 2012 augmented.\n",
      "Class 62 BMW 5_Series Sedan 2012 augmented.\n",
      "Class 63 BMW X6 SUV 2012 augmented.\n",
      "Class 64 Chevrolet Corvette Coupe 2007 Z06 augmented.\n",
      "Class 65 Bentley Arnage Sedan 2009 augmented.\n",
      "Class 66 Audi A4 Convertible 2008 RS_4 augmented.\n",
      "Class 67 BMW 3_Series_3 Sedan 2012 augmented.\n"
     ]
    }
   ],
   "source": [
    "augment('./stanford-car-dataset-by-classes-folder/train_dataset', generator, factor=2)"
   ]
  },
  {
   "cell_type": "markdown",
   "metadata": {},
   "source": [
    "## Preview"
   ]
  },
  {
   "cell_type": "code",
   "execution_count": null,
   "metadata": {
    "scrolled": false
   },
   "outputs": [],
   "source": [
    "img = load_img('stanford-car-dataset-by-classes-folder/train_dataset/Acura RL Sedan 2012/00249.jpg')\n",
    "fig = plt.figure(figsize=(10,20))\n",
    "plt.imshow(img)\n",
    "x = img_to_array(img)\n",
    "\n",
    "for i in range(5):\n",
    "    x_transformed = generator.random_transform(x)\n",
    "    img_transformed = array_to_img(x_transformed)\n",
    "    fig = plt.figure(figsize=(10,20))\n",
    "    plt.imshow(img_transformed)"
   ]
  }
 ],
 "metadata": {
  "kernelspec": {
   "display_name": "Python 3",
   "language": "python",
   "name": "python3"
  },
  "language_info": {
   "codemirror_mode": {
    "name": "ipython",
    "version": 3
   },
   "file_extension": ".py",
   "mimetype": "text/x-python",
   "name": "python",
   "nbconvert_exporter": "python",
   "pygments_lexer": "ipython3",
   "version": "3.6.3"
  }
 },
 "nbformat": 4,
 "nbformat_minor": 2
}
