{
 "cells": [
  {
   "cell_type": "code",
   "execution_count": null,
   "metadata": {},
   "outputs": [],
   "source": [
    "from keras.preprocessing.image import ImageDataGenerator, img_to_array, load_img, array_to_img, save_img\n",
    "import os\n",
    "from matplotlib import pyplot as plt\n",
    "import numpy as np"
   ]
  },
  {
   "cell_type": "code",
   "execution_count": null,
   "metadata": {},
   "outputs": [],
   "source": [
    "def augment_single_class(dir_path, generator, iteration):\n",
    "    files = os.listdir(dir_path)\n",
    "    try:\n",
    "        files.remove('.DS_Store')\n",
    "    except:\n",
    "        x=1\n",
    "    files = list(filter(lambda f: f[0] != '_', files))\n",
    "    \n",
    "    for file in files:\n",
    "        img = load_img(dir_path + '/' + file)\n",
    "        x = img_to_array(img)\n",
    "        x_transformed = generator.random_transform(x)\n",
    "        \n",
    "        should_mess_up_colors = np.random.choice([0,1])\n",
    "        if should_mess_up_colors == 1:\n",
    "            x_transformed = mess_up_colors(x_transformed)\n",
    "        else:\n",
    "            x_transformed = swith_colors(x_transformed)\n",
    "        \n",
    "        img_transformed = array_to_img(x_transformed)\n",
    "        save_img(dir_path + '/_' + str(iteration) + '_' + file, img_transformed)\n",
    "        \n",
    "def augment(path, generator, factor):\n",
    "    dirs = os.listdir(path)\n",
    "    try:\n",
    "        dirs.remove('.DS_Store')\n",
    "    except:\n",
    "        x=1\n",
    "    for i, dir in enumerate(dirs):\n",
    "        for j in range(factor - 1):\n",
    "            augment_single_class(path + '/' + dir, generator, j)\n",
    "        print('Class ' + str(i) + ' ' + dir + ' augmented.')\n",
    "        \n",
    "def swith_colors(x):\n",
    "    channels = np.random.permutation(x.shape[2])\n",
    "    x = x[:,:,channels]\n",
    "    return x\n",
    "\n",
    "def mess_up_colors(x):\n",
    "    #channel = np.random.choice([0,1,2])\n",
    "    for channel in range(3):\n",
    "        intensity = np.random.uniform(0,1.5)\n",
    "        x[:,:,channel] *= intensity\n",
    "    return np.clip(x, 0, 255)"
   ]
  },
  {
   "cell_type": "code",
   "execution_count": null,
   "metadata": {},
   "outputs": [],
   "source": [
    "generator = ImageDataGenerator(\n",
    "    horizontal_flip=True,\n",
    "    rotation_range=15,\n",
    "    shear_range=15,\n",
    "    brightness_range=(0.5, 2),\n",
    "    fill_mode='constant',\n",
    "    cval=0,\n",
    ")"
   ]
  },
  {
   "cell_type": "markdown",
   "metadata": {},
   "source": [
    "## Preview"
   ]
  },
  {
   "cell_type": "code",
   "execution_count": null,
   "metadata": {
    "scrolled": false
   },
   "outputs": [],
   "source": [
    "img = load_img('stanford-car-dataset-by-classes-folder/train_dataset/Acura RL Sedan 2012/00249.jpg')\n",
    "fig = plt.figure(figsize=(10,20))\n",
    "plt.imshow(img)\n",
    "x = img_to_array(img)\n",
    "\n",
    "for i in range(20):\n",
    "    x_transformed = generator.random_transform(x)\n",
    "    should_mess_up_colors = np.random.choice([0,1])\n",
    "    if should_mess_up_colors == 1:\n",
    "        x_transformed = mess_up_colors(x_transformed)\n",
    "    else:\n",
    "        x_transformed = swith_colors(x_transformed)\n",
    "    img_transformed = array_to_img(x_transformed)\n",
    "    fig = plt.figure(figsize=(10,20))\n",
    "    plt.imshow(img_transformed)"
   ]
  },
  {
   "cell_type": "markdown",
   "metadata": {},
   "source": [
    "## Augmentation"
   ]
  },
  {
   "cell_type": "code",
   "execution_count": null,
   "metadata": {},
   "outputs": [],
   "source": [
    "augment('./stanford-car-dataset-by-classes-folder/train_dataset', generator, factor=2)"
   ]
  }
 ],
 "metadata": {
  "kernelspec": {
   "display_name": "Python 3",
   "language": "python",
   "name": "python3"
  },
  "language_info": {
   "codemirror_mode": {
    "name": "ipython",
    "version": 3
   },
   "file_extension": ".py",
   "mimetype": "text/x-python",
   "name": "python",
   "nbconvert_exporter": "python",
   "pygments_lexer": "ipython3",
   "version": "3.6.3"
  }
 },
 "nbformat": 4,
 "nbformat_minor": 2
}
