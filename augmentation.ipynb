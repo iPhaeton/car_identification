{
 "cells": [
  {
   "cell_type": "code",
   "execution_count": null,
   "metadata": {},
   "outputs": [],
   "source": [
    "from keras.preprocessing.image import ImageDataGenerator, img_to_array, load_img, array_to_img, save_img\n",
    "import os\n",
    "from matplotlib import pyplot as plt"
   ]
  },
  {
   "cell_type": "code",
   "execution_count": null,
   "metadata": {},
   "outputs": [],
   "source": [
    "def augment_single_class(dir_path, generator, iteration):\n",
    "    files = os.listdir(dir_path)\n",
    "    try:\n",
    "        files.remove('.DS_Store')\n",
    "    except:\n",
    "        x=1\n",
    "    files = list(filter(lambda f: f[0] != '_', files))\n",
    "    \n",
    "    for file in files:\n",
    "        img = load_img(dir_path + '/' + file)\n",
    "        x = img_to_array(img)\n",
    "        #x = x.reshape((1,) + x.shape)\n",
    "        \n",
    "        x_transformed = generator.random_transform(x)\n",
    "        img_transformed = array_to_img(x_transformed)\n",
    "        save_img(dir_path + '/_' + str(iteration) + '_' + file, img_transformed)\n",
    "        \n",
    "def augment(path, generator, factor):\n",
    "    dirs = os.listdir(path)\n",
    "    try:\n",
    "        dirs.remove('.DS_Store')\n",
    "    except:\n",
    "        x=1\n",
    "    for i, dir in enumerate(dirs):\n",
    "        for j in range(factor - 1):\n",
    "            augment_single_class(path + '/' + dir, generator, j)\n",
    "        print('Class ' + str(i) + ' ' + dir + ' augmented.')"
   ]
  },
  {
   "cell_type": "code",
   "execution_count": null,
   "metadata": {},
   "outputs": [],
   "source": [
    "generator = ImageDataGenerator(\n",
    "    horizontal_flip=True,\n",
    "    rotation_range=15,\n",
    "    brightness_range=(0.5, 2),\n",
    "    fill_mode='constant',\n",
    "    cval=0,\n",
    ")"
   ]
  },
  {
   "cell_type": "markdown",
   "metadata": {},
   "source": [
    "## Augmentation"
   ]
  },
  {
   "cell_type": "code",
   "execution_count": null,
   "metadata": {},
   "outputs": [],
   "source": [
    "augment('./stanford-car-dataset-by-classes-folder/train_dataset', generator, factor=2)"
   ]
  },
  {
   "cell_type": "markdown",
   "metadata": {},
   "source": [
    "## Preview"
   ]
  },
  {
   "cell_type": "code",
   "execution_count": null,
   "metadata": {
    "scrolled": false
   },
   "outputs": [],
   "source": [
    "img = load_img('stanford-car-dataset-by-classes-folder/train_dataset/Acura RL Sedan 2012/00249.jpg')\n",
    "fig = plt.figure(figsize=(10,20))\n",
    "plt.imshow(img)\n",
    "x = img_to_array(img)\n",
    "\n",
    "for i in range(5):\n",
    "    x_transformed = generator.random_transform(x)\n",
    "    img_transformed = array_to_img(x_transformed)\n",
    "    fig = plt.figure(figsize=(10,20))\n",
    "    plt.imshow(img_transformed)"
   ]
  }
 ],
 "metadata": {
  "kernelspec": {
   "display_name": "Python 3",
   "language": "python",
   "name": "python3"
  },
  "language_info": {
   "codemirror_mode": {
    "name": "ipython",
    "version": 3
   },
   "file_extension": ".py",
   "mimetype": "text/x-python",
   "name": "python",
   "nbconvert_exporter": "python",
   "pygments_lexer": "ipython3",
   "version": "3.6.3"
  }
 },
 "nbformat": 4,
 "nbformat_minor": 2
}
