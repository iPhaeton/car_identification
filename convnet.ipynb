{
 "cells": [
  {
   "cell_type": "code",
   "execution_count": 1,
   "metadata": {},
   "outputs": [
    {
     "name": "stderr",
     "output_type": "stream",
     "text": [
      "Using TensorFlow backend.\n"
     ]
    }
   ],
   "source": [
    "import pandas as pd\n",
    "import numpy as np\n",
    "import scipy\n",
    "from scipy import ndimage\n",
    "from sklearn.model_selection import train_test_split\n",
    "from matplotlib import pyplot as plt\n",
    "from IPython.display import clear_output\n",
    "\n",
    "import tensorflow as tf\n",
    "\n",
    "import keras\n",
    "from keras import layers\n",
    "from keras.layers import Input, Add, Dense, Activation, ZeroPadding2D, BatchNormalization, Flatten, Conv2D, AveragePooling2D, MaxPooling2D, GlobalMaxPooling2D, Dropout\n",
    "from keras.models import Model, Sequential\n",
    "from keras.preprocessing.image import ImageDataGenerator, img_to_array, load_img  \n",
    "from keras.utils.np_utils import to_categorical  \n",
    "from keras import regularizers\n",
    "from keras.utils.np_utils import to_categorical\n",
    "\n",
    "from constants import num_class"
   ]
  },
  {
   "cell_type": "markdown",
   "metadata": {},
   "source": [
    "## Callbacks"
   ]
  },
  {
   "cell_type": "code",
   "execution_count": 2,
   "metadata": {},
   "outputs": [],
   "source": [
    "class PlotLosses(keras.callbacks.Callback):\n",
    "    def on_train_begin(self, logs={}):\n",
    "        self.i = 0\n",
    "        self.x = []\n",
    "        self.losses = []\n",
    "        self.acc = []\n",
    "        self.val_losses = []\n",
    "        self.val_acc = []\n",
    "        \n",
    "        self.logs = []\n",
    "\n",
    "    def on_epoch_end(self, epoch, logs={}):\n",
    "        f, (ax1, ax2) = plt.subplots(2, sharex=True, sharey=False)\n",
    "        self.ax1 = ax1\n",
    "        self.ax2 = ax2\n",
    "    \n",
    "        self.logs.append(logs)\n",
    "        self.x.append(self.i)\n",
    "        self.losses.append(logs.get('loss'))\n",
    "        self.acc.append(logs.get('categorical_accuracy'))\n",
    "        self.val_losses.append(logs.get('val_loss'))\n",
    "        self.val_acc.append(logs.get('val_categorical_accuracy'))\n",
    "        self.i += 1\n",
    "        \n",
    "        clear_output(wait=True)\n",
    "        self.ax1.plot(self.x, self.losses, label=\"loss\")\n",
    "        self.ax1.plot(self.x, self.val_losses, label=\"val loss\")\n",
    "        self.ax1.legend()\n",
    "        self.ax2.plot(self.x, self.acc, label=\"accuracy\")\n",
    "        self.ax2.plot(self.x, self.val_acc, label=\"val accuracy\")\n",
    "        self.ax2.legend()\n",
    "        plt.show()\n",
    "        \n",
    "        for i in range(self.i):\n",
    "            print('Epoch ' + str(i+1))\n",
    "            print('-----------------------')\n",
    "            print('- Loss:', self.losses[i])\n",
    "            print('- Accuracy:', self.acc[i])\n",
    "            print('- Validation loss:', self.val_losses[i])\n",
    "            print('- Validation accuracy:', self.val_acc[i])\n",
    "            print(' ')\n",
    "            \n",
    "checkpoint = keras.callbacks.ModelCheckpoint(\n",
    "    './convnet_weights/weights.{epoch:02d}-{val_loss:.2f}.hdf5', \n",
    "    monitor='val_loss', \n",
    "    verbose=0, \n",
    "    save_best_only=False, \n",
    "    save_weights_only=True, \n",
    "    mode='auto', \n",
    "    period=1,\n",
    ")"
   ]
  },
  {
   "cell_type": "markdown",
   "metadata": {},
   "source": [
    "## Data"
   ]
  },
  {
   "cell_type": "code",
   "execution_count": 3,
   "metadata": {},
   "outputs": [],
   "source": [
    "train_labels = to_categorical(np.load('./features/res_net/classes_train_make.npy'))\n",
    "dev_labels = to_categorical(np.load('./features/res_net/classes_dev_make.npy'))"
   ]
  },
  {
   "cell_type": "code",
   "execution_count": 4,
   "metadata": {},
   "outputs": [],
   "source": [
    "train_data_1 = np.load('./features/res_net/features_train.npy')\n",
    "dev_data_1 = np.load('./features/res_net/features_dev.npy')"
   ]
  },
  {
   "cell_type": "code",
   "execution_count": 5,
   "metadata": {},
   "outputs": [],
   "source": [
    "train_data_2 = np.load('./features/inception/features_train.npy')\n",
    "dev_data_2 = np.load('./features/inception/features_dev.npy')"
   ]
  },
  {
   "cell_type": "code",
   "execution_count": 6,
   "metadata": {},
   "outputs": [],
   "source": [
    "train_data_3 = np.load('./features/xception/features_train.npy')\n",
    "dev_data_3 = np.load('./features/xception/features_dev.npy')"
   ]
  },
  {
   "cell_type": "code",
   "execution_count": 7,
   "metadata": {},
   "outputs": [],
   "source": [
    "train_data = np.concatenate([train_data_1, train_data_2, train_data_3], axis=1)\n",
    "dev_data = np.concatenate([dev_data_1, dev_data_2, dev_data_3], axis=1)\n",
    "train_data_1 = None\n",
    "train_data_2 = None\n",
    "train_data_3 = None\n",
    "dev_data_1 = None\n",
    "dev_data_2 = None\n",
    "dev_data_3 = None"
   ]
  },
  {
   "cell_type": "markdown",
   "metadata": {},
   "source": [
    "## Top Model"
   ]
  },
  {
   "cell_type": "code",
   "execution_count": 8,
   "metadata": {},
   "outputs": [],
   "source": [
    "def model(train_data, dev_data, lr = 0.00001):\n",
    "    inputs = Input(shape=(train_data.shape[1:]))\n",
    "    X = Dropout(0.5)(inputs)\n",
    "    X = Dense(4096, activation='relu')(X)\n",
    "    X = Dropout(0.5)(X)\n",
    "    X = Dense(2048, activation='relu')(X)\n",
    "    X = Dense(2048, activation='relu')(X)\n",
    "    X = Dense(1024, activation='relu')(X)\n",
    "\n",
    "    outputs = Dense(\n",
    "        train_labels.shape[1], \n",
    "        activation='softmax', \n",
    "        #activity_regularizer=regularizers.l2(100.)\n",
    "    )(X)\n",
    "\n",
    "    top_model = Model(inputs=inputs, outputs=outputs)\n",
    "\n",
    "    top_model.compile(optimizer=tf.train.AdamOptimizer(lr),\n",
    "                  loss='categorical_crossentropy',\n",
    "                  metrics=['categorical_accuracy'])\n",
    "    \n",
    "    return top_model"
   ]
  },
  {
   "cell_type": "markdown",
   "metadata": {},
   "source": [
    "## Concatenation"
   ]
  },
  {
   "cell_type": "code",
   "execution_count": 9,
   "metadata": {},
   "outputs": [],
   "source": [
    "plot_losses = PlotLosses()\n",
    "top_model = model(train_data, dev_data, 0.000001)"
   ]
  },
  {
   "cell_type": "code",
   "execution_count": 10,
   "metadata": {},
   "outputs": [
    {
     "name": "stdout",
     "output_type": "stream",
     "text": [
      "_________________________________________________________________\n",
      "Layer (type)                 Output Shape              Param #   \n",
      "=================================================================\n",
      "input_1 (InputLayer)         (None, 6144)              0         \n",
      "_________________________________________________________________\n",
      "dropout_1 (Dropout)          (None, 6144)              0         \n",
      "_________________________________________________________________\n",
      "dense_1 (Dense)              (None, 4096)              25169920  \n",
      "_________________________________________________________________\n",
      "dropout_2 (Dropout)          (None, 4096)              0         \n",
      "_________________________________________________________________\n",
      "dense_2 (Dense)              (None, 2048)              8390656   \n",
      "_________________________________________________________________\n",
      "dense_3 (Dense)              (None, 2048)              4196352   \n",
      "_________________________________________________________________\n",
      "dense_4 (Dense)              (None, 1024)              2098176   \n",
      "_________________________________________________________________\n",
      "dense_5 (Dense)              (None, 49)                50225     \n",
      "=================================================================\n",
      "Total params: 39,905,329\n",
      "Trainable params: 39,905,329\n",
      "Non-trainable params: 0\n",
      "_________________________________________________________________\n"
     ]
    }
   ],
   "source": [
    "top_model.summary()"
   ]
  },
  {
   "cell_type": "code",
   "execution_count": 11,
   "metadata": {
    "scrolled": true
   },
   "outputs": [
    {
     "data": {
      "image/png": "[encoded data removed]",
      "text/plain": [
       "<Figure size 432x288 with 2 Axes>"
      ]
     },
     "metadata": {},
     "output_type": "display_data"
    },
    {
     "name": "stdout",
     "output_type": "stream",
     "text": [
      "Epoch 1\n",
      "-----------------------\n",
      "- Loss: 1.32526197613\n",
      "- Accuracy: 0.587554381641\n",
      "- Validation loss: 1.38308166306\n",
      "- Validation accuracy: 0.584968305717\n",
      " \n",
      "Epoch 2\n",
      "-----------------------\n",
      "- Loss: 1.33420244784\n",
      "- Accuracy: 0.581883157203\n",
      "- Validation loss: 1.37914043264\n",
      "- Validation accuracy: 0.588892242617\n",
      " \n",
      "Epoch 3\n",
      "-----------------------\n",
      "- Loss: 1.31748240234\n",
      "- Accuracy: 0.590972653859\n",
      "- Validation loss: 1.37682585989\n",
      "- Validation accuracy: 0.585873829412\n",
      " \n",
      "Epoch 4\n",
      "-----------------------\n",
      "- Loss: 1.32470472982\n",
      "- Accuracy: 0.587632069608\n",
      "- Validation loss: 1.37973572123\n",
      "- Validation accuracy: 0.586477511875\n",
      " \n",
      "Epoch 5\n",
      "-----------------------\n",
      "- Loss: 1.33242245073\n",
      "- Accuracy: 0.58421379739\n",
      "- Validation loss: 1.3721367781\n",
      "- Validation accuracy: 0.58949592419\n",
      " \n",
      "Epoch 6\n",
      "-----------------------\n",
      "- Loss: 1.33468414412\n",
      "- Accuracy: 0.576600372791\n",
      "- Validation loss: 1.37855753285\n",
      "- Validation accuracy: 0.586477511875\n",
      " \n",
      "Epoch 7\n",
      "-----------------------\n",
      "- Loss: 1.32530004523\n",
      "- Accuracy: 0.58778744547\n",
      "- Validation loss: 1.38232283825\n",
      "- Validation accuracy: 0.584062782023\n",
      " \n",
      "Epoch 8\n",
      "-----------------------\n",
      "- Loss: 1.31900271501\n",
      "- Accuracy: 0.59035114982\n",
      "- Validation loss: 1.3781256295\n",
      "- Validation accuracy: 0.585571988306\n",
      " \n",
      "Epoch 9\n",
      "-----------------------\n",
      "- Loss: 1.32705262057\n",
      "- Accuracy: 0.584990677476\n",
      "- Validation loss: 1.37672700927\n",
      "- Validation accuracy: 0.585571988306\n",
      " \n",
      "Epoch 10\n",
      "-----------------------\n",
      "- Loss: 1.32076413139\n",
      "- Accuracy: 0.585612181627\n",
      "- Validation loss: 1.3751883061\n",
      "- Validation accuracy: 0.587081194338\n",
      " \n",
      "Epoch 11\n",
      "-----------------------\n",
      "- Loss: 1.3197530471\n",
      "- Accuracy: 0.590894965743\n",
      "- Validation loss: 1.36633141682\n",
      "- Validation accuracy: 0.589797765421\n",
      " \n",
      "Epoch 12\n",
      "-----------------------\n",
      "- Loss: 1.30779870946\n",
      "- Accuracy: 0.582426973312\n",
      "- Validation loss: 1.38280805425\n",
      "- Validation accuracy: 0.585571988432\n",
      " \n",
      "Epoch 13\n",
      "-----------------------\n",
      "- Loss: 1.30167631921\n",
      "- Accuracy: 0.594934741965\n",
      "- Validation loss: 1.36767953442\n",
      "- Validation accuracy: 0.591306971831\n",
      " \n",
      "Epoch 14\n",
      "-----------------------\n",
      "- Loss: 1.31172391863\n",
      "- Accuracy: 0.585845245568\n",
      "- Validation loss: 1.37300415087\n",
      "- Validation accuracy: 0.585571988306\n",
      " \n",
      "Epoch 15\n",
      "-----------------------\n",
      "- Loss: 1.31282514174\n",
      "- Accuracy: 0.593769422001\n",
      "- Validation loss: 1.36581268873\n",
      "- Validation accuracy: 0.58828855939\n",
      " \n",
      "Epoch 16\n",
      "-----------------------\n",
      "- Loss: 1.30036244739\n",
      "- Accuracy: 0.594701678209\n",
      "- Validation loss: 1.37089979461\n",
      "- Validation accuracy: 0.585873829412\n",
      " \n",
      "Epoch 17\n",
      "-----------------------\n",
      "- Loss: 1.30765139738\n",
      "- Accuracy: 0.58934120557\n",
      "- Validation loss: 1.3674636868\n",
      "- Validation accuracy: 0.589797765421\n",
      " \n",
      "Epoch 18\n",
      "-----------------------\n",
      "- Loss: 1.29310433756\n",
      "- Accuracy: 0.59446861412\n",
      "- Validation loss: 1.37170774783\n",
      "- Validation accuracy: 0.587383035695\n",
      " \n",
      "Epoch 19\n",
      "-----------------------\n",
      "- Loss: 1.3192004344\n",
      "- Accuracy: 0.59019577381\n",
      "- Validation loss: 1.36401876412\n",
      "- Validation accuracy: 0.589797765547\n",
      " \n",
      "Epoch 20\n",
      "-----------------------\n",
      "- Loss: 1.29011030987\n",
      "- Accuracy: 0.602315102696\n",
      "- Validation loss: 1.36302719795\n",
      "- Validation accuracy: 0.591005130473\n",
      " \n",
      "Epoch 21\n",
      "-----------------------\n",
      "- Loss: 1.29939341953\n",
      "- Accuracy: 0.60006215033\n",
      "- Validation loss: 1.36350917082\n",
      "- Validation accuracy: 0.59040144801\n",
      " \n",
      "Epoch 22\n",
      "-----------------------\n",
      "- Loss: 1.29069883628\n",
      "- Accuracy: 0.594934742113\n",
      "- Validation loss: 1.36714930665\n",
      "- Validation accuracy: 0.586477512765\n",
      " \n",
      "Epoch 23\n",
      "-----------------------\n",
      "- Loss: 1.29288587621\n",
      "- Accuracy: 0.593070229882\n",
      "- Validation loss: 1.36121062498\n",
      "- Validation accuracy: 0.589797765673\n",
      " \n",
      "Epoch 24\n",
      "-----------------------\n",
      "- Loss: 1.28488781424\n",
      "- Accuracy: 0.600139838409\n",
      "- Validation loss: 1.35776621364\n",
      "- Validation accuracy: 0.589797765421\n",
      " \n",
      "Epoch 25\n",
      "-----------------------\n",
      "- Loss: 1.29860782334\n",
      "- Accuracy: 0.595789310168\n",
      "- Validation loss: 1.35673458581\n",
      "- Validation accuracy: 0.591005130599\n",
      " \n",
      "Epoch 26\n",
      "-----------------------\n",
      "- Loss: 1.29008815206\n",
      "- Accuracy: 0.596410814244\n",
      "- Validation loss: 1.35951293501\n",
      "- Validation accuracy: 0.592212495525\n",
      " \n",
      "Epoch 27\n",
      "-----------------------\n",
      "- Loss: 1.28504111702\n",
      "- Accuracy: 0.593847109895\n",
      "- Validation loss: 1.36002741269\n",
      "- Validation accuracy: 0.59040144801\n",
      " \n",
      "Epoch 28\n",
      "-----------------------\n",
      "- Loss: 1.29458684577\n",
      "- Accuracy: 0.597886886376\n",
      "- Validation loss: 1.35928076482\n",
      "- Validation accuracy: 0.589797765547\n",
      " \n",
      "Epoch 29\n",
      "-----------------------\n",
      "- Loss: 1.29067115979\n",
      "- Accuracy: 0.592604101816\n",
      "- Validation loss: 1.35698987255\n",
      "- Validation accuracy: 0.593419860577\n",
      " \n",
      "Epoch 30\n",
      "-----------------------\n",
      "- Loss: 1.27906466427\n",
      "- Accuracy: 0.603247358497\n",
      "- Validation loss: 1.35554223571\n",
      "- Validation accuracy: 0.59432538402\n",
      " \n",
      "Epoch 31\n",
      "-----------------------\n",
      "- Loss: 1.29484822374\n",
      "- Accuracy: 0.597265382151\n",
      "- Validation loss: 1.35100202506\n",
      "- Validation accuracy: 0.592212495651\n",
      " \n",
      "Epoch 32\n",
      "-----------------------\n",
      "- Loss: 1.2754334401\n",
      "- Accuracy: 0.604101926774\n",
      "- Validation loss: 1.35151863156\n",
      "- Validation accuracy: 0.591608813188\n",
      " \n",
      "Epoch 33\n",
      "-----------------------\n",
      "- Loss: 1.28166711338\n",
      "- Accuracy: 0.597886886117\n",
      "- Validation loss: 1.35382605718\n",
      "- Validation accuracy: 0.590703289242\n",
      " \n",
      "Epoch 34\n",
      "-----------------------\n",
      "- Loss: 1.2761231952\n",
      "- Accuracy: 0.603946550764\n",
      "- Validation loss: 1.34684055927\n",
      "- Validation accuracy: 0.594627225629\n",
      " \n",
      "Epoch 35\n",
      "-----------------------\n",
      "- Loss: 1.27828111613\n",
      "- Accuracy: 0.600839030565\n",
      "- Validation loss: 1.35429464069\n",
      "- Validation accuracy: 0.597041955355\n",
      " \n",
      "Epoch 36\n",
      "-----------------------\n",
      "- Loss: 1.28466602339\n",
      "- Accuracy: 0.598508390416\n",
      "- Validation loss: 1.35617895455\n",
      "- Validation accuracy: 0.589797765421\n",
      " \n",
      "Epoch 37\n",
      "-----------------------\n",
      "- Loss: 1.28106111884\n",
      "- Accuracy: 0.599052206488\n",
      "- Validation loss: 1.35573859968\n",
      "- Validation accuracy: 0.592212496029\n",
      " \n",
      "Epoch 38\n",
      "-----------------------\n",
      "- Loss: 1.26574249324\n",
      "- Accuracy: 0.603169670714\n",
      "- Validation loss: 1.34849615915\n",
      "- Validation accuracy: 0.593721701935\n",
      " \n",
      "Epoch 39\n",
      "-----------------------\n",
      "- Loss: 1.27980450416\n",
      "- Accuracy: 0.601460534456\n",
      "- Validation loss: 1.35047363537\n",
      "- Validation accuracy: 0.594023542914\n",
      " \n",
      "Epoch 40\n",
      "-----------------------\n",
      "- Loss: 1.27047436196\n",
      "- Accuracy: 0.603480422512\n",
      "- Validation loss: 1.3537071242\n",
      "- Validation accuracy: 0.592212495525\n",
      " \n",
      "Epoch 41\n",
      "-----------------------\n",
      "- Loss: 1.27615432238\n",
      "- Accuracy: 0.600761342523\n",
      "- Validation loss: 1.3558997756\n",
      "- Validation accuracy: 0.590703289494\n",
      " \n",
      "Epoch 42\n",
      "-----------------------\n",
      "- Loss: 1.27534353251\n",
      "- Accuracy: 0.604490366761\n",
      "- Validation loss: 1.34968475816\n",
      "- Validation accuracy: 0.596438273018\n",
      " \n",
      "Epoch 43\n",
      "-----------------------\n",
      "- Loss: 1.26673820776\n",
      "- Accuracy: 0.60658794271\n",
      "- Validation loss: 1.34519930822\n",
      "- Validation accuracy: 0.59402354304\n",
      " \n",
      "Epoch 44\n",
      "-----------------------\n",
      "- Loss: 1.26284341334\n",
      "- Accuracy: 0.605344934779\n",
      "- Validation loss: 1.35104578084\n",
      "- Validation accuracy: 0.591608813566\n",
      " \n",
      "Epoch 45\n",
      "-----------------------\n",
      "- Loss: 1.26074682955\n",
      "- Accuracy: 0.604179614593\n",
      "- Validation loss: 1.34904363715\n",
      "- Validation accuracy: 0.593721701935\n",
      " \n",
      "Epoch 46\n",
      "-----------------------\n",
      "- Loss: 1.25847244033\n",
      "- Accuracy: 0.605966438745\n",
      "- Validation loss: 1.34485351579\n",
      "- Validation accuracy: 0.595230908344\n",
      " \n",
      "Epoch 47\n",
      "-----------------------\n",
      "- Loss: 1.27622780991\n",
      "- Accuracy: 0.600683654518\n",
      "- Validation loss: 1.34860027074\n",
      "- Validation accuracy: 0.59674011425\n",
      " \n",
      "Epoch 48\n",
      "-----------------------\n",
      "- Loss: 1.24446041677\n",
      "- Accuracy: 0.611171534967\n",
      "- Validation loss: 1.34342390171\n",
      "- Validation accuracy: 0.59553274945\n",
      " \n",
      "Epoch 49\n",
      "-----------------------\n",
      "- Loss: 1.25848238567\n",
      "- Accuracy: 0.61474518327\n",
      "- Validation loss: 1.34540364557\n",
      "- Validation accuracy: 0.599758526817\n",
      " \n",
      "Epoch 50\n",
      "-----------------------\n",
      "- Loss: 1.25352525074\n",
      "- Accuracy: 0.605034182833\n",
      "- Validation loss: 1.34073275394\n",
      "- Validation accuracy: 0.593721702187\n",
      " \n"
     ]
    },
    {
     "data": {
      "text/plain": [
       "<keras.callbacks.History at 0x7fcd5198a518>"
      ]
     },
     "execution_count": 11,
     "metadata": {},
     "output_type": "execute_result"
    }
   ],
   "source": [
    "top_model.load_weights('./convnet_weights/weights.02-1.38.hdf5')\n",
    "\n",
    "top_model.fit(\n",
    "    train_data, train_labels,\n",
    "    batch_size=128,\n",
    "    epochs=50,\n",
    "    callbacks=[plot_losses, checkpoint], \n",
    "    validation_data=(dev_data, dev_labels),\n",
    ")"
   ]
  },
  {
   "cell_type": "markdown",
   "metadata": {},
   "source": [
    "## Averaging"
   ]
  },
  {
   "cell_type": "code",
   "execution_count": null,
   "metadata": {},
   "outputs": [],
   "source": [
    "plot_losses = PlotLosses()\n",
    "top_model_1 = model(train_data_1, dev_data_1, 0.00001)"
   ]
  },
  {
   "cell_type": "code",
   "execution_count": null,
   "metadata": {},
   "outputs": [],
   "source": [
    "#top_model.load_weights('./model_1/weights.50-10.92.hdf5')\n",
    "\n",
    "top_model_1.fit(\n",
    "    train_data_1, train_labels,\n",
    "    batch_size=batch_size,\n",
    "    epochs=epochs,\n",
    "    callbacks=[plot_losses, checkpoint], \n",
    "    validation_data=(dev_data_1, dev_labels),\n",
    ")"
   ]
  },
  {
   "cell_type": "code",
   "execution_count": null,
   "metadata": {},
   "outputs": [],
   "source": [
    "plot_losses = PlotLosses()\n",
    "top_model_2 = model(train_data_2, dev_data_2, 0.00001)"
   ]
  },
  {
   "cell_type": "code",
   "execution_count": null,
   "metadata": {},
   "outputs": [],
   "source": [
    "#top_model.load_weights('./model_1/weights.50-10.92.hdf5')\n",
    "\n",
    "top_model_2.fit(\n",
    "    train_data_2, train_labels,\n",
    "    batch_size=batch_size,\n",
    "    epochs=epochs,\n",
    "    callbacks=[plot_losses, checkpoint], \n",
    "    validation_data=(dev_data_2, dev_labels),\n",
    ")"
   ]
  },
  {
   "cell_type": "markdown",
   "metadata": {},
   "source": [
    "### Predictions"
   ]
  },
  {
   "cell_type": "code",
   "execution_count": null,
   "metadata": {},
   "outputs": [],
   "source": [
    "real_classes = np.load('./data/bottleneck_features/res_net/classes.npy')\n",
    "real_classes"
   ]
  },
  {
   "cell_type": "code",
   "execution_count": null,
   "metadata": {},
   "outputs": [],
   "source": [
    "top_model_1.load_weights('./best_models/weights.13-2.82.hdf5')\n",
    "predictions_1 = top_model_1.predict(dev_data_1)"
   ]
  },
  {
   "cell_type": "code",
   "execution_count": null,
   "metadata": {},
   "outputs": [],
   "source": [
    "top_model_2.load_weights('./best_models/weights.13-2.82.hdf5')\n",
    "predictions_2 = top_model_2.predict(dev_data_2)"
   ]
  },
  {
   "cell_type": "code",
   "execution_count": null,
   "metadata": {},
   "outputs": [],
   "source": [
    "predictions = np.stack([predictions_1, predictions_2], axis=0)\n",
    "#predictions = np.max(predictions, axis=0)\n",
    "predictions = np.mean(predictions, axis=0)"
   ]
  },
  {
   "cell_type": "code",
   "execution_count": null,
   "metadata": {},
   "outputs": [],
   "source": [
    "predicted_classes = np.argmax(predictions, axis=1)\n",
    "predicted_classes"
   ]
  },
  {
   "cell_type": "code",
   "execution_count": null,
   "metadata": {},
   "outputs": [],
   "source": [
    "filenames = np.load('./data/bottleneck_features/vgg16/filenames.npy')"
   ]
  },
  {
   "cell_type": "code",
   "execution_count": null,
   "metadata": {},
   "outputs": [],
   "source": [
    "predictions_df = pd.DataFrame({\n",
    "    \"filenames\": filenames,\n",
    "    \"real\": real_classes,\n",
    "    \"predictions\": predicted_classes\n",
    "})"
   ]
  },
  {
   "cell_type": "code",
   "execution_count": null,
   "metadata": {},
   "outputs": [],
   "source": [
    "wrong_answers = predictions_df[predictions_df['real'] != predictions_df['predictions']]\n",
    "wrong_answers.shape"
   ]
  },
  {
   "cell_type": "code",
   "execution_count": null,
   "metadata": {},
   "outputs": [],
   "source": [
    "wrong_answers['real'].value_counts()[0:10]"
   ]
  },
  {
   "cell_type": "code",
   "execution_count": null,
   "metadata": {},
   "outputs": [],
   "source": [
    "predictions_df[predictions_df['real'] == 71]['real'].value_counts()"
   ]
  },
  {
   "cell_type": "code",
   "execution_count": null,
   "metadata": {
    "scrolled": false
   },
   "outputs": [],
   "source": [
    "for filename in wrong_answers['filenames'][0:10]:\n",
    "    image = np.array(ndimage.imread('./data/dev_dataset/' + filename, flatten=False))\n",
    "    plt.figure()\n",
    "    plt.imshow(image)"
   ]
  }
 ],
 "metadata": {
  "kernelspec": {
   "display_name": "Python 3",
   "language": "python",
   "name": "python3"
  },
  "language_info": {
   "codemirror_mode": {
    "name": "ipython",
    "version": 3
   },
   "file_extension": ".py",
   "mimetype": "text/x-python",
   "name": "python",
   "nbconvert_exporter": "python",
   "pygments_lexer": "ipython3",
   "version": "3.6.3"
  }
 },
 "nbformat": 4,
 "nbformat_minor": 2
}
