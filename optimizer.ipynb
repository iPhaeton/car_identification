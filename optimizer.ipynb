{
 "cells": [
  {
   "cell_type": "code",
   "execution_count": null,
   "metadata": {},
   "outputs": [],
   "source": [
    "from modules.lstm_encoder import LSTMEncoder\n",
    "from keras.regularizers import l2\n",
    "from keras.layers import LSTM, SimpleRNN, Input, Bidirectional, TimeDistributed, Dropout, Dense, Activation, BatchNormalization\n",
    "from keras.initializers import glorot_uniform\n",
    "from modules.optimizer import Optimizer\n",
    "from modules.callbacks import OptimizationHistory"
   ]
  },
  {
   "cell_type": "code",
   "execution_count": null,
   "metadata": {},
   "outputs": [],
   "source": [
    "callbacks = OptimizationHistory()"
   ]
  },
  {
   "cell_type": "code",
   "execution_count": null,
   "metadata": {},
   "outputs": [],
   "source": [
    "layers = [\n",
    "    Dropout(0.2),\n",
    "    Dense(4096, activation='relu'),\n",
    "    Dropout(0.2),\n",
    "    Dense(2048, activation='relu'),\n",
    "    Dense(2048, activation='relu'),\n",
    "    Bidirectional(LSTM(1024, return_sequences=True)),\n",
    "]"
   ]
  },
  {
   "cell_type": "code",
   "execution_count": null,
   "metadata": {},
   "outputs": [],
   "source": [
    "optimizer = Optimizer(LSTMEncoder, source_path='./features/lstm/2_steps/')"
   ]
  },
  {
   "cell_type": "code",
   "execution_count": null,
   "metadata": {},
   "outputs": [],
   "source": [
    "history = optimizer.optimize(\n",
    "    models=[layers], \n",
    "    initializers=[glorot_uniform], \n",
    "    regularizers=[l2], \n",
    "    learning_rates=[-5, 5], \n",
    "    reg_strengths=[-5, 5], \n",
    "    ranges_size=5,\n",
    "    epochs=5,\n",
    "    callbacks=callbacks)"
   ]
  }
 ],
 "metadata": {
  "kernelspec": {
   "display_name": "Python 3",
   "language": "python",
   "name": "python3"
  },
  "language_info": {
   "codemirror_mode": {
    "name": "ipython",
    "version": 3
   },
   "file_extension": ".py",
   "mimetype": "text/x-python",
   "name": "python",
   "nbconvert_exporter": "python",
   "pygments_lexer": "ipython3",
   "version": "3.6.3"
  }
 },
 "nbformat": 4,
 "nbformat_minor": 2
}
