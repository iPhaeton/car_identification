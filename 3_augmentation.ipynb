{
 "cells": [
  {
   "cell_type": "code",
   "execution_count": null,
   "metadata": {},
   "outputs": [],
   "source": [
    "from keras.preprocessing.image import ImageDataGenerator, img_to_array, load_img, array_to_img, save_img\n",
    "import os\n",
    "from matplotlib import pyplot as plt\n",
    "import numpy as np\n",
    "import os\n",
    "from constants import class_type_to_index\n",
    "import math"
   ]
  },
  {
   "cell_type": "code",
   "execution_count": null,
   "metadata": {},
   "outputs": [],
   "source": [
    "def augment_single_class(dir_path, filename_tupels, generator, factor, limit):\n",
    "    count = len(filename_tupels)\n",
    "    for iteration in range(factor):\n",
    "        for filename_tuple in filename_tupels:\n",
    "            if count >= limit:\n",
    "                break\n",
    "\n",
    "            img = load_img(dir_path + '/' + filename_tuple[0] + '/' + filename_tuple[1])\n",
    "            x = img_to_array(img)\n",
    "            x_transformed = generator.random_transform(x)\n",
    "\n",
    "            should_mess_up_colors = np.random.choice([0,1])\n",
    "            if should_mess_up_colors == 1:\n",
    "                x_transformed = mess_up_colors(x_transformed)\n",
    "            else:\n",
    "                x_transformed = swith_colors(x_transformed)\n",
    "\n",
    "            img_transformed = array_to_img(x_transformed)\n",
    "            save_img(dir_path +'/' + filename_tuple[0] + '/_' + str(iteration) + '_' + filename_tuple[1], img_transformed)\n",
    "            \n",
    "            count += 1\n",
    "\n",
    "def swith_colors(x):\n",
    "    channels = np.random.permutation(x.shape[2])\n",
    "    x = x[:,:,channels]\n",
    "    return x\n",
    "\n",
    "def mess_up_colors(x):\n",
    "    for channel in range(3):\n",
    "        intensity = np.random.uniform(0,1.5)\n",
    "        x[:,:,channel] *= intensity\n",
    "    return np.clip(x, 0, 255)"
   ]
  },
  {
   "cell_type": "code",
   "execution_count": null,
   "metadata": {},
   "outputs": [],
   "source": [
    "def get_dirnames(path):\n",
    "    dirnames = sorted(os.listdir(path))\n",
    "    try:\n",
    "        dirnames.remove('.DS_Store')\n",
    "    except:\n",
    "        x=1\n",
    "    dirnames = dirnames[0:91] #todo: use all classes\n",
    "    dirnames = np.array(dirnames)\n",
    "    \n",
    "    return dirnames\n",
    "\n",
    "def get_filenames(path, dirname):\n",
    "    files = os.listdir(path + dirname)\n",
    "    try:\n",
    "        files.remove('.DS_Store')\n",
    "    except:\n",
    "        x=1\n",
    "    return files\n",
    "\n",
    "def divide_files_into_classes(class_types, path):\n",
    "    classes_to_files = {}\n",
    "    dirnames = get_dirnames(path)\n",
    "    class_indices = list(map(lambda t: class_type_to_index[t], class_types))\n",
    "    for dirname in dirnames:\n",
    "        classname = ''\n",
    "        if dirname == '.DS_Store':\n",
    "            continue\n",
    "        classnames = dirname.split(' ')\n",
    "        for index in class_indices:\n",
    "            classname += classnames[index] + ' '\n",
    "        classname = classname.strip()\n",
    "        \n",
    "        filenames = get_filenames(path, dirname)\n",
    "        if (len(filenames) == 0):\n",
    "            print(path, dirname)\n",
    "        filename_tuples = list(map(lambda f: (dirname, f), filenames))\n",
    "        \n",
    "        if classname in classes_to_files:\n",
    "            classes_to_files[classname] = np.concatenate([classes_to_files[classname], np.array(filename_tuples)])\n",
    "        else:\n",
    "            classes_to_files[classname] = np.array(filename_tuples)\n",
    "    \n",
    "    return classes_to_files\n",
    "\n",
    "def augment(data_dir, class_types, generator, factor):\n",
    "    classes_to_files = divide_files_into_classes(class_types, data_dir)\n",
    "\n",
    "    max_files_in_class = 0\n",
    "    biggest_class = ''\n",
    "    for cl, filename_tuples in classes_to_files.items():\n",
    "        if len(filename_tuples) > max_files_in_class:\n",
    "            max_files_in_class = len(filename_tuples)\n",
    "            biggest_class = cl\n",
    "    \n",
    "    augmented_num_files = factor * max_files_in_class\n",
    "    print('Augmented number of files in each class:', augmented_num_files)\n",
    "    print('Biggest class:', biggest_class)\n",
    "    \n",
    "    count = 0\n",
    "    for c, filename_tuples in classes_to_files.items():\n",
    "        class_factor = math.ceil(augmented_num_files / len(filename_tuples))\n",
    "        augment_single_class(data_dir, filename_tuples, generator, class_factor, augmented_num_files)\n",
    "        print('Class ' + str(count) + ' ' + c + ' augmented.')\n",
    "        count += 1\n"
   ]
  },
  {
   "cell_type": "code",
   "execution_count": null,
   "metadata": {},
   "outputs": [],
   "source": [
    "generator = ImageDataGenerator(\n",
    "    horizontal_flip=True,\n",
    "    rotation_range=15,\n",
    "    shear_range=15,\n",
    "    brightness_range=(0.5, 2),\n",
    "    fill_mode='constant',\n",
    "    cval=0,\n",
    ")"
   ]
  },
  {
   "cell_type": "markdown",
   "metadata": {},
   "source": [
    "## Preview"
   ]
  },
  {
   "cell_type": "code",
   "execution_count": null,
   "metadata": {
    "scrolled": false
   },
   "outputs": [],
   "source": [
    "img = load_img('stanford-car-dataset-by-classes-folder/datasets/train_dataset/Acura RL Sedan 2012/00249.jpg')\n",
    "fig = plt.figure(figsize=(10,20))\n",
    "plt.imshow(img)\n",
    "x = img_to_array(img)\n",
    "\n",
    "for i in range(20):\n",
    "    x_transformed = generator.random_transform(x)\n",
    "    should_mess_up_colors = np.random.choice([0,1])\n",
    "    if should_mess_up_colors == 1:\n",
    "        x_transformed = mess_up_colors(x_transformed)\n",
    "    else:\n",
    "        x_transformed = swith_colors(x_transformed)\n",
    "    img_transformed = array_to_img(x_transformed)\n",
    "    fig = plt.figure(figsize=(10,20))\n",
    "    plt.imshow(img_transformed)"
   ]
  },
  {
   "cell_type": "markdown",
   "metadata": {},
   "source": [
    "## Augmentation"
   ]
  },
  {
   "cell_type": "code",
   "execution_count": null,
   "metadata": {},
   "outputs": [],
   "source": [
    "augment('./stanford-car-dataset-by-classes-folder/train_dataset/', ['make', 'model'], generator, 2)"
   ]
  }
 ],
 "metadata": {
  "kernelspec": {
   "display_name": "Python 3",
   "language": "python",
   "name": "python3"
  },
  "language_info": {
   "codemirror_mode": {
    "name": "ipython",
    "version": 3
   },
   "file_extension": ".py",
   "mimetype": "text/x-python",
   "name": "python",
   "nbconvert_exporter": "python",
   "pygments_lexer": "ipython3",
   "version": "3.6.7"
  }
 },
 "nbformat": 4,
 "nbformat_minor": 2
}
