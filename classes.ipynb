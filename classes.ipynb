{
 "cells": [
  {
   "cell_type": "code",
   "execution_count": 1,
   "metadata": {},
   "outputs": [],
   "source": [
    "import numpy as np"
   ]
  },
  {
   "cell_type": "code",
   "execution_count": 2,
   "metadata": {},
   "outputs": [],
   "source": [
    "class_type_to_index = {\n",
    "    'make': 0,\n",
    "    'model': 1,\n",
    "    'body': 2,\n",
    "    'year': 3,\n",
    "}"
   ]
  },
  {
   "cell_type": "code",
   "execution_count": 3,
   "metadata": {},
   "outputs": [],
   "source": [
    "def get_class_to_index_map(class_names):\n",
    "    unique = np.unique(class_names)\n",
    "    class_to_index = {}\n",
    "    for i, cl in enumerate(unique):\n",
    "        class_to_index[cl] = i\n",
    "    return class_to_index\n",
    "\n",
    "def define_classes(class_type, net_name, source, type_map, save=True):\n",
    "    filenames_train = np.load(source + '/' + net_name + '/filenames_train.npy')\n",
    "    filenames_dev = np.load(source + '/' + net_name + '/filenames_dev.npy')\n",
    "    filenames_train = map(lambda f: f.split('/')[0], filenames_train)\n",
    "    filenames_dev = map(lambda f: f.split('/')[0], filenames_dev)\n",
    "    \n",
    "    class_names_train = list(map(lambda f: f.split(' ')[type_map[class_type]], filenames_train))\n",
    "    class_names_dev = list(map(lambda f: f.split(' ')[type_map[class_type]], filenames_dev))\n",
    "    \n",
    "    class_to_index = get_class_to_index_map(list(class_names_dev))\n",
    "\n",
    "    classes_train = map(lambda c: class_to_index[c], class_names_train)\n",
    "    classes_dev = map(lambda c: class_to_index[c], class_names_dev)\n",
    "    classes_train = np.array(list(classes_train)) \n",
    "    classes_dev = np.array(list(classes_dev))\n",
    "    \n",
    "    if save == True:\n",
    "        np.save(source + '/' + net_name + '/classes_train_' + class_type + '.npy', classes_train)\n",
    "        np.save(source + '/' + net_name + '/classes_dev_' + class_type + '.npy', classes_dev)\n",
    "    \n",
    "    return classes_train, classes_dev"
   ]
  },
  {
   "cell_type": "code",
   "execution_count": 4,
   "metadata": {},
   "outputs": [],
   "source": [
    "def get_combined_classnames(classes_to_combine, filenames, type_map):\n",
    "    classnames = []\n",
    "    for i, filename in enumerate(filenames):\n",
    "        split_filename = filename.split(' ')\n",
    "        classname = ''\n",
    "        for class_type in classes_to_combine:\n",
    "            classname += split_filename[type_map[class_type]] + ' '\n",
    "        classnames.append(classname.strip())\n",
    "    return classnames\n",
    "\n",
    "def combine_classes(classes_to_combine, net_name, source, type_map, save=True):\n",
    "    filenames_train = np.load(source + '/' + net_name + '/filenames_train.npy')\n",
    "    filenames_dev = np.load(source + '/' + net_name + '/filenames_dev.npy')\n",
    "    filenames_train = map(lambda f: f.split('/')[0], filenames_train)\n",
    "    filenames_dev = map(lambda f: f.split('/')[0], filenames_dev)\n",
    "    \n",
    "    class_names_train = get_combined_classnames(classes_to_combine, filenames_train, type_map)\n",
    "    class_names_dev = get_combined_classnames(classes_to_combine, filenames_dev, type_map)\n",
    "    \n",
    "    class_to_index = get_class_to_index_map(list(class_names_dev))\n",
    "\n",
    "    classes_train = map(lambda c: class_to_index[c], class_names_train)\n",
    "    classes_dev = map(lambda c: class_to_index[c], class_names_dev)\n",
    "    classes_train = np.array(list(classes_train)) \n",
    "    classes_dev = np.array(list(classes_dev))\n",
    "\n",
    "    if save == True:\n",
    "        class_type = ''\n",
    "        for ct in classes_to_combine:\n",
    "            class_type += ct + '-'\n",
    "        class_type = class_type[:len(class_type) - 1]\n",
    "        np.save(source + '/' + net_name + '/classes_train_' + class_type + '.npy', classes_train)\n",
    "        np.save(source + '/' + net_name + '/classes_dev_' + class_type + '.npy', classes_dev)\n",
    "    \n",
    "    return classes_train, classes_dev"
   ]
  },
  {
   "cell_type": "code",
   "execution_count": null,
   "metadata": {},
   "outputs": [],
   "source": [
    "classes_train, classes_dev = define_classes('make', 'res_net', './features', class_type_to_index)"
   ]
  },
  {
   "cell_type": "code",
   "execution_count": null,
   "metadata": {},
   "outputs": [],
   "source": [
    "classes_train, classes_dev = define_classes('make', 'inception', './features', class_type_to_index)"
   ]
  },
  {
   "cell_type": "code",
   "execution_count": null,
   "metadata": {},
   "outputs": [],
   "source": [
    "classes_train, classes_dev = define_classes('make', 'xception', './features', class_type_to_index)"
   ]
  },
  {
   "cell_type": "code",
   "execution_count": null,
   "metadata": {},
   "outputs": [],
   "source": [
    "classes_train, classes_dev = define_classes('model', 'res_net', './features', class_type_to_index)"
   ]
  },
  {
   "cell_type": "code",
   "execution_count": null,
   "metadata": {},
   "outputs": [],
   "source": [
    "classes_train, classes_dev = define_classes('model', 'inception', './features', class_type_to_index)"
   ]
  },
  {
   "cell_type": "code",
   "execution_count": null,
   "metadata": {},
   "outputs": [],
   "source": [
    "classes_train, classes_dev = define_classes('model', 'xception', './features', class_type_to_index)"
   ]
  },
  {
   "cell_type": "code",
   "execution_count": null,
   "metadata": {},
   "outputs": [],
   "source": [
    "classes_train, classes_dev = define_classes('year', 'res_net', './features', class_type_to_index)"
   ]
  },
  {
   "cell_type": "code",
   "execution_count": null,
   "metadata": {},
   "outputs": [],
   "source": [
    "classes_train, classes_dev = define_classes('year', 'inception', './features', class_type_to_index)"
   ]
  },
  {
   "cell_type": "code",
   "execution_count": null,
   "metadata": {},
   "outputs": [],
   "source": [
    "classes_train, classes_dev = define_classes('year', 'xception', './features', class_type_to_index)"
   ]
  },
  {
   "cell_type": "code",
   "execution_count": 5,
   "metadata": {},
   "outputs": [],
   "source": [
    "classes_train, classes_dev = combine_classes(['make', 'model'], 'res_net', './features/', class_type_to_index)"
   ]
  },
  {
   "cell_type": "code",
   "execution_count": 7,
   "metadata": {},
   "outputs": [],
   "source": [
    "classes = np.load('./features/res_net/classes_train_make-model.npy')"
   ]
  }
 ],
 "metadata": {
  "kernelspec": {
   "display_name": "Python 3",
   "language": "python",
   "name": "python3"
  },
  "language_info": {
   "codemirror_mode": {
    "name": "ipython",
    "version": 3
   },
   "file_extension": ".py",
   "mimetype": "text/x-python",
   "name": "python",
   "nbconvert_exporter": "python",
   "pygments_lexer": "ipython3",
   "version": "3.6.3"
  }
 },
 "nbformat": 4,
 "nbformat_minor": 2
}
